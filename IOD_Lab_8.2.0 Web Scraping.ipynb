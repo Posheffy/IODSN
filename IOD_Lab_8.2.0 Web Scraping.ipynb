{
 "cells": [
  {
   "cell_type": "markdown",
   "metadata": {
    "id": "zYPZ2MKXMk4U"
   },
   "source": [
    "<div>\n",
    "<img src=https://www.institutedata.com/wp-content/uploads/2019/10/iod_h_tp_primary_c.svg width=\"300\">\n",
    "</div>"
   ]
  },
  {
   "cell_type": "markdown",
   "metadata": {
    "id": "8j6-MfKHMk4Y"
   },
   "source": [
    "# Lab 8.2: Web Scraping\n",
    "INSTRUCTIONS:\n",
    "- Read the guides and hints then create the necessary analysis and code to find an answer and conclusion for the task below."
   ]
  },
  {
   "cell_type": "markdown",
   "metadata": {
    "id": "HImUFlzCMk4c"
   },
   "source": [
    "# Web Scraping in Python (using BeautifulSoup)\n",
    "\n",
    "## Scraping Rules\n",
    "1. **Always** check a website’s **Terms and Conditions** before you scrape it. Be careful to read the statements about legal use of data. Usually, the retrieved data should not be used for commercial purposes.\n",
    "2. **Do not** request data from the website too aggressively with a program (also known as spamming), as this may break the website. Make sure the program behaves in a reasonable manner (i.e. acts like a human). One request for one webpage per second is good practice.\n",
    "3. The layout of a website may change from time to time, so make sure to revisit the site and rewrite the code as needed."
   ]
  },
  {
   "cell_type": "markdown",
   "metadata": {
    "id": "l6UcvsYfMk4f"
   },
   "source": [
    "## Find a Page\n",
    "Visit the [Fandom](http://fandom.wikia.com) website, find a wikia of your interest and based on a TV or movie character. As in Demo 8.3,  we focus on the navigation bar and aim to extract all characters from the show from the links in the text."
   ]
  },
  {
   "cell_type": "markdown",
   "metadata": {
    "id": "-NXv6z-6Mk4i"
   },
   "source": [
    "Open a web page with the browser and inspect it.\n",
    "\n",
    "Hover the cursor on the text and follow the shaded box surrounding the main text.\n",
    "\n",
    "From the result, check the main text inside a few levels of HTML tags."
   ]
  },
  {
   "cell_type": "code",
   "execution_count": 1,
   "metadata": {
    "id": "nYkrA5JuMk4m"
   },
   "outputs": [],
   "source": [
    "## Import Libraries\n",
    "import regex as re\n",
    "\n",
    "from urllib.parse import unquote\n",
    "import urllib3\n",
    "from bs4 import BeautifulSoup\n",
    "\n",
    "import warnings\n",
    "warnings.filterwarnings('ignore')"
   ]
  },
  {
   "cell_type": "markdown",
   "metadata": {
    "id": "hb3_djX0Mk4s"
   },
   "source": [
    "### Define the content to retrieve (webpage's URL)"
   ]
  },
  {
   "cell_type": "code",
   "execution_count": 2,
   "metadata": {
    "id": "Da4V87zKGgTN"
   },
   "outputs": [],
   "source": [
    "quote_page = 'https://bigbangtheory.fandom.com/wiki/Barry_Kripke' #can change this to a different character"
   ]
  },
  {
   "cell_type": "markdown",
   "metadata": {
    "id": "pKYTTGA1Mk4t"
   },
   "source": [
    "### Retrieve the page\n",
    "- Require Internet connection"
   ]
  },
  {
   "cell_type": "code",
   "execution_count": 3,
   "metadata": {
    "id": "Ag95d2TrGwAf"
   },
   "outputs": [
    {
     "name": "stdout",
     "output_type": "stream",
     "text": [
      "Type of the variable 'page': bytes\n",
      "Page Retrieved. Request Status: 200, Page Size: 270857\n"
     ]
    }
   ],
   "source": [
    "# query the website and return the html to the variable ‘page’\n",
    "http = urllib3.PoolManager()\n",
    "r = http.request('GET', quote_page)\n",
    "if r.status == 200:\n",
    "    page = r.data\n",
    "    print('Type of the variable \\'page\\':', page.__class__.__name__)\n",
    "    print('Page Retrieved. Request Status: %d, Page Size: %d' % (r.status, len(page)))\n",
    "else:\n",
    "    print('Some problem occurred. Request Status: %s' % r.status)"
   ]
  },
  {
   "cell_type": "markdown",
   "metadata": {
    "id": "w7HYoOoDMk4v"
   },
   "source": [
    "### Convert the stream of bytes into a BeautifulSoup representation"
   ]
  },
  {
   "cell_type": "code",
   "execution_count": 4,
   "metadata": {},
   "outputs": [
    {
     "name": "stdout",
     "output_type": "stream",
     "text": [
      "Type of the variable 'soup': BeautifulSoup\n"
     ]
    }
   ],
   "source": [
    "# parse the html using beautiful soup and store in variable `soup`\n",
    "soup = BeautifulSoup(page, 'html.parser')\n",
    "print('Type of the variable \\'soup\\':', soup.__class__.__name__)"
   ]
  },
  {
   "cell_type": "markdown",
   "metadata": {
    "id": "Zb0yHBblMk4w"
   },
   "source": [
    "### Check the content\n",
    "- The HTML source\n",
    "- Includes all tags and scripts\n",
    "- Can be long!"
   ]
  },
  {
   "cell_type": "code",
   "execution_count": 5,
   "metadata": {
    "id": "dvaAPSBnHUoc"
   },
   "outputs": [
    {
     "name": "stdout",
     "output_type": "stream",
     "text": [
      "<!DOCTYPE html>\n",
      "<html class=\"client-nojs\" dir=\"ltr\" lang=\"en\">\n",
      " <head>\n",
      "  <meta charset=\"utf-8\"/>\n",
      "  <title>\n",
      "   Barry Kripke | The Big Bang Theory Wiki | Fandom\n",
      "  </title>\n",
      "  <script>\n",
      "   document.documentElement.className=\"client-js\";RLCONF={\"wgBreakFrames\":false,\"wgSeparatorTransformTable\":[\"\",\"\"],\"wgDigitTransformTable\":[\"\",\"\"],\"wgDefaultDateFormat\":\"dmy\",\"wgMonthNames\":[\"\",\"January\",\"February\",\"March\",\"April\",\"May\",\"June\",\"July\",\"August\",\"September\",\"October\",\"November\",\"December\"],\"wgRequestId\":\"382a6aadd679574e23610e7aeb4800f7\",\"wgCSPNonce\":false,\"wgCanonicalNamespace\":\"\",\"wgCanonicalSpecialPageName\":false,\"wgNamespaceNumber\":0,\"wgPageName\":\"Barry_Kripke\",\"wgTitle\":\"Barry Kripke\",\"wgCurRevisionId\":409478,\"wgRevisionId\":409478,\"wgArticleId\":2273,\"wgIsArticle\":true,\"wgIsRedirect\":false,\"wgAction\":\"view\",\"wgUserName\":null,\"wgUserGroups\":[\"*\"],\"wgCategories\":[\"Characters\",\"Caltech Faculty\",\"Scientists\",\"Physicists\",\"Particle Physicists\",\"Recurring Characters\",\"Season 2 (The Big Bang Theo\n"
     ]
    }
   ],
   "source": [
    "print(soup.prettify()[:1000])"
   ]
  },
  {
   "cell_type": "markdown",
   "metadata": {
    "id": "Hy2z1218Mk4x"
   },
   "source": [
    "### Check the HTML's Title"
   ]
  },
  {
   "cell_type": "code",
   "execution_count": 6,
   "metadata": {
    "id": "uTtN6Dc0HT8C"
   },
   "outputs": [
    {
     "name": "stdout",
     "output_type": "stream",
     "text": [
      "Title tag :<title>Barry Kripke | The Big Bang Theory Wiki | Fandom</title>:\n",
      "Title text:Barry Kripke | The Big Bang Theory Wiki | Fandom:\n"
     ]
    }
   ],
   "source": [
    "print('Title tag :%s:' % soup.title)\n",
    "print('Title text:%s:' % soup.title.string)"
   ]
  },
  {
   "cell_type": "markdown",
   "metadata": {
    "id": "mAb-2Q24HGNi"
   },
   "source": [
    "###  nav tag\n",
    "- This page uses the tag `nav` for navigation links\n",
    "\n",
    "        <nav class=\"fandom-community-header__local-navigation\">"
   ]
  },
  {
   "cell_type": "markdown",
   "metadata": {
    "id": "NV3IJlHQMk4z"
   },
   "source": [
    "### Find the main content\n",
    "- Check if it is possible to use only the relevant data"
   ]
  },
  {
   "cell_type": "code",
   "execution_count": 9,
   "metadata": {
    "id": "VW5r4Wt-HmZ4"
   },
   "outputs": [
    {
     "name": "stdout",
     "output_type": "stream",
     "text": [
      "Type of the variable 'article': ResultSet\n"
     ]
    }
   ],
   "source": [
    "article_tag = 'p'\n",
    "p = soup.find_all(article_tag)\n",
    "print('Type of the variable \\'article\\':', paragraphs.__class__.__name__)"
   ]
  },
  {
   "cell_type": "code",
   "execution_count": 10,
   "metadata": {
    "id": "N2bXM1aoHqAl"
   },
   "outputs": [
    {
     "name": "stdout",
     "output_type": "stream",
     "text": [
      "\n",
      "\n",
      "Barry Kripke\n",
      "\n",
      "\n",
      "\n",
      "\n",
      "\n",
      "\t\t\t\t\t\t\tAdult\n",
      "\t\t\t\t\t\t\t\n",
      "\t\t\t\t\t\t\n",
      "\n",
      "\n",
      "\n",
      "\t\t\t\t\t\t\tYoung Adult\n",
      "\t\t\t\t\t\t\t\n",
      "\t\t\t\t\t\t\n",
      "\n",
      "\n",
      "\n",
      "\n",
      "\n",
      "\n",
      "\n",
      "\n",
      "\n",
      "\n",
      "\n",
      "\n",
      "\n",
      "\n",
      "\n",
      "\n",
      "\n",
      "\n",
      "\n",
      "General Information\n",
      "\n",
      "Name\n",
      "Barry Kripke\n",
      "\n",
      "\n",
      "Born\n",
      "Possibly May 12\n",
      "\n",
      "\n",
      "Gender\n",
      "Male\n",
      "\n",
      "\n",
      "Nicknames\n",
      "Bawwy (Siri)\n",
      "\n",
      "\n",
      "Religion\n",
      "Unknown\n",
      "\n",
      "\n",
      "Nationality\n",
      "American\n",
      "\n",
      "\n",
      "Occupation\n",
      "Physicist\n",
      "\n",
      "\n",
      "Actor\n",
      "John Ross Bowie\n",
      "\n",
      "\n",
      "\n",
      "Relationships\n",
      "\n",
      "Relationships\n",
      "Amy Farrah Fowler (crush)Beverly Hofstadter (romantic interest)\n",
      "\n",
      "\n",
      "Family\n",
      "Unknown\n",
      "\n",
      "\n",
      "\n",
      "Production\n",
      "\n",
      "First episode\n",
      "\"The Killer Robot Instability\"\n",
      "\n",
      "\n",
      "Last episode\n",
      "The Change Constant\n",
      "\n",
      "\n",
      "Number of episodes\n",
      "25\n",
      "\n",
      "\n",
      "Seasons\n",
      "S1 S2 S3 S4 S5 S6 S7 S8 S9 S10 S11 S12\n",
      "\n",
      "\n",
      "\n",
      "\"I am a stwing pwagmatist. I say I'm gonna pwove something that cannot be pwoved, I appwy for gwant money, and then I spend it on wiquor and bwoads.\"\n",
      "―Barry Kripke, The Relationship Diremption\n",
      "\n",
      "Beverly Hofstadter (romantic interest)\n",
      "Barry Kripke, Ph.D. is a Caltech plasma physicist and string theorist as well as a colleague of Leonard and Sheldon. He has a case of rhotacism, where he pronounces \"R\" and \"L\" as \"W\", much like Elmer Fudd in Looney Tunes. With a knack for ribbing people, he is a friend to Leonard, Howard, Raj and Amy. He also has an on-and-off platonic relationship with Sheldon Cooper.\n",
      "\n",
      "In his first appearance, he pitted his \"kiwwa wobot,\" the Kripke Krippler (or as he called it, the \"Kwipke Kwippwuh\"), originally designed for the Southern California Robot Fighting League Round Robin Invitational, against the guys' robot (M.O.N.T.E.) in an unofficial robot battle at the Caltech kinetics lab (\"The Killer Robot Instability\"). On another occasion, Barry ridiculed Leonard's unsuccessful anti-proton decay experiment, while Sheldon attempted to befriend Kripke in order to gain access to an open science grid computer to carry out research on structure formation in the early universe; however, Sheldon's efforts were abandoned when he realized that Kripke had no say in who used the computer. Kripke comes on to Penny the same way Howard does, after disgusting her by cleaning his gum pockets for new food, but deciding the name Penny wasn't hot enough he proceeded to call her 'Woxanne' \"Roxanne\", much to her annoyance (\"The Friendship Algorithm\").\n",
      "\n",
      "He continued to appear in Season 3, where he mocked Sheldon consistently. Kripke humiliated Sheldon for his retraction regarding his monopolar blunder, and stated that, unlike this situation, Einstein's cited mistake concerning the cosmological constant might have been right all along (\"The Electric Can Opener Fluctuation\"). He injected helium into Sheldon's office while he was doing a radio interview, sharing it via portable radio in the cafeteria. With encouragement from Leonard and Rajesh Koothrappali, Sheldon retaliated by dumping foam all over Kripke and the plasma lab while the president of the university and the board of directors were in the room, as he was showing them how a NSA grant was being put to use with a micro-controlled plasma experiment (\"The Vengeance Formulation\").\n",
      "\n",
      "A year later, he was invited to Sheldon and Leonard's apartment by Sheldon during the former's attempt to establish a new social group, along with Zack Johnson, Stuart Bloom, and (Sheldon hopes) LeVar Burton, after Sheldon becomes angry with his friends for eating at Raj's apartment. Zack impresses Barry and Stuart with his tale of a naked woman in a hot tub, and later the three end up singing karaoke using the karaoke machine Barry keeps in his car, much to Sheldon's dismay (\"The Toast Derivation\").\n",
      "\n",
      "In this season, Barry tells Sheldon, who still has some rivalry with him, as well as Rajesh Koothrappali, that Robb Rothman urinated in the particle physics lab again and his retirement potluck had to be moved up. When Raj speaks to his phone Siri, Kripke, still in their office, points out that he too has that phone and complains about voice recognition difficulties, supposedly unaware of his own rhotacism or that Siri can't acknowledge it. On the matter of the phone, he further reveals his perverse nature by stating that his phone took photos of his \"junk\" for Craigslist as Raj is offended by his negativity regarding Siri (\"The Beta Test Initiation\").\n",
      "\n",
      "In \"The Rothman Disintegration\", Barry argues with Sheldon over who will receive Robb Rothman's office, taking the issue to President Siebert, and challenging Sheldon to a basketball match, a game in which they are equally bad. He appears again in \"The Stag Convergence\" as a party guest before Howard's marriage} and he kept on complaining that there were no strippers.\n",
      "\n",
      "Kripke talking to Sheldon.\n",
      "Kripke returned in \"The Cooper/Kripke Inversion\" besting Sheldon at work and causing him to lie about sleeping with Amy (which Kripke believed to be why Sheldon's paper wasn't as good as expected). Kripke enjoyed hearing about Sheldon's \"sex life,\" prying for details.\n",
      "\n",
      "During the events of \"The Tenure Turbulence,\" Kripke impresses the tenure committee (Janine Davis) with ease, especially compared to Leonard, Sheldon, and Raj.\n",
      "\n",
      "After Sheldon retracts his paper on the existence of a new super-heavy element in \"The Discovery Dissipation\", Kripke came to his office to mock him, suggesting that he should take on a superhero identity as \"The Retractor\". When Sheldon responded with a comment about his speech impediment, Kripke seemed hurt, but actually used Sheldon's apology as the setup for another \"Retractor\" joke.\n",
      "\n",
      "In \"The Relationship Diremption\", Barry taunts Sheldon after new discoveries make his twenty years of work on string theory useless, and laughs upon hearing about him drunk dialing Stephen Hawking. He also taunts Howard by referring to him as \"Cwogziwwa\" (Clogzilla). \n",
      "\n",
      "In \"The Champagne Reflection\", Barry is seen as a guest of Sheldon's Internet broadcast, \"Sheldon Cooper presents Fun with Flags\". He is playing the game \"Flag or Not Flag\", where he is shown flash cards and has to identify the flags. He calls out \"fwag\" or \"not a fwag\" and appears to be very good at the game.\n",
      "\n",
      "In \"The Comic Book Store Regeneration\", Barry thanks Amy for her insight in suggesting how a cellular automaton approach to neuronal conductivity may be applicable to string theory. As such, his light-cone quantization paper received an amazing response. This irked Sheldon, since his string theory research hit a dead end and Amy did not lend help to him.\n",
      "\n",
      "In \"The Perspiration Implementation\", Barry Kripke instructs the guys in fencing when they want to join his new fencing club. He learns that Sheldon and Amy are broken up and he asks her out. Amy turns him down, but she does get a naked picture of him that shocks Penny and Bernadette, but does not seem to bother Amy.\n",
      "\n",
      "In the following episode \"The Helium Insufficiency\", as he is doing a superfluid quantum excitation study, Kripke has all of the university's liquid helium reserve in his control, which he refuses to let Leonard and Sheldon use for their experiment to test their theory, unless they include his name on their project.\n",
      "\n",
      "In \"The Valentino Submergence\", he interrupts Fun with Flags to talk about his love life. He ends up creeping Amy out with questions demanding details about her sex life.\n",
      "\n",
      "In \"The Celebration Experimentation\", Kripke attends Sheldon's birthday and keeps hitting on Leonard's mother who enjoys the attention, which annoys Leonard. He also knows that Bernadette is expecting, but no one had told Stuart.\n",
      "\n",
      "He reappears in \"The Geology Elevation\", where he is the only person besides Howard who likes the motorized Stephen Hawking toy; however, Howard realizes how offensive the toy really is when Kripke wants to drive it into the women's restroom.\n",
      "\n",
      "He is mentioned in \"The Allowance Evaporation\" when Sheldon lists the people he told about him and Amy sleeping together once a year.\n",
      "\n",
      "In \"The Tesla Recoil\", after learning Sheldon went behind their backs to work with the military using the trio's quantum technology as the basis for a communication system, Leonard and Howard say Sheldon is like Thomas Edison, taking credit for other's ideas, while they are more like Nikola Tesla. Unable to make it work themselves, Leonard and Howard bring in Kripke to help with the mathematics in developing a more efficient neutrino comm system that swaps out helium for xenon (which can be stored at higher temperatures and has a bigger nucleus, thus coherence would make it an easier signal to see), rendering Sheldon's system obsolete.  However, once Kripke calculates the probability of interaction using the cross section, he betrays them and goes to the military himself, cutting out Leonard and Howard.\n",
      "\n",
      "He reappeared in \"The Athenaeum Allocation\". Shamy is trying to book their wedding at the Athenaeum Club at Caltech, but Kripke has already selected that location as the place where he's going to have his birthday party. Eventually, after scrubbing some irradiated grease out of barrels, Shamy is allowed to have the Athenaeum as their wedding location, but Amy doesn't like how Kripke is going to sing \"Volare\" at their wedding, and they are thinking about other locations like the planetarium.\n",
      "\n",
      "In \"The Bow Tie Asymmetry\", Barry appears as Sheldon and Amy walk down the aisle and he sings \"At Last\" by Etta James. Shamy looks a bit embarrassed as Leonard and Penny get a laugh out of it.\n",
      "\n",
      "He appeared in \"The Grant Allocation Derivation\". Kripke is first seen in the cafeteria where he tells Leonard how bad he feels about bullying Leonard he gives Leonard a hug and he slips an El Pollo Loco coupon in his pocket. Later Barry, Doctor Lee, and Raj all ask Leonard to fund their Project's but Leonard tells them he can only fund one project.\n",
      "\n",
      "In The Plagiarism﻿﻿﻿ ﻿Schism﻿﻿﻿﻿﻿﻿, Kripke offers to help Sheldon and Amy prove that Greg Pemberton, one of their Nobel Prize rivals, plagiarized his doctorate paper. After they refuse, Leonard accepts the offer for them and obtains the evidence.\n",
      "\n",
      "Kripke In his last scene on the show\n",
      "In the penultimate episode \"The Change Constant\", Kripke uses a fake Swedish accent to prank call Sheldon into thinking he won the Nobel Prize. Barry said, ''Hewwo, this is Sweden cawing. Is this Dr. Coopewa and Dr Fowwea? Congwatuwations! It is my pweasuae to infowm you that you have won the Nobel Pwize in being suckas!\" It worked in fooling the gullible Sheldon. \n",
      "\n",
      "\"We’re all pathetic and cweepy and can’t get girls, that’s why we fight wobots.\"\n",
      "―Barry Kripke, The Killer Robot Instability\n",
      "\n",
      "Despite being a stereotypical geek, Barry apparently tries to be fairly sporty, as shown in \"The Friendship Algorithm\". In that episode, it was implied that he enjoys polo, water polo, and rock-climbing. \"The Rothman Disintegration\" reveals that Kripke and Sheldon are \"equally bad\" at sports. Unlike his colleague, Kripke is fully aware of his limitations and shortcomings, even admitting that he is \"creepy, pathetic and can't get girls\". He has been known to make inappropriate comments to women, photograph his own gentials and upload the shots to the Internet (\"The Beta Test Initiation\"), and enjoys hanging out at a strip club near his apartment, which has a free buffet (\"The Rothman Disintegration\"). He also seems to enjoy strippers.\n",
      "\n",
      "Kripke is often suggested to be coasting in his job—in one instance he even goes as far to say that \"[he] says [he]'ll prove something that can't be proved [string theory], then use the money for 'wiquow and bwoads' \"liquor and broads\". In other instances he engages in robot fighting and makes numerous allusions to his promiscuity (though he appears mostly romantically unsuccessful). On the other hand, in \"The Cooper/Kripke Inversion\", Sheldon admits Kripke's grant proposal for a fusion reactor for the university is \"leaps and bounds\" ahead of his [Sheldon's] own. This suggests that Kripke is quite capable—despite Leonard not believing Kripke to be smarter than Sheldon, Kripke is apparently able to work at Sheldon's level. This may be the reason for Kripke's success in retaining his job despite his apparent predilection for coasting.\n",
      "\n",
      "Appearances\n",
      "\n",
      "Appearances\n",
      "\n",
      "\n",
      "\n"
     ]
    }
   ],
   "source": [
    "#print the text within paragraphs:\n",
    "for para in p:\n",
    "    print(para.text)"
   ]
  },
  {
   "cell_type": "markdown",
   "metadata": {
    "id": "sEioc2exMk40"
   },
   "source": [
    "### Find the content under the 'nav' tag"
   ]
  },
  {
   "cell_type": "code",
   "execution_count": 11,
   "metadata": {
    "id": "w-tDF790H5NF"
   },
   "outputs": [
    {
     "name": "stdout",
     "output_type": "stream",
     "text": [
      "Type of the variable 'article': Tag\n"
     ]
    }
   ],
   "source": [
    "article_tag = 'nav'\n",
    "nav = soup.find_all(article_tag)[0]\n",
    "print('Type of the variable \\'article\\':', nav.__class__.__name__)"
   ]
  },
  {
   "cell_type": "code",
   "execution_count": 12,
   "metadata": {},
   "outputs": [
    {
     "data": {
      "text/plain": [
       "'\\n\\n\\n\\n\\n Explore\\n\\n \\n\\n\\n\\n\\n Main Page\\n\\n\\n\\n\\n Discuss\\n\\n\\n\\n\\nAll Pages\\n\\n\\n\\n\\nCommunity\\n\\n\\n\\n\\nInteractive Maps\\n\\n\\n\\n\\nRecent Blog Posts\\n\\n\\n\\n\\n\\n\\n\\n\\nCharacters\\n\\n\\n\\n\\n\\n\\nThe Big Bang Theory\\n\\n \\n\\n\\n\\n\\nMain Characters\\n \\n\\n\\n\\n\\nLeonard Hofstadter\\n\\n\\n\\n\\nPenny Hofstadter\\n\\n\\n\\n\\nSheldon Cooper\\n\\n\\n\\n\\nAmy Farrah Fowler\\n\\n\\n\\n\\nHoward Wolowitz\\n\\n\\n\\n\\nBernadette Rostenkowski-Wolowitz\\n\\n\\n\\n\\nRajesh Koothrappali\\n\\n\\n\\n\\nStuart Bloom\\n\\n\\n\\n\\nLeslie Winkle\\n\\n\\n\\n\\nEmily Sweeney\\n\\n\\n\\n\\n\\n\\n\\nRecurring Characters\\n \\n\\n\\n\\n\\nBeverly Hofstadter\\n\\n\\n\\n\\nMary Cooper\\n\\n\\n\\n\\nDebbie Wolowitz\\n\\n\\n\\n\\nMike Rostenkowski\\n\\n\\n\\n\\nV. M. Koothrappali\\n\\n\\n\\n\\nPriya Koothrappali\\n\\n\\n\\n\\nDenise\\n\\n\\n\\n\\nBarry Kripke\\n\\n\\n\\n\\nWil Wheaton\\n\\n\\n\\n\\nZack Johnson\\n\\n\\n\\n\\n\\n\\n\\nSeasons (1-6)\\n \\n\\n\\n\\n\\nSeason 1\\n\\n\\n\\n\\nSeason 2\\n\\n\\n\\n\\nSeason 3\\n\\n\\n\\n\\nSeason 4\\n\\n\\n\\n\\nSeason 5\\n\\n\\n\\n\\nSeason 6\\n\\n\\n\\n\\n\\n\\n\\nSeasons (7-12)\\n \\n\\n\\n\\n\\nSeason 7\\n\\n\\n\\n\\nSeason 8\\n\\n\\n\\n\\nSeason 9\\n\\n\\n\\n\\nSeason 10\\n\\n\\n\\n\\nSeason 11\\n\\n\\n\\n\\nSeason 12\\n\\n\\n\\n\\n\\n\\n\\n\\n\\n\\n\\nYoung Sheldon\\n\\n \\n\\n\\n\\n\\nMain Characters\\n \\n\\n\\n\\n\\nSheldon Cooper\\n\\n\\n\\n\\nMary Cooper\\n\\n\\n\\n\\nGeorge Cooper Sr.\\n\\n\\n\\n\\nGeorge Cooper Jr.\\n\\n\\n\\n\\nMissy Cooper\\n\\n\\n\\n\\nMeemaw\\n\\n\\n\\n\\nJeff Difford\\n\\n\\n\\n\\n\\n\\n\\nRecurring Characters\\n \\n\\n\\n\\n\\nTam Nguyen\\n\\n\\n\\n\\nVeronica Duncan\\n\\n\\n\\n\\nBilly Sparks\\n\\n\\n\\n\\nBrenda Sparks\\n\\n\\n\\n\\nJohn Sturgis\\n\\n\\n\\n\\nDale Ballard\\n\\n\\n\\n\\nPaige Swanson\\n\\n\\n\\n\\n\\n\\n\\nSeasons\\n \\n\\n\\n\\n\\nSeason 1\\n\\n\\n\\n\\nSeason 2\\n\\n\\n\\n\\nSeason 3\\n\\n\\n\\n\\nSeason 4\\n\\n\\n\\n\\nSeason 5\\n\\n\\n\\n\\n\\n\\n\\n\\n\\n'"
      ]
     },
     "execution_count": 12,
     "metadata": {},
     "output_type": "execute_result"
    }
   ],
   "source": [
    "nav.text"
   ]
  },
  {
   "cell_type": "code",
   "execution_count": 13,
   "metadata": {},
   "outputs": [
    {
     "name": "stdout",
     "output_type": "stream",
     "text": [
      "\n",
      " Explore\n",
      " \n",
      " Main Page\n",
      " Discuss\n",
      "All Pages\n",
      "Community\n",
      "Interactive Maps\n",
      "Recent Blog Posts\n",
      "Characters\n",
      "The Big Bang Theory\n",
      " \n",
      "Main Characters\n",
      " \n",
      "Leonard Hofstadter\n",
      "Penny Hofstadter\n",
      "Sheldon Cooper\n",
      "Amy Farrah Fowler\n",
      "Howard Wolowitz\n",
      "Bernadette Rostenkowski-Wolowitz\n",
      "Rajesh Koothrappali\n",
      "Stuart Bloom\n",
      "Leslie Winkle\n",
      "Emily Sweeney\n",
      "Recurring Characters\n",
      " \n",
      "Beverly Hofstadter\n",
      "Mary Cooper\n",
      "Debbie Wolowitz\n",
      "Mike Rostenkowski\n",
      "V. M. Koothrappali\n",
      "Priya Koothrappali\n",
      "Denise\n",
      "Barry Kripke\n",
      "Wil Wheaton\n",
      "Zack Johnson\n",
      "Seasons (1-6\n"
     ]
    }
   ],
   "source": [
    "# show the first 500 characters after removing redundant newlines\n",
    "print(re.sub(r'\\n\\n+', '\\n', nav.text)[:500])"
   ]
  },
  {
   "cell_type": "markdown",
   "metadata": {
    "id": "Gdf3no5jMk41"
   },
   "source": [
    "### Find the links in the text"
   ]
  },
  {
   "cell_type": "code",
   "execution_count": 14,
   "metadata": {
    "id": "8Plp1ay0H_is"
   },
   "outputs": [
    {
     "name": "stdout",
     "output_type": "stream",
     "text": [
      "<a data-tracking=\"custom-level-1\" href=\"#\">\n",
      "<svg class=\"wds-icon-tiny wds-icon\"><use xlink:href=\"#wds-icons-book-tiny\"></use></svg> <span>Explore</span>\n",
      "</a>\n",
      "<a data-tracking=\"explore-main-page\" href=\"https://bigbangtheory.fandom.com/wiki/Main_Page\">\n",
      "<svg class=\"wds-icon-tiny wds-icon navigation-item-icon\"><use xlink:href=\"#wds-icons-home-tiny\"></use></svg> <span>Main Page</span>\n",
      "</a>\n",
      "<a data-tracking=\"explore-discuss\" href=\"/f\">\n",
      "<svg class=\"wds-icon-tiny wds-icon navigation-item-icon\"><use xlink:href=\"#wds-icons-discussions-tiny\"></use></svg> <span>Discuss</span>\n",
      "</a>\n",
      "<a data-tracking=\"explore-all-pages\" href=\"https://bigbangtheory.fandom.com/wiki/Special:AllPages\">\n",
      "<span>All Pages</span>\n",
      "</a>\n",
      "<a data-tracking=\"explore-community\" href=\"https://bigbangtheory.fandom.com/wiki/Special:Community\">\n",
      "<span>Community</span>\n",
      "</a>\n",
      "<a data-tracking=\"interactive-maps\" href=\"https://bigbangtheory.fandom.com/wiki/Special:AllMaps\">\n",
      "<span>Interactive Maps</span>\n",
      "</a>\n",
      "<a data-tracking=\"explore-blogs\" href=\"/Blog:Recent_posts\">\n",
      "<span>Recent Blog Posts</span>\n",
      "</a>\n",
      "<a data-tracking=\"custom-level-1\" href=\"https://bigbangtheory.fandom.com/wiki/Category:Characters\">\n",
      "<span>Characters</span>\n",
      "</a>\n",
      "<a data-tracking=\"custom-level-1\" href=\"https://bigbangtheory.fandom.com/wiki/The_Big_Bang_Theory\">\n",
      "<span>The Big Bang Theory</span>\n",
      "</a>\n",
      "<a class=\"wds-dropdown-level-nested__toggle\" data-tracking=\"custom-level-2\" href=\"https://bigbangtheory.fandom.com/wiki/Category:Main_Characters\">\n",
      "<span>Main Characters</span>\n",
      "<svg class=\"wds-icon wds-icon-tiny wds-dropdown-chevron\"><use xlink:href=\"#wds-icons-menu-control-tiny\"></use></svg> </a>\n",
      "<a data-tracking=\"custom-level-3\" href=\"https://bigbangtheory.fandom.com/wiki/Leonard_Hofstadter\">\n",
      "<span>Leonard Hofstadter</span>\n",
      "</a>\n",
      "<a data-tracking=\"custom-level-3\" href=\"https://bigbangtheory.fandom.com/wiki/Penny_Hofstadter\">\n",
      "<span>Penny Hofstadter</span>\n",
      "</a>\n",
      "<a data-tracking=\"custom-level-3\" href=\"https://bigbangtheory.fandom.com/wiki/Sheldon_Cooper\">\n",
      "<span>Sheldon Cooper</span>\n",
      "</a>\n",
      "<a data-tracking=\"custom-level-3\" href=\"https://bigbangtheory.fandom.com/wiki/Amy_Farrah_Fowler\">\n",
      "<span>Amy Farrah Fowler</span>\n",
      "</a>\n",
      "<a data-tracking=\"custom-level-3\" href=\"https://bigbangtheory.fandom.com/wiki/Howard_Wolowitz\">\n",
      "<span>Howard Wolowitz</span>\n",
      "</a>\n",
      "<a data-tracking=\"custom-level-3\" href=\"https://bigbangtheory.fandom.com/wiki/Bernadette_Rostenkowski-Wolowitz\">\n",
      "<span>Bernadette Rostenkowski-Wolowitz</span>\n",
      "</a>\n",
      "<a data-tracking=\"custom-level-3\" href=\"https://bigbangtheory.fandom.com/wiki/Rajesh_Koothrappali\">\n",
      "<span>Rajesh Koothrappali</span>\n",
      "</a>\n",
      "<a data-tracking=\"custom-level-3\" href=\"https://bigbangtheory.fandom.com/wiki/Stuart_Bloom\">\n",
      "<span>Stuart Bloom</span>\n",
      "</a>\n",
      "<a data-tracking=\"custom-level-3\" href=\"https://bigbangtheory.fandom.com/wiki/Leslie_Winkle\">\n",
      "<span>Leslie Winkle</span>\n",
      "</a>\n",
      "<a data-tracking=\"custom-level-3\" href=\"https://bigbangtheory.fandom.com/wiki/Emily_Sweeney\">\n",
      "<span>Emily Sweeney</span>\n",
      "</a>\n",
      "<a class=\"wds-dropdown-level-nested__toggle\" data-tracking=\"custom-level-2\" href=\"https://bigbangtheory.fandom.com/wiki/Category:Recurring_Characters\">\n",
      "<span>Recurring Characters</span>\n",
      "<svg class=\"wds-icon wds-icon-tiny wds-dropdown-chevron\"><use xlink:href=\"#wds-icons-menu-control-tiny\"></use></svg> </a>\n",
      "<a data-tracking=\"custom-level-3\" href=\"https://bigbangtheory.fandom.com/wiki/Beverly_Hofstadter\">\n",
      "<span>Beverly Hofstadter</span>\n",
      "</a>\n",
      "<a data-tracking=\"custom-level-3\" href=\"https://bigbangtheory.fandom.com/wiki/Mary_Cooper\">\n",
      "<span>Mary Cooper</span>\n",
      "</a>\n",
      "<a data-tracking=\"custom-level-3\" href=\"https://bigbangtheory.fandom.com/wiki/Debbie_Wolowitz\">\n",
      "<span>Debbie Wolowitz</span>\n",
      "</a>\n",
      "<a data-tracking=\"custom-level-3\" href=\"https://bigbangtheory.fandom.com/wiki/Mike_Rostenkowski\">\n",
      "<span>Mike Rostenkowski</span>\n",
      "</a>\n",
      "<a data-tracking=\"custom-level-3\" href=\"https://bigbangtheory.fandom.com/wiki/V._M._Koothrappali\">\n",
      "<span>V. M. Koothrappali</span>\n",
      "</a>\n",
      "<a data-tracking=\"custom-level-3\" href=\"https://bigbangtheory.fandom.com/wiki/Priya_Koothrappali\">\n",
      "<span>Priya Koothrappali</span>\n",
      "</a>\n",
      "<a data-tracking=\"custom-level-3\" href=\"https://bigbangtheory.fandom.com/wiki/Denise\">\n",
      "<span>Denise</span>\n",
      "</a>\n",
      "<a data-tracking=\"custom-level-3\" href=\"https://bigbangtheory.fandom.com/wiki/Barry_Kripke\">\n",
      "<span>Barry Kripke</span>\n",
      "</a>\n",
      "<a data-tracking=\"custom-level-3\" href=\"https://bigbangtheory.fandom.com/wiki/Wil_Wheaton\">\n",
      "<span>Wil Wheaton</span>\n",
      "</a>\n",
      "<a data-tracking=\"custom-level-3\" href=\"https://bigbangtheory.fandom.com/wiki/Zack_Johnson\">\n",
      "<span>Zack Johnson</span>\n",
      "</a>\n",
      "<a class=\"wds-dropdown-level-nested__toggle\" data-tracking=\"custom-level-2\" href=\"https://bigbangtheory.fandom.com/wiki/Seasons_(1-6)\">\n",
      "<span>Seasons (1-6)</span>\n",
      "<svg class=\"wds-icon wds-icon-tiny wds-dropdown-chevron\"><use xlink:href=\"#wds-icons-menu-control-tiny\"></use></svg> </a>\n",
      "<a data-tracking=\"custom-level-3\" href=\"https://bigbangtheory.fandom.com/wiki/Season_1\">\n",
      "<span>Season 1</span>\n",
      "</a>\n",
      "<a data-tracking=\"custom-level-3\" href=\"https://bigbangtheory.fandom.com/wiki/Season_2\">\n",
      "<span>Season 2</span>\n",
      "</a>\n",
      "<a data-tracking=\"custom-level-3\" href=\"https://bigbangtheory.fandom.com/wiki/Season_3\">\n",
      "<span>Season 3</span>\n",
      "</a>\n",
      "<a data-tracking=\"custom-level-3\" href=\"https://bigbangtheory.fandom.com/wiki/Season_4\">\n",
      "<span>Season 4</span>\n",
      "</a>\n",
      "<a data-tracking=\"custom-level-3\" href=\"https://bigbangtheory.fandom.com/wiki/Season_5\">\n",
      "<span>Season 5</span>\n",
      "</a>\n",
      "<a data-tracking=\"custom-level-3\" href=\"https://bigbangtheory.fandom.com/wiki/Season_6\">\n",
      "<span>Season 6</span>\n",
      "</a>\n",
      "<a class=\"wds-dropdown-level-nested__toggle\" data-tracking=\"custom-level-2\" href=\"https://bigbangtheory.fandom.com/wiki/Seasons_(7-12)\">\n",
      "<span>Seasons (7-12)</span>\n",
      "<svg class=\"wds-icon wds-icon-tiny wds-dropdown-chevron\"><use xlink:href=\"#wds-icons-menu-control-tiny\"></use></svg> </a>\n",
      "<a data-tracking=\"custom-level-3\" href=\"https://bigbangtheory.fandom.com/wiki/Season_7\">\n",
      "<span>Season 7</span>\n",
      "</a>\n",
      "<a data-tracking=\"custom-level-3\" href=\"https://bigbangtheory.fandom.com/wiki/Season_8\">\n",
      "<span>Season 8</span>\n",
      "</a>\n",
      "<a data-tracking=\"custom-level-3\" href=\"https://bigbangtheory.fandom.com/wiki/Season_9\">\n",
      "<span>Season 9</span>\n",
      "</a>\n",
      "<a data-tracking=\"custom-level-3\" href=\"https://bigbangtheory.fandom.com/wiki/Season_10\">\n",
      "<span>Season 10</span>\n",
      "</a>\n",
      "<a data-tracking=\"custom-level-3\" href=\"https://bigbangtheory.fandom.com/wiki/Season_11\">\n",
      "<span>Season 11</span>\n",
      "</a>\n",
      "<a data-tracking=\"custom-level-3\" href=\"https://bigbangtheory.fandom.com/wiki/Season_12\">\n",
      "<span>Season 12</span>\n",
      "</a>\n",
      "<a data-tracking=\"custom-level-1\" href=\"https://bigbangtheory.fandom.com/wiki/Young_Sheldon\">\n",
      "<span>Young Sheldon</span>\n",
      "</a>\n",
      "<a class=\"wds-dropdown-level-nested__toggle\" data-tracking=\"custom-level-2\" href=\"https://bigbangtheory.fandom.com/wiki/Category:Main_Characters\">\n",
      "<span>Main Characters</span>\n",
      "<svg class=\"wds-icon wds-icon-tiny wds-dropdown-chevron\"><use xlink:href=\"#wds-icons-menu-control-tiny\"></use></svg> </a>\n",
      "<a data-tracking=\"custom-level-3\" href=\"https://bigbangtheory.fandom.com/wiki/Sheldon_Cooper\">\n",
      "<span>Sheldon Cooper</span>\n",
      "</a>\n",
      "<a data-tracking=\"custom-level-3\" href=\"https://bigbangtheory.fandom.com/wiki/Mary_Cooper\">\n",
      "<span>Mary Cooper</span>\n",
      "</a>\n",
      "<a data-tracking=\"custom-level-3\" href=\"https://bigbangtheory.fandom.com/wiki/George_Cooper_Sr.\">\n",
      "<span>George Cooper Sr.</span>\n",
      "</a>\n",
      "<a data-tracking=\"custom-level-3\" href=\"https://bigbangtheory.fandom.com/wiki/George_Cooper_Jr.\">\n",
      "<span>George Cooper Jr.</span>\n",
      "</a>\n",
      "<a data-tracking=\"custom-level-3\" href=\"https://bigbangtheory.fandom.com/wiki/Missy_Cooper\">\n",
      "<span>Missy Cooper</span>\n",
      "</a>\n",
      "<a data-tracking=\"custom-level-3\" href=\"https://bigbangtheory.fandom.com/wiki/Meemaw\">\n",
      "<span>Meemaw</span>\n",
      "</a>\n",
      "<a data-tracking=\"custom-level-3\" href=\"https://bigbangtheory.fandom.com/wiki/Jeff_Difford\">\n",
      "<span>Jeff Difford</span>\n",
      "</a>\n",
      "<a class=\"wds-dropdown-level-nested__toggle\" data-tracking=\"custom-level-2\" href=\"https://bigbangtheory.fandom.com/wiki/Category:Recurring_Characters\">\n",
      "<span>Recurring Characters</span>\n",
      "<svg class=\"wds-icon wds-icon-tiny wds-dropdown-chevron\"><use xlink:href=\"#wds-icons-menu-control-tiny\"></use></svg> </a>\n",
      "<a data-tracking=\"custom-level-3\" href=\"https://bigbangtheory.fandom.com/wiki/Tam_Nguyen\">\n",
      "<span>Tam Nguyen</span>\n",
      "</a>\n",
      "<a data-tracking=\"custom-level-3\" href=\"https://bigbangtheory.fandom.com/wiki/Veronica_Duncan\">\n",
      "<span>Veronica Duncan</span>\n",
      "</a>\n",
      "<a data-tracking=\"custom-level-3\" href=\"https://bigbangtheory.fandom.com/wiki/Billy_Sparks\">\n",
      "<span>Billy Sparks</span>\n",
      "</a>\n",
      "<a data-tracking=\"custom-level-3\" href=\"https://bigbangtheory.fandom.com/wiki/Brenda_Sparks\">\n",
      "<span>Brenda Sparks</span>\n",
      "</a>\n",
      "<a data-tracking=\"custom-level-3\" href=\"https://bigbangtheory.fandom.com/wiki/John_Sturgis\">\n",
      "<span>John Sturgis</span>\n",
      "</a>\n",
      "<a data-tracking=\"custom-level-3\" href=\"https://bigbangtheory.fandom.com/wiki/Dale_Ballard\">\n",
      "<span>Dale Ballard</span>\n",
      "</a>\n",
      "<a data-tracking=\"custom-level-3\" href=\"https://bigbangtheory.fandom.com/wiki/Paige_Swanson\">\n",
      "<span>Paige Swanson</span>\n",
      "</a>\n",
      "<a class=\"wds-dropdown-level-nested__toggle\" data-tracking=\"custom-level-2\" href=\"https://bigbangtheory.fandom.com/wiki/Seasons\">\n",
      "<span>Seasons</span>\n",
      "<svg class=\"wds-icon wds-icon-tiny wds-dropdown-chevron\"><use xlink:href=\"#wds-icons-menu-control-tiny\"></use></svg> </a>\n",
      "<a data-tracking=\"custom-level-3\" href=\"https://bigbangtheory.fandom.com/wiki/Season_1_(Young_Sheldon)\">\n",
      "<span>Season 1</span>\n",
      "</a>\n",
      "<a data-tracking=\"custom-level-3\" href=\"https://bigbangtheory.fandom.com/wiki/Season_2_(Young_Sheldon)\">\n",
      "<span>Season 2</span>\n",
      "</a>\n",
      "<a data-tracking=\"custom-level-3\" href=\"https://bigbangtheory.fandom.com/wiki/Season_3_(Young_Sheldon)\">\n",
      "<span>Season 3</span>\n",
      "</a>\n",
      "<a data-tracking=\"custom-level-3\" href=\"https://bigbangtheory.fandom.com/wiki/Season_4_(Young_Sheldon)\">\n",
      "<span>Season 4</span>\n",
      "</a>\n",
      "<a data-tracking=\"custom-level-3\" href=\"https://bigbangtheory.fandom.com/wiki/Season_5_(Young_Sheldon)\">\n",
      "<span>Season 5</span>\n",
      "</a>\n"
     ]
    }
   ],
   "source": [
    "for t in nav.find_all('a'):\n",
    "    print(t)"
   ]
  },
  {
   "cell_type": "code",
   "execution_count": 15,
   "metadata": {},
   "outputs": [
    {
     "name": "stdout",
     "output_type": "stream",
     "text": [
      "Size of 'tag_list': 68\n"
     ]
    },
    {
     "data": {
      "text/plain": [
       "['#',\n",
       " 'https://bigbangtheory.fandom.com/wiki/Main_Page',\n",
       " '/f',\n",
       " 'https://bigbangtheory.fandom.com/wiki/Special:AllPages',\n",
       " 'https://bigbangtheory.fandom.com/wiki/Special:Community',\n",
       " 'https://bigbangtheory.fandom.com/wiki/Special:AllMaps',\n",
       " '/Blog:Recent_posts',\n",
       " 'https://bigbangtheory.fandom.com/wiki/Category:Characters',\n",
       " 'https://bigbangtheory.fandom.com/wiki/The_Big_Bang_Theory',\n",
       " 'https://bigbangtheory.fandom.com/wiki/Category:Main_Characters',\n",
       " 'https://bigbangtheory.fandom.com/wiki/Leonard_Hofstadter',\n",
       " 'https://bigbangtheory.fandom.com/wiki/Penny_Hofstadter',\n",
       " 'https://bigbangtheory.fandom.com/wiki/Sheldon_Cooper',\n",
       " 'https://bigbangtheory.fandom.com/wiki/Amy_Farrah_Fowler',\n",
       " 'https://bigbangtheory.fandom.com/wiki/Howard_Wolowitz',\n",
       " 'https://bigbangtheory.fandom.com/wiki/Bernadette_Rostenkowski-Wolowitz',\n",
       " 'https://bigbangtheory.fandom.com/wiki/Rajesh_Koothrappali',\n",
       " 'https://bigbangtheory.fandom.com/wiki/Stuart_Bloom',\n",
       " 'https://bigbangtheory.fandom.com/wiki/Leslie_Winkle',\n",
       " 'https://bigbangtheory.fandom.com/wiki/Emily_Sweeney',\n",
       " 'https://bigbangtheory.fandom.com/wiki/Category:Recurring_Characters',\n",
       " 'https://bigbangtheory.fandom.com/wiki/Beverly_Hofstadter',\n",
       " 'https://bigbangtheory.fandom.com/wiki/Mary_Cooper',\n",
       " 'https://bigbangtheory.fandom.com/wiki/Debbie_Wolowitz',\n",
       " 'https://bigbangtheory.fandom.com/wiki/Mike_Rostenkowski',\n",
       " 'https://bigbangtheory.fandom.com/wiki/V._M._Koothrappali',\n",
       " 'https://bigbangtheory.fandom.com/wiki/Priya_Koothrappali',\n",
       " 'https://bigbangtheory.fandom.com/wiki/Denise',\n",
       " 'https://bigbangtheory.fandom.com/wiki/Barry_Kripke',\n",
       " 'https://bigbangtheory.fandom.com/wiki/Wil_Wheaton',\n",
       " 'https://bigbangtheory.fandom.com/wiki/Zack_Johnson',\n",
       " 'https://bigbangtheory.fandom.com/wiki/Seasons_(1-6)',\n",
       " 'https://bigbangtheory.fandom.com/wiki/Season_1',\n",
       " 'https://bigbangtheory.fandom.com/wiki/Season_2',\n",
       " 'https://bigbangtheory.fandom.com/wiki/Season_3',\n",
       " 'https://bigbangtheory.fandom.com/wiki/Season_4',\n",
       " 'https://bigbangtheory.fandom.com/wiki/Season_5',\n",
       " 'https://bigbangtheory.fandom.com/wiki/Season_6',\n",
       " 'https://bigbangtheory.fandom.com/wiki/Seasons_(7-12)',\n",
       " 'https://bigbangtheory.fandom.com/wiki/Season_7',\n",
       " 'https://bigbangtheory.fandom.com/wiki/Season_8',\n",
       " 'https://bigbangtheory.fandom.com/wiki/Season_9',\n",
       " 'https://bigbangtheory.fandom.com/wiki/Season_10',\n",
       " 'https://bigbangtheory.fandom.com/wiki/Season_11',\n",
       " 'https://bigbangtheory.fandom.com/wiki/Season_12',\n",
       " 'https://bigbangtheory.fandom.com/wiki/Young_Sheldon',\n",
       " 'https://bigbangtheory.fandom.com/wiki/Category:Main_Characters',\n",
       " 'https://bigbangtheory.fandom.com/wiki/Sheldon_Cooper',\n",
       " 'https://bigbangtheory.fandom.com/wiki/Mary_Cooper',\n",
       " 'https://bigbangtheory.fandom.com/wiki/George_Cooper_Sr.',\n",
       " 'https://bigbangtheory.fandom.com/wiki/George_Cooper_Jr.',\n",
       " 'https://bigbangtheory.fandom.com/wiki/Missy_Cooper',\n",
       " 'https://bigbangtheory.fandom.com/wiki/Meemaw',\n",
       " 'https://bigbangtheory.fandom.com/wiki/Jeff_Difford',\n",
       " 'https://bigbangtheory.fandom.com/wiki/Category:Recurring_Characters',\n",
       " 'https://bigbangtheory.fandom.com/wiki/Tam_Nguyen',\n",
       " 'https://bigbangtheory.fandom.com/wiki/Veronica_Duncan',\n",
       " 'https://bigbangtheory.fandom.com/wiki/Billy_Sparks',\n",
       " 'https://bigbangtheory.fandom.com/wiki/Brenda_Sparks',\n",
       " 'https://bigbangtheory.fandom.com/wiki/John_Sturgis',\n",
       " 'https://bigbangtheory.fandom.com/wiki/Dale_Ballard',\n",
       " 'https://bigbangtheory.fandom.com/wiki/Paige_Swanson',\n",
       " 'https://bigbangtheory.fandom.com/wiki/Seasons',\n",
       " 'https://bigbangtheory.fandom.com/wiki/Season_1_(Young_Sheldon)',\n",
       " 'https://bigbangtheory.fandom.com/wiki/Season_2_(Young_Sheldon)',\n",
       " 'https://bigbangtheory.fandom.com/wiki/Season_3_(Young_Sheldon)',\n",
       " 'https://bigbangtheory.fandom.com/wiki/Season_4_(Young_Sheldon)',\n",
       " 'https://bigbangtheory.fandom.com/wiki/Season_5_(Young_Sheldon)']"
      ]
     },
     "execution_count": 15,
     "metadata": {},
     "output_type": "execute_result"
    }
   ],
   "source": [
    "# identify the type of tag to retrieve\n",
    "link_tag = 'a'\n",
    "\n",
    "# create a list with the links from the `<a>` tag\n",
    "tag_list = []\n",
    "for t in nav.find_all(link_tag):\n",
    "    tag_list.append(t.get('href'))\n",
    "\n",
    "# List comprehension version:\n",
    "# tag_list = [t.get('href') for t in nav.find_all(link_tag)]\n",
    "\n",
    "print('Size of \\'tag_list\\':', len(tag_list))\n",
    "tag_list"
   ]
  },
  {
   "cell_type": "code",
   "execution_count": 16,
   "metadata": {},
   "outputs": [
    {
     "name": "stdout",
     "output_type": "stream",
     "text": [
      "Size of 'wiki_tag_list': 65\n"
     ]
    },
    {
     "data": {
      "text/plain": [
       "['Main_Page',\n",
       " 'Special:AllPages',\n",
       " 'Special:Community',\n",
       " 'Special:AllMaps',\n",
       " 'Category:Characters',\n",
       " 'The_Big_Bang_Theory',\n",
       " 'Category:Main_Characters',\n",
       " 'Leonard_Hofstadter',\n",
       " 'Penny_Hofstadter',\n",
       " 'Sheldon_Cooper',\n",
       " 'Amy_Farrah_Fowler',\n",
       " 'Howard_Wolowitz',\n",
       " 'Bernadette_Rostenkowski-Wolowitz',\n",
       " 'Rajesh_Koothrappali',\n",
       " 'Stuart_Bloom',\n",
       " 'Leslie_Winkle',\n",
       " 'Emily_Sweeney',\n",
       " 'Category:Recurring_Characters',\n",
       " 'Beverly_Hofstadter',\n",
       " 'Mary_Cooper',\n",
       " 'Debbie_Wolowitz',\n",
       " 'Mike_Rostenkowski',\n",
       " 'V._M._Koothrappali',\n",
       " 'Priya_Koothrappali',\n",
       " 'Denise',\n",
       " 'Barry_Kripke',\n",
       " 'Wil_Wheaton',\n",
       " 'Zack_Johnson',\n",
       " 'Seasons_(1-6)',\n",
       " 'Season_1',\n",
       " 'Season_2',\n",
       " 'Season_3',\n",
       " 'Season_4',\n",
       " 'Season_5',\n",
       " 'Season_6',\n",
       " 'Seasons_(7-12)',\n",
       " 'Season_7',\n",
       " 'Season_8',\n",
       " 'Season_9',\n",
       " 'Season_10',\n",
       " 'Season_11',\n",
       " 'Season_12',\n",
       " 'Young_Sheldon',\n",
       " 'Category:Main_Characters',\n",
       " 'Sheldon_Cooper',\n",
       " 'Mary_Cooper',\n",
       " 'George_Cooper_Sr.',\n",
       " 'George_Cooper_Jr.',\n",
       " 'Missy_Cooper',\n",
       " 'Meemaw',\n",
       " 'Jeff_Difford',\n",
       " 'Category:Recurring_Characters',\n",
       " 'Tam_Nguyen',\n",
       " 'Veronica_Duncan',\n",
       " 'Billy_Sparks',\n",
       " 'Brenda_Sparks',\n",
       " 'John_Sturgis',\n",
       " 'Dale_Ballard',\n",
       " 'Paige_Swanson',\n",
       " 'Seasons',\n",
       " 'Season_1_(Young_Sheldon)',\n",
       " 'Season_2_(Young_Sheldon)',\n",
       " 'Season_3_(Young_Sheldon)',\n",
       " 'Season_4_(Young_Sheldon)',\n",
       " 'Season_5_(Young_Sheldon)']"
      ]
     },
     "execution_count": 16,
     "metadata": {},
     "output_type": "execute_result"
    }
   ],
   "source": [
    "# keep only the links to the wiki itself\n",
    "wiki_tag_list = []\n",
    "for link in tag_list:\n",
    "    if link is not None and link[32:38] == '/wiki/':\n",
    "        wiki_link = link[38:]\n",
    "        wiki_tag_list.append(wiki_link)\n",
    "\n",
    "# List comprehension:\n",
    "# wiki_tag_list = [link[6:] for link in tag_list if link is not None and link[:6] == '/wiki/']\n",
    "\n",
    "print('Size of \\'wiki_tag_list\\':', len(wiki_tag_list))\n",
    "wiki_tag_list"
   ]
  },
  {
   "cell_type": "markdown",
   "metadata": {
    "id": "05kAkHXYIi52"
   },
   "source": [
    "### Create a filter for undesired links (those not corresponding to characters)"
   ]
  },
  {
   "cell_type": "code",
   "execution_count": 17,
   "metadata": {
    "id": "hO5dSet3K0Ai"
   },
   "outputs": [
    {
     "name": "stdout",
     "output_type": "stream",
     "text": [
      "Size of 'filtered_tag_list': 35\n"
     ]
    },
    {
     "data": {
      "text/plain": [
       "['Leonard_Hofstadter',\n",
       " 'Penny_Hofstadter',\n",
       " 'Sheldon_Cooper',\n",
       " 'Amy_Farrah_Fowler',\n",
       " 'Howard_Wolowitz',\n",
       " 'Bernadette_Rostenkowski-Wolowitz',\n",
       " 'Rajesh_Koothrappali',\n",
       " 'Stuart_Bloom',\n",
       " 'Leslie_Winkle',\n",
       " 'Emily_Sweeney',\n",
       " 'Beverly_Hofstadter',\n",
       " 'Mary_Cooper',\n",
       " 'Debbie_Wolowitz',\n",
       " 'Mike_Rostenkowski',\n",
       " 'V._M._Koothrappali',\n",
       " 'Priya_Koothrappali',\n",
       " 'Denise',\n",
       " 'Barry_Kripke',\n",
       " 'Wil_Wheaton',\n",
       " 'Zack_Johnson',\n",
       " 'Young_Sheldon',\n",
       " 'Sheldon_Cooper',\n",
       " 'Mary_Cooper',\n",
       " 'George_Cooper_Sr.',\n",
       " 'George_Cooper_Jr.',\n",
       " 'Missy_Cooper',\n",
       " 'Meemaw',\n",
       " 'Jeff_Difford',\n",
       " 'Tam_Nguyen',\n",
       " 'Veronica_Duncan',\n",
       " 'Billy_Sparks',\n",
       " 'Brenda_Sparks',\n",
       " 'John_Sturgis',\n",
       " 'Dale_Ballard',\n",
       " 'Paige_Swanson']"
      ]
     },
     "execution_count": 17,
     "metadata": {},
     "output_type": "execute_result"
    }
   ],
   "source": [
    "filter  = '(%s)' % '|'.join([\n",
    "    'Main_',\n",
    "    'Season',\n",
    "    'Category:',\n",
    "    'File:',\n",
    "    'Help:',\n",
    "    'Portal:',\n",
    "    'action=',\n",
    "    'Special:',\n",
    "    'Talk:',\n",
    "    'The'\n",
    "])\n",
    "# remove the links that are found in the filter\n",
    "filtered_tag_list = []\n",
    "for t in wiki_tag_list:\n",
    "    if not re.search(filter, t):\n",
    "        filtered_tag_list.append(t)\n",
    "\n",
    "# filtered_tag_list = [t for t in wiki_tag_list if not re.search(filter, t)]\n",
    "print('Size of \\'filtered_tag_list\\':', len(filtered_tag_list))\n",
    "filtered_tag_list"
   ]
  },
  {
   "cell_type": "markdown",
   "metadata": {
    "id": "arGk5JeLIxK3"
   },
   "source": [
    "### Remove duplicates"
   ]
  },
  {
   "cell_type": "code",
   "execution_count": 18,
   "metadata": {
    "id": "4N0NWnoPK0Ak"
   },
   "outputs": [
    {
     "name": "stdout",
     "output_type": "stream",
     "text": [
      "Size of 'unique_tag_list': 33\n"
     ]
    },
    {
     "data": {
      "text/plain": [
       "['Debbie_Wolowitz',\n",
       " 'Mike_Rostenkowski',\n",
       " 'Priya_Koothrappali',\n",
       " 'Stuart_Bloom',\n",
       " 'V._M._Koothrappali',\n",
       " 'Veronica_Duncan',\n",
       " 'George_Cooper_Sr.',\n",
       " 'Denise',\n",
       " 'John_Sturgis',\n",
       " 'Leonard_Hofstadter',\n",
       " 'Penny_Hofstadter',\n",
       " 'Sheldon_Cooper',\n",
       " 'Dale_Ballard',\n",
       " 'Jeff_Difford',\n",
       " 'Young_Sheldon',\n",
       " 'George_Cooper_Jr.',\n",
       " 'Mary_Cooper',\n",
       " 'Emily_Sweeney',\n",
       " 'Barry_Kripke',\n",
       " 'Rajesh_Koothrappali',\n",
       " 'Amy_Farrah_Fowler',\n",
       " 'Meemaw',\n",
       " 'Howard_Wolowitz',\n",
       " 'Brenda_Sparks',\n",
       " 'Leslie_Winkle',\n",
       " 'Bernadette_Rostenkowski-Wolowitz',\n",
       " 'Wil_Wheaton',\n",
       " 'Tam_Nguyen',\n",
       " 'Beverly_Hofstadter',\n",
       " 'Paige_Swanson',\n",
       " 'Missy_Cooper',\n",
       " 'Zack_Johnson',\n",
       " 'Billy_Sparks']"
      ]
     },
     "execution_count": 18,
     "metadata": {},
     "output_type": "execute_result"
    }
   ],
   "source": [
    "unique_tag_list = list(set(filtered_tag_list))\n",
    "print('Size of \\'unique_tag_list\\':', len(unique_tag_list))\n",
    "unique_tag_list"
   ]
  },
  {
   "cell_type": "markdown",
   "metadata": {
    "id": "Mv4jxDUYJAu4"
   },
   "source": [
    "### Convert underscore to space"
   ]
  },
  {
   "cell_type": "code",
   "execution_count": 19,
   "metadata": {
    "id": "ODJEoku8K0An"
   },
   "outputs": [
    {
     "name": "stdout",
     "output_type": "stream",
     "text": [
      "Size of 'tag_list': 33\n"
     ]
    },
    {
     "data": {
      "text/plain": [
       "['Debbie Wolowitz',\n",
       " 'Mike Rostenkowski',\n",
       " 'Priya Koothrappali',\n",
       " 'Stuart Bloom',\n",
       " 'V. M. Koothrappali',\n",
       " 'Veronica Duncan',\n",
       " 'George Cooper Sr.',\n",
       " 'Denise',\n",
       " 'John Sturgis',\n",
       " 'Leonard Hofstadter',\n",
       " 'Penny Hofstadter',\n",
       " 'Sheldon Cooper',\n",
       " 'Dale Ballard',\n",
       " 'Jeff Difford',\n",
       " 'Young Sheldon',\n",
       " 'George Cooper Jr.',\n",
       " 'Mary Cooper',\n",
       " 'Emily Sweeney',\n",
       " 'Barry Kripke',\n",
       " 'Rajesh Koothrappali',\n",
       " 'Amy Farrah Fowler',\n",
       " 'Meemaw',\n",
       " 'Howard Wolowitz',\n",
       " 'Brenda Sparks',\n",
       " 'Leslie Winkle',\n",
       " 'Bernadette Rostenkowski-Wolowitz',\n",
       " 'Wil Wheaton',\n",
       " 'Tam Nguyen',\n",
       " 'Beverly Hofstadter',\n",
       " 'Paige Swanson',\n",
       " 'Missy Cooper',\n",
       " 'Zack Johnson',\n",
       " 'Billy Sparks']"
      ]
     },
     "execution_count": 19,
     "metadata": {},
     "output_type": "execute_result"
    }
   ],
   "source": [
    "spaced_tag_list = []\n",
    "for tag in unique_tag_list:\n",
    "    processed_tag = re.sub('_', ' ', tag)\n",
    "    spaced_tag_list.append(processed_tag)\n",
    "\n",
    "# spaced_tag_list = [re.sub('_', ' ', t) for t in unique_tag_list]\n",
    "print('Size of \\'tag_list\\':', len(spaced_tag_list))\n",
    "spaced_tag_list"
   ]
  },
  {
   "cell_type": "markdown",
   "metadata": {
    "id": "G2E1ZIlGJECy"
   },
   "source": [
    "### Order the list"
   ]
  },
  {
   "cell_type": "code",
   "execution_count": 20,
   "metadata": {
    "id": "hc77nPaDK0Ao"
   },
   "outputs": [
    {
     "name": "stdout",
     "output_type": "stream",
     "text": [
      "Size of 'spaced_tag_list': 33\n"
     ]
    },
    {
     "data": {
      "text/plain": [
       "['Amy Farrah Fowler',\n",
       " 'Barry Kripke',\n",
       " 'Bernadette Rostenkowski-Wolowitz',\n",
       " 'Beverly Hofstadter',\n",
       " 'Billy Sparks',\n",
       " 'Brenda Sparks',\n",
       " 'Dale Ballard',\n",
       " 'Debbie Wolowitz',\n",
       " 'Denise',\n",
       " 'Emily Sweeney',\n",
       " 'George Cooper Jr.',\n",
       " 'George Cooper Sr.',\n",
       " 'Howard Wolowitz',\n",
       " 'Jeff Difford',\n",
       " 'John Sturgis',\n",
       " 'Leonard Hofstadter',\n",
       " 'Leslie Winkle',\n",
       " 'Mary Cooper',\n",
       " 'Meemaw',\n",
       " 'Mike Rostenkowski',\n",
       " 'Missy Cooper',\n",
       " 'Paige Swanson',\n",
       " 'Penny Hofstadter',\n",
       " 'Priya Koothrappali',\n",
       " 'Rajesh Koothrappali',\n",
       " 'Sheldon Cooper',\n",
       " 'Stuart Bloom',\n",
       " 'Tam Nguyen',\n",
       " 'V. M. Koothrappali',\n",
       " 'Veronica Duncan',\n",
       " 'Wil Wheaton',\n",
       " 'Young Sheldon',\n",
       " 'Zack Johnson']"
      ]
     },
     "execution_count": 20,
     "metadata": {},
     "output_type": "execute_result"
    }
   ],
   "source": [
    "spaced_tag_list.sort()\n",
    "print('Size of \\'spaced_tag_list\\':', len(spaced_tag_list))\n",
    "spaced_tag_list"
   ]
  },
  {
   "cell_type": "markdown",
   "metadata": {
    "id": "RERADKgNFq9T"
   },
   "source": [
    "\n",
    "\n",
    "---\n",
    "\n",
    "\n",
    "\n",
    "---\n",
    "\n",
    "\n",
    "\n",
    "> > > > > > > > > © 2023 Institute of Data\n",
    "\n",
    "\n",
    "---\n",
    "\n",
    "\n",
    "\n",
    "---\n",
    "\n",
    "\n",
    "\n"
   ]
  }
 ],
 "metadata": {
  "colab": {
   "provenance": []
  },
  "kernelspec": {
   "display_name": "Python 3 (ipykernel)",
   "language": "python",
   "name": "python3"
  },
  "language_info": {
   "codemirror_mode": {
    "name": "ipython",
    "version": 3
   },
   "file_extension": ".py",
   "mimetype": "text/x-python",
   "name": "python",
   "nbconvert_exporter": "python",
   "pygments_lexer": "ipython3",
   "version": "3.10.13"
  }
 },
 "nbformat": 4,
 "nbformat_minor": 4
}
