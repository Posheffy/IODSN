{
 "cells": [
  {
   "cell_type": "markdown",
   "metadata": {
    "id": "9XIMscuZXR3_"
   },
   "source": [
    "<div>\n",
    "<img src=https://www.institutedata.com/wp-content/uploads/2019/10/iod_h_tp_primary_c.svg width=\"300\">\n",
    "</div>"
   ]
  },
  {
   "cell_type": "markdown",
   "metadata": {
    "id": "_MEq0z1KXR4C"
   },
   "source": [
    "## Lab 4.2.2: Feature Selection"
   ]
  },
  {
   "cell_type": "code",
   "execution_count": 1,
   "metadata": {
    "id": "Od_2rcZkXR4D"
   },
   "outputs": [],
   "source": [
    "import pandas as pd\n",
    "import numpy as np\n",
    "import matplotlib.pyplot as plt\n",
    "import seaborn as sns\n",
    "\n",
    "from scipy import stats\n",
    "from sklearn.linear_model import LinearRegression\n",
    "from sklearn.model_selection import train_test_split\n",
    "\n",
    "%matplotlib inline"
   ]
  },
  {
   "cell_type": "markdown",
   "metadata": {
    "id": "mADumyI3XR4G",
    "tags": []
   },
   "source": [
    "### 5. Forward Feature Selection\n",
    "\n",
    "> Forward Selection: Forward selection is an iterative method in which we start with having no feature in the model. In each iteration, we keep adding the feature which best improves our model till an addition of a new variable does not improve the performance of the model.\n",
    "\n",
    "Create a Regression model using Forward Feature Selection by looping over all the features adding one at a time until there are no improvements on the prediction metric ( R2  and  AdjustedR2  in this case)."
   ]
  },
  {
   "cell_type": "markdown",
   "metadata": {
    "id": "Ha-2bFwdXR4H"
   },
   "source": [
    "#### 5.1 Load Wine Data & Define Predictor and Target"
   ]
  },
  {
   "cell_type": "code",
   "execution_count": 2,
   "metadata": {
    "id": "dKp1loQLXR4H"
   },
   "outputs": [],
   "source": [
    "## Load the wine quality dataset\n",
    "\n",
    "# Load the wine dataset from csv\n",
    "wine = pd.read_csv('/Users/stephanienduaguba/Documents/DATA/winequality_merged.csv')\n",
    "\n",
    "# Define the target variable (dependent variable) as y\n",
    "y = wine['quality']\n",
    "\n",
    "# Take all columns except target as predictor columns\n",
    "predictor_columns = [c for c in wine.columns if c != 'quality']\n",
    "\n",
    "# Load the dataset as a pandas DataFrame\n",
    "X = pd.DataFrame(wine, columns = predictor_columns)"
   ]
  },
  {
   "cell_type": "code",
   "execution_count": 3,
   "metadata": {
    "id": "_IaxFgFkXR4K"
   },
   "outputs": [],
   "source": [
    "## Create training and testing subsets\n",
    "X_train, X_test, y_train, y_test = train_test_split(X, y, test_size = 0.2, random_state=42)"
   ]
  },
  {
   "cell_type": "markdown",
   "metadata": {
    "id": "sHGOCW66XR4M",
    "tags": []
   },
   "source": [
    "#### 5.2 Overview of the code below\n",
    "\n",
    "The external `while` loop goes forever until there are no improvements to the model, which is controlled by the flag `changed` (until is **not** changed).\n",
    "The inner `for` loop goes over each of the features not yet included in the model and calculates the correlation coefficient. If any model improves on the previous best model then the records are updated.\n",
    "\n",
    "#### Code variables\n",
    "- `included`: list of the features (predictors) that were included in the model; starts empty.\n",
    "- `excluded`: list of features that have **not** been included in the model; starts as the full list of features.\n",
    "- `best`: dictionary to keep record of the best model found at any stage; starts 'empty'.\n",
    "- `model`: object of class LinearRegression, with default values for all parameters.\n",
    "\n",
    "#### Methods of the `LinearRegression` object to investigate\n",
    "- `fit()`\n",
    "- `fit.score()`\n",
    "\n",
    "#### Adjusted $R^2$ formula\n",
    "$$Adjusted \\; R^2 = 1 - { (1 - R^2) (n - 1)  \\over n - k - 1 }$$\n",
    "\n",
    "#### Linear Regression [reference](http://scikit-learn.org/stable/modules/generated/sklearn.linear_model.LinearRegression.html#sklearn.linear_model.LinearRegression)"
   ]
  },
  {
   "cell_type": "code",
   "execution_count": 4,
   "metadata": {
    "id": "LVJY9yXaXR4M",
    "tags": []
   },
   "outputs": [],
   "source": [
    "## Flag intermediate output\n",
    "show_steps = True   # for testing/debugging\n",
    "# show_steps = False  # without showing steps"
   ]
  },
  {
   "cell_type": "code",
   "execution_count": 5,
   "metadata": {
    "collapsed": true,
    "jupyter": {
     "outputs_hidden": true
    },
    "tags": []
   },
   "outputs": [
    {
     "name": "stdout",
     "output_type": "stream",
     "text": [
      "\n",
      "(Step) Excluded = density, citric acid, volatile acidity, alcohol, sulphates, red_wine, chlorides, pH, fixed acidity, total sulfur dioxide, residual sugar, free sulfur dioxide\n",
      "(Step) Trying density...\n",
      "(Step) - Features = density\n",
      "(Step) - Adjusted R^2: This = 0.091; Best = 0.000\n",
      "(Step) - New Best!   : Feature = density; R^2 = 0.091; Adjusted R^2 = 0.091\n",
      "(Step) Trying citric acid...\n",
      "(Step) - Features = citric acid\n",
      "(Step) - Adjusted R^2: This = 0.007; Best = 0.091\n",
      "(Step) Trying volatile acidity...\n",
      "(Step) - Features = volatile acidity\n",
      "(Step) - Adjusted R^2: This = 0.069; Best = 0.091\n",
      "(Step) Trying alcohol...\n",
      "(Step) - Features = alcohol\n",
      "(Step) - Adjusted R^2: This = 0.201; Best = 0.091\n",
      "(Step) - New Best!   : Feature = alcohol; R^2 = 0.201; Adjusted R^2 = 0.201\n",
      "(Step) Trying sulphates...\n",
      "(Step) - Features = sulphates\n",
      "(Step) - Adjusted R^2: This = 0.002; Best = 0.201\n",
      "(Step) Trying red_wine...\n",
      "(Step) - Features = red_wine\n",
      "(Step) - Adjusted R^2: This = 0.012; Best = 0.201\n",
      "(Step) Trying chlorides...\n",
      "(Step) - Features = chlorides\n",
      "(Step) - Adjusted R^2: This = 0.037; Best = 0.201\n",
      "(Step) Trying pH...\n",
      "(Step) - Features = pH\n",
      "(Step) - Adjusted R^2: This = 0.000; Best = 0.201\n",
      "(Step) Trying fixed acidity...\n",
      "(Step) - Features = fixed acidity\n",
      "(Step) - Adjusted R^2: This = 0.004; Best = 0.201\n",
      "(Step) Trying total sulfur dioxide...\n",
      "(Step) - Features = total sulfur dioxide\n",
      "(Step) - Adjusted R^2: This = 0.002; Best = 0.201\n",
      "(Step) Trying residual sugar...\n",
      "(Step) - Features = residual sugar\n",
      "(Step) - Adjusted R^2: This = 0.002; Best = 0.201\n",
      "(Step) Trying free sulfur dioxide...\n",
      "(Step) - Features = free sulfur dioxide\n",
      "(Step) - Adjusted R^2: This = 0.003; Best = 0.201\n",
      "Added feature alcohol with R^2 = 0.201 and adjusted R^2 = 0.201\n",
      "\n",
      "(Step) Excluded = density, citric acid, volatile acidity, sulphates, red_wine, chlorides, pH, fixed acidity, total sulfur dioxide, residual sugar, free sulfur dioxide\n",
      "(Step) Trying density...\n",
      "(Step) - Features = alcohol, density\n",
      "(Step) - Adjusted R^2: This = 0.201; Best = 0.201\n",
      "(Step) Trying citric acid...\n",
      "(Step) - Features = alcohol, citric acid\n",
      "(Step) - Adjusted R^2: This = 0.209; Best = 0.201\n",
      "(Step) - New Best!   : Feature = citric acid; R^2 = 0.209; Adjusted R^2 = 0.209\n",
      "(Step) Trying volatile acidity...\n",
      "(Step) - Features = alcohol, volatile acidity\n",
      "(Step) - Adjusted R^2: This = 0.261; Best = 0.209\n",
      "(Step) - New Best!   : Feature = volatile acidity; R^2 = 0.262; Adjusted R^2 = 0.261\n",
      "(Step) Trying sulphates...\n",
      "(Step) - Features = alcohol, sulphates\n",
      "(Step) - Adjusted R^2: This = 0.203; Best = 0.261\n",
      "(Step) Trying red_wine...\n",
      "(Step) - Features = alcohol, red_wine\n",
      "(Step) - Adjusted R^2: This = 0.211; Best = 0.261\n",
      "(Step) Trying chlorides...\n",
      "(Step) - Features = alcohol, chlorides\n",
      "(Step) - Adjusted R^2: This = 0.208; Best = 0.261\n",
      "(Step) Trying pH...\n",
      "(Step) - Features = alcohol, pH\n",
      "(Step) - Adjusted R^2: This = 0.202; Best = 0.261\n",
      "(Step) Trying fixed acidity...\n",
      "(Step) - Features = alcohol, fixed acidity\n",
      "(Step) - Adjusted R^2: This = 0.202; Best = 0.261\n",
      "(Step) Trying total sulfur dioxide...\n",
      "(Step) - Features = alcohol, total sulfur dioxide\n",
      "(Step) - Adjusted R^2: This = 0.207; Best = 0.261\n",
      "(Step) Trying residual sugar...\n",
      "(Step) - Features = alcohol, residual sugar\n",
      "(Step) - Adjusted R^2: This = 0.218; Best = 0.261\n",
      "(Step) Trying free sulfur dioxide...\n",
      "(Step) - Features = alcohol, free sulfur dioxide\n",
      "(Step) - Adjusted R^2: This = 0.222; Best = 0.261\n",
      "Added feature volatile acidity with R^2 = 0.262 and adjusted R^2 = 0.261\n",
      "\n",
      "(Step) Excluded = density, citric acid, sulphates, red_wine, chlorides, pH, fixed acidity, total sulfur dioxide, residual sugar, free sulfur dioxide\n",
      "(Step) Trying density...\n",
      "(Step) - Features = alcohol, volatile acidity, density\n",
      "(Step) - Adjusted R^2: This = 0.270; Best = 0.261\n",
      "(Step) - New Best!   : Feature = density; R^2 = 0.271; Adjusted R^2 = 0.270\n",
      "(Step) Trying citric acid...\n",
      "(Step) - Features = alcohol, volatile acidity, citric acid\n",
      "(Step) - Adjusted R^2: This = 0.261; Best = 0.270\n",
      "(Step) Trying sulphates...\n",
      "(Step) - Features = alcohol, volatile acidity, sulphates\n",
      "(Step) - Adjusted R^2: This = 0.272; Best = 0.270\n",
      "(Step) - New Best!   : Feature = sulphates; R^2 = 0.273; Adjusted R^2 = 0.272\n",
      "(Step) Trying red_wine...\n",
      "(Step) - Features = alcohol, volatile acidity, red_wine\n",
      "(Step) - Adjusted R^2: This = 0.268; Best = 0.272\n",
      "(Step) Trying chlorides...\n",
      "(Step) - Features = alcohol, volatile acidity, chlorides\n",
      "(Step) - Adjusted R^2: This = 0.261; Best = 0.272\n",
      "(Step) Trying pH...\n",
      "(Step) - Features = alcohol, volatile acidity, pH\n",
      "(Step) - Adjusted R^2: This = 0.262; Best = 0.272\n",
      "(Step) Trying fixed acidity...\n",
      "(Step) - Features = alcohol, volatile acidity, fixed acidity\n",
      "(Step) - Adjusted R^2: This = 0.262; Best = 0.272\n",
      "(Step) Trying total sulfur dioxide...\n",
      "(Step) - Features = alcohol, volatile acidity, total sulfur dioxide\n",
      "(Step) - Adjusted R^2: This = 0.262; Best = 0.272\n",
      "(Step) Trying residual sugar...\n",
      "(Step) - Features = alcohol, volatile acidity, residual sugar\n",
      "(Step) - Adjusted R^2: This = 0.268; Best = 0.272\n",
      "(Step) Trying free sulfur dioxide...\n",
      "(Step) - Features = alcohol, volatile acidity, free sulfur dioxide\n",
      "(Step) - Adjusted R^2: This = 0.264; Best = 0.272\n",
      "Added feature sulphates with R^2 = 0.273 and adjusted R^2 = 0.272\n",
      "\n",
      "(Step) Excluded = density, citric acid, fixed acidity, red_wine, pH, chlorides, total sulfur dioxide, residual sugar, free sulfur dioxide\n",
      "(Step) Trying density...\n",
      "(Step) - Features = alcohol, volatile acidity, sulphates, density\n",
      "(Step) - Adjusted R^2: This = 0.277; Best = 0.272\n",
      "(Step) - New Best!   : Feature = density; R^2 = 0.277; Adjusted R^2 = 0.277\n",
      "(Step) Trying citric acid...\n",
      "(Step) - Features = alcohol, volatile acidity, sulphates, citric acid\n",
      "(Step) - Adjusted R^2: This = 0.273; Best = 0.277\n",
      "(Step) Trying fixed acidity...\n",
      "(Step) - Features = alcohol, volatile acidity, sulphates, fixed acidity\n",
      "(Step) - Adjusted R^2: This = 0.272; Best = 0.277\n",
      "(Step) Trying red_wine...\n",
      "(Step) - Features = alcohol, volatile acidity, sulphates, red_wine\n",
      "(Step) - Adjusted R^2: This = 0.273; Best = 0.277\n",
      "(Step) Trying pH...\n",
      "(Step) - Features = alcohol, volatile acidity, sulphates, pH\n",
      "(Step) - Adjusted R^2: This = 0.273; Best = 0.277\n",
      "(Step) Trying chlorides...\n",
      "(Step) - Features = alcohol, volatile acidity, sulphates, chlorides\n",
      "(Step) - Adjusted R^2: This = 0.273; Best = 0.277\n",
      "(Step) Trying total sulfur dioxide...\n",
      "(Step) - Features = alcohol, volatile acidity, sulphates, total sulfur dioxide\n",
      "(Step) - Adjusted R^2: This = 0.272; Best = 0.277\n",
      "(Step) Trying residual sugar...\n",
      "(Step) - Features = alcohol, volatile acidity, sulphates, residual sugar\n",
      "(Step) - Adjusted R^2: This = 0.282; Best = 0.277\n",
      "(Step) - New Best!   : Feature = residual sugar; R^2 = 0.282; Adjusted R^2 = 0.282\n",
      "(Step) Trying free sulfur dioxide...\n",
      "(Step) - Features = alcohol, volatile acidity, sulphates, free sulfur dioxide\n",
      "(Step) - Adjusted R^2: This = 0.277; Best = 0.282\n",
      "Added feature residual sugar with R^2 = 0.282 and adjusted R^2 = 0.282\n",
      "\n",
      "(Step) Excluded = density, citric acid, fixed acidity, red_wine, pH, chlorides, total sulfur dioxide, free sulfur dioxide\n",
      "(Step) Trying density...\n",
      "(Step) - Features = alcohol, volatile acidity, sulphates, residual sugar, density\n",
      "(Step) - Adjusted R^2: This = 0.282; Best = 0.282\n",
      "(Step) Trying citric acid...\n",
      "(Step) - Features = alcohol, volatile acidity, sulphates, residual sugar, citric acid\n",
      "(Step) - Adjusted R^2: This = 0.283; Best = 0.282\n",
      "(Step) - New Best!   : Feature = citric acid; R^2 = 0.283; Adjusted R^2 = 0.283\n",
      "(Step) Trying fixed acidity...\n",
      "(Step) - Features = alcohol, volatile acidity, sulphates, residual sugar, fixed acidity\n",
      "(Step) - Adjusted R^2: This = 0.282; Best = 0.283\n",
      "(Step) Trying red_wine...\n",
      "(Step) - Features = alcohol, volatile acidity, sulphates, residual sugar, red_wine\n",
      "(Step) - Adjusted R^2: This = 0.286; Best = 0.283\n",
      "(Step) - New Best!   : Feature = red_wine; R^2 = 0.287; Adjusted R^2 = 0.286\n",
      "(Step) Trying pH...\n",
      "(Step) - Features = alcohol, volatile acidity, sulphates, residual sugar, pH\n",
      "(Step) - Adjusted R^2: This = 0.283; Best = 0.286\n",
      "(Step) Trying chlorides...\n",
      "(Step) - Features = alcohol, volatile acidity, sulphates, residual sugar, chlorides\n",
      "(Step) - Adjusted R^2: This = 0.282; Best = 0.286\n",
      "(Step) Trying total sulfur dioxide...\n",
      "(Step) - Features = alcohol, volatile acidity, sulphates, residual sugar, total sulfur dioxide\n",
      "(Step) - Adjusted R^2: This = 0.285; Best = 0.286\n",
      "(Step) Trying free sulfur dioxide...\n",
      "(Step) - Features = alcohol, volatile acidity, sulphates, residual sugar, free sulfur dioxide\n",
      "(Step) - Adjusted R^2: This = 0.284; Best = 0.286\n",
      "Added feature red_wine with R^2 = 0.287 and adjusted R^2 = 0.286\n",
      "\n",
      "(Step) Excluded = density, citric acid, fixed acidity, pH, chlorides, total sulfur dioxide, free sulfur dioxide\n",
      "(Step) Trying density...\n",
      "(Step) - Features = alcohol, volatile acidity, sulphates, residual sugar, red_wine, density\n",
      "(Step) - Adjusted R^2: This = 0.290; Best = 0.286\n",
      "(Step) - New Best!   : Feature = density; R^2 = 0.291; Adjusted R^2 = 0.290\n",
      "(Step) Trying citric acid...\n",
      "(Step) - Features = alcohol, volatile acidity, sulphates, residual sugar, red_wine, citric acid\n",
      "(Step) - Adjusted R^2: This = 0.287; Best = 0.290\n",
      "(Step) Trying fixed acidity...\n",
      "(Step) - Features = alcohol, volatile acidity, sulphates, residual sugar, red_wine, fixed acidity\n",
      "(Step) - Adjusted R^2: This = 0.287; Best = 0.290\n",
      "(Step) Trying pH...\n",
      "(Step) - Features = alcohol, volatile acidity, sulphates, residual sugar, red_wine, pH\n",
      "(Step) - Adjusted R^2: This = 0.287; Best = 0.290\n",
      "(Step) Trying chlorides...\n",
      "(Step) - Features = alcohol, volatile acidity, sulphates, residual sugar, red_wine, chlorides\n",
      "(Step) - Adjusted R^2: This = 0.287; Best = 0.290\n",
      "(Step) Trying total sulfur dioxide...\n",
      "(Step) - Features = alcohol, volatile acidity, sulphates, residual sugar, red_wine, total sulfur dioxide\n",
      "(Step) - Adjusted R^2: This = 0.286; Best = 0.290\n",
      "(Step) Trying free sulfur dioxide...\n",
      "(Step) - Features = alcohol, volatile acidity, sulphates, residual sugar, red_wine, free sulfur dioxide\n",
      "(Step) - Adjusted R^2: This = 0.290; Best = 0.290\n",
      "(Step) - New Best!   : Feature = free sulfur dioxide; R^2 = 0.291; Adjusted R^2 = 0.290\n",
      "Added feature free sulfur dioxide with R^2 = 0.291 and adjusted R^2 = 0.290\n",
      "\n",
      "(Step) Excluded = density, citric acid, fixed acidity, pH, chlorides, total sulfur dioxide\n",
      "(Step) Trying density...\n",
      "(Step) - Features = alcohol, volatile acidity, sulphates, residual sugar, red_wine, free sulfur dioxide, density\n",
      "(Step) - Adjusted R^2: This = 0.293; Best = 0.290\n",
      "(Step) - New Best!   : Feature = density; R^2 = 0.294; Adjusted R^2 = 0.293\n",
      "(Step) Trying citric acid...\n",
      "(Step) - Features = alcohol, volatile acidity, sulphates, residual sugar, red_wine, free sulfur dioxide, citric acid\n",
      "(Step) - Adjusted R^2: This = 0.291; Best = 0.293\n",
      "(Step) Trying fixed acidity...\n",
      "(Step) - Features = alcohol, volatile acidity, sulphates, residual sugar, red_wine, free sulfur dioxide, fixed acidity\n",
      "(Step) - Adjusted R^2: This = 0.290; Best = 0.293\n",
      "(Step) Trying pH...\n",
      "(Step) - Features = alcohol, volatile acidity, sulphates, residual sugar, red_wine, free sulfur dioxide, pH\n",
      "(Step) - Adjusted R^2: This = 0.291; Best = 0.293\n",
      "(Step) Trying chlorides...\n",
      "(Step) - Features = alcohol, volatile acidity, sulphates, residual sugar, red_wine, free sulfur dioxide, chlorides\n",
      "(Step) - Adjusted R^2: This = 0.291; Best = 0.293\n",
      "(Step) Trying total sulfur dioxide...\n",
      "(Step) - Features = alcohol, volatile acidity, sulphates, residual sugar, red_wine, free sulfur dioxide, total sulfur dioxide\n",
      "(Step) - Adjusted R^2: This = 0.294; Best = 0.293\n",
      "(Step) - New Best!   : Feature = total sulfur dioxide; R^2 = 0.295; Adjusted R^2 = 0.294\n",
      "Added feature total sulfur dioxide with R^2 = 0.295 and adjusted R^2 = 0.294\n",
      "\n",
      "(Step) Excluded = density, citric acid, fixed acidity, pH, chlorides\n",
      "(Step) Trying density...\n",
      "(Step) - Features = alcohol, volatile acidity, sulphates, residual sugar, red_wine, free sulfur dioxide, total sulfur dioxide, density\n",
      "(Step) - Adjusted R^2: This = 0.296; Best = 0.294\n",
      "(Step) - New Best!   : Feature = density; R^2 = 0.297; Adjusted R^2 = 0.296\n",
      "(Step) Trying citric acid...\n",
      "(Step) - Features = alcohol, volatile acidity, sulphates, residual sugar, red_wine, free sulfur dioxide, total sulfur dioxide, citric acid\n",
      "(Step) - Adjusted R^2: This = 0.295; Best = 0.296\n",
      "(Step) Trying fixed acidity...\n",
      "(Step) - Features = alcohol, volatile acidity, sulphates, residual sugar, red_wine, free sulfur dioxide, total sulfur dioxide, fixed acidity\n",
      "(Step) - Adjusted R^2: This = 0.294; Best = 0.296\n",
      "(Step) Trying pH...\n",
      "(Step) - Features = alcohol, volatile acidity, sulphates, residual sugar, red_wine, free sulfur dioxide, total sulfur dioxide, pH\n",
      "(Step) - Adjusted R^2: This = 0.295; Best = 0.296\n",
      "(Step) Trying chlorides...\n",
      "(Step) - Features = alcohol, volatile acidity, sulphates, residual sugar, red_wine, free sulfur dioxide, total sulfur dioxide, chlorides\n",
      "(Step) - Adjusted R^2: This = 0.295; Best = 0.296\n",
      "Added feature density with R^2 = 0.297 and adjusted R^2 = 0.296\n",
      "\n",
      "(Step) Excluded = chlorides, fixed acidity, citric acid, pH\n",
      "(Step) Trying chlorides...\n",
      "(Step) - Features = alcohol, volatile acidity, sulphates, residual sugar, red_wine, free sulfur dioxide, total sulfur dioxide, density, chlorides\n",
      "(Step) - Adjusted R^2: This = 0.297; Best = 0.296\n",
      "(Step) - New Best!   : Feature = chlorides; R^2 = 0.298; Adjusted R^2 = 0.297\n",
      "(Step) Trying fixed acidity...\n",
      "(Step) - Features = alcohol, volatile acidity, sulphates, residual sugar, red_wine, free sulfur dioxide, total sulfur dioxide, density, fixed acidity\n",
      "(Step) - Adjusted R^2: This = 0.297; Best = 0.297\n",
      "(Step) Trying citric acid...\n",
      "(Step) - Features = alcohol, volatile acidity, sulphates, residual sugar, red_wine, free sulfur dioxide, total sulfur dioxide, density, citric acid\n",
      "(Step) - Adjusted R^2: This = 0.296; Best = 0.297\n",
      "(Step) Trying pH...\n",
      "(Step) - Features = alcohol, volatile acidity, sulphates, residual sugar, red_wine, free sulfur dioxide, total sulfur dioxide, density, pH\n",
      "(Step) - Adjusted R^2: This = 0.297; Best = 0.297\n",
      "Added feature chlorides with R^2 = 0.298 and adjusted R^2 = 0.297\n",
      "\n",
      "(Step) Excluded = pH, fixed acidity, citric acid\n",
      "(Step) Trying pH...\n",
      "(Step) - Features = alcohol, volatile acidity, sulphates, residual sugar, red_wine, free sulfur dioxide, total sulfur dioxide, density, chlorides, pH\n",
      "(Step) - Adjusted R^2: This = 0.298; Best = 0.297\n",
      "(Step) - New Best!   : Feature = pH; R^2 = 0.299; Adjusted R^2 = 0.298\n",
      "(Step) Trying fixed acidity...\n",
      "(Step) - Features = alcohol, volatile acidity, sulphates, residual sugar, red_wine, free sulfur dioxide, total sulfur dioxide, density, chlorides, fixed acidity\n",
      "(Step) - Adjusted R^2: This = 0.298; Best = 0.298\n",
      "(Step) Trying citric acid...\n",
      "(Step) - Features = alcohol, volatile acidity, sulphates, residual sugar, red_wine, free sulfur dioxide, total sulfur dioxide, density, chlorides, citric acid\n",
      "(Step) - Adjusted R^2: This = 0.297; Best = 0.298\n",
      "Added feature pH   with R^2 = 0.299 and adjusted R^2 = 0.298\n",
      "\n",
      "(Step) Excluded = fixed acidity, citric acid\n",
      "(Step) Trying fixed acidity...\n",
      "(Step) - Features = alcohol, volatile acidity, sulphates, residual sugar, red_wine, free sulfur dioxide, total sulfur dioxide, density, chlorides, pH, fixed acidity\n",
      "(Step) - Adjusted R^2: This = 0.301; Best = 0.298\n",
      "(Step) - New Best!   : Feature = fixed acidity; R^2 = 0.303; Adjusted R^2 = 0.301\n",
      "(Step) Trying citric acid...\n",
      "(Step) - Features = alcohol, volatile acidity, sulphates, residual sugar, red_wine, free sulfur dioxide, total sulfur dioxide, density, chlorides, pH, citric acid\n",
      "(Step) - Adjusted R^2: This = 0.298; Best = 0.301\n",
      "Added feature fixed acidity with R^2 = 0.303 and adjusted R^2 = 0.301\n",
      "\n",
      "(Step) Excluded = citric acid\n",
      "(Step) Trying citric acid...\n",
      "(Step) - Features = alcohol, volatile acidity, sulphates, residual sugar, red_wine, free sulfur dioxide, total sulfur dioxide, density, chlorides, pH, fixed acidity, citric acid\n",
      "(Step) - Adjusted R^2: This = 0.301; Best = 0.301\n",
      "(Step) - New Best!   : Feature = citric acid; R^2 = 0.303; Adjusted R^2 = 0.301\n",
      "Added feature citric acid with R^2 = 0.303 and adjusted R^2 = 0.301\n",
      "\n",
      "(Step) Excluded = \n",
      "\n",
      "Resulting features:\n",
      "alcohol, volatile acidity, sulphates, residual sugar, red_wine, free sulfur dioxide, total sulfur dioxide, density, chlorides, pH, fixed acidity, citric acid\n"
     ]
    }
   ],
   "source": [
    "# Use Forward Feature Selection to pick a good model\n",
    "\n",
    "# Start with no predictors\n",
    "included = []\n",
    "\n",
    "# Keep track of model and parameters\n",
    "best = {'feature': '', 'r2': 0, 'a_r2': 0}  # r2 = R-squared and a_r2 = adjusted R-squared\n",
    "\n",
    "# Create a model object to hold the modeling parameters\n",
    "model = LinearRegression()  # Create a model for Linear Regression\n",
    "\n",
    "# Get the number of cases in the training data\n",
    "n = X_train.shape[0]\n",
    "\n",
    "while True:\n",
    "    changed = False\n",
    "    \n",
    "    if show_steps:\n",
    "        print('') \n",
    "\n",
    "    # List the features to be evaluated\n",
    "    excluded = list(set(X.columns) - set(included))\n",
    "    \n",
    "    if show_steps:\n",
    "        print('(Step) Excluded = %s' % ', '.join(excluded))  \n",
    "\n",
    "    # For each remaining feature to be evaluated\n",
    "    for new_column in excluded:\n",
    "        \n",
    "        if show_steps:\n",
    "            print('(Step) Trying %s...' % new_column)\n",
    "            print('(Step) - Features = %s' % ', '.join(included + [new_column]))\n",
    "\n",
    "        # Fit the model with the Training data\n",
    "        X_train_temp = X_train[included + [new_column]]  # Include new feature\n",
    "        model.fit(X_train_temp, y_train)  # Fit the model\n",
    "        \n",
    "        # Calculate the score (R^2 for Regression)\n",
    "        r2 = model.score(X_train_temp, y_train)  # Calculate the R-squared\n",
    "        \n",
    "        # Number of predictors in this model\n",
    "        k = len(included) + 1\n",
    "        \n",
    "        # Calculate the adjusted R^2\n",
    "        adjusted_r2 = 1 - (1 - r2) * ((n - 1) / (n - k - 1))\n",
    "        \n",
    "        if show_steps:\n",
    "            print('(Step) - Adjusted R^2: This = %.3f; Best = %.3f' % \n",
    "                  (adjusted_r2, best['a_r2']))\n",
    "\n",
    "        # If the model improves\n",
    "        if adjusted_r2 > best['a_r2']:\n",
    "            # Record new parameters\n",
    "            best = {'feature': new_column, 'r2': r2, 'a_r2': adjusted_r2}\n",
    "            # Flag that found a better model\n",
    "            changed = True\n",
    "            if show_steps:\n",
    "                print('(Step) - New Best!   : Feature = %s; R^2 = %.3f; Adjusted R^2 = %.3f' % \n",
    "                      (best['feature'], best['r2'], best['a_r2']))\n",
    "    # END\n",
    "\n",
    "    # If found a better model after testing all remaining features\n",
    "    if changed:\n",
    "        # Update control details\n",
    "        included.append(best['feature'])\n",
    "        excluded = list(set(excluded) - set([best['feature']]))\n",
    "        print('Added feature %-4s with R^2 = %.3f and adjusted R^2 = %.3f' % \n",
    "              (best['feature'], best['r2'], best['a_r2']))\n",
    "    else:\n",
    "        # Terminate if no better model\n",
    "        break\n",
    "\n",
    "print('')\n",
    "print('Resulting features:')\n",
    "print(', '.join(included))"
   ]
  },
  {
   "cell_type": "markdown",
   "metadata": {},
   "source": [
    "There is a slight increase in R^2 (0.303) when all the features are considered compared to when only four features were considered (in Lab 4.2.1 with R^2 = 0.2559...)"
   ]
  },
  {
   "cell_type": "markdown",
   "metadata": {
    "tags": []
   },
   "source": [
    "### Sequential Feature Selector - Using sklearn.feature_selection\n",
    "\n",
    "https://scikit-learn.org/stable/modules/generated/sklearn.feature_selection.SequentialFeatureSelector.html"
   ]
  },
  {
   "cell_type": "markdown",
   "metadata": {
    "tags": []
   },
   "source": [
    "#### Forward"
   ]
  },
  {
   "cell_type": "code",
   "execution_count": 6,
   "metadata": {},
   "outputs": [
    {
     "data": {
      "text/plain": [
       "['fixed acidity',\n",
       " 'volatile acidity',\n",
       " 'residual sugar',\n",
       " 'chlorides',\n",
       " 'free sulfur dioxide',\n",
       " 'total sulfur dioxide',\n",
       " 'density',\n",
       " 'pH',\n",
       " 'sulphates',\n",
       " 'alcohol',\n",
       " 'red_wine']"
      ]
     },
     "execution_count": 6,
     "metadata": {},
     "output_type": "execute_result"
    }
   ],
   "source": [
    "from sklearn.feature_selection import SequentialFeatureSelector\n",
    "\n",
    "# Create a LinearRegression model\n",
    "model = LinearRegression()\n",
    "\n",
    "# Initialize SequentialFeatureSelector for forward selection\n",
    "# Choose the number of features to select (k_features) and the scoring metric (e.g., 'r2')\n",
    "sfs = SequentialFeatureSelector(model, direction='forward', n_features_to_select='auto', tol=1e-5, scoring='r2', cv=5)\n",
    "\n",
    "# Fit the SequentialFeatureSelector to the training data\n",
    "sfs.fit(X_train, y_train)\n",
    "\n",
    "# Get the selected feature names and their scores at each step\n",
    "selected_features = list(X_train.columns[sfs.support_])\n",
    "selected_features"
   ]
  },
  {
   "cell_type": "code",
   "execution_count": 7,
   "metadata": {},
   "outputs": [],
   "source": [
    "# Target variable\n",
    "y = wine['quality']"
   ]
  },
  {
   "cell_type": "code",
   "execution_count": 8,
   "metadata": {},
   "outputs": [],
   "source": [
    "# Predictor variables\n",
    "X = wine[['fixed acidity', \n",
    "          'volatile acidity', \n",
    "          #'citric acid', \n",
    "          'residual sugar',\n",
    "          'chlorides', \n",
    "          'free sulfur dioxide', \n",
    "          'total sulfur dioxide', \n",
    "          'density', \n",
    "          'pH', \n",
    "          'sulphates', \n",
    "          'alcohol',\n",
    "          'red_wine']]"
   ]
  },
  {
   "cell_type": "code",
   "execution_count": 9,
   "metadata": {},
   "outputs": [],
   "source": [
    "# Create training and testing subsets\n",
    "X_train, X_test, y_train, y_test = train_test_split(X, y, test_size = 0.2, random_state=42)"
   ]
  },
  {
   "cell_type": "code",
   "execution_count": 10,
   "metadata": {},
   "outputs": [
    {
     "data": {
      "text/plain": [
       "0.278164041255501"
      ]
     },
     "execution_count": 10,
     "metadata": {},
     "output_type": "execute_result"
    }
   ],
   "source": [
    "# Create a model for Linear Regression\n",
    "# Fit the model with the Training data\n",
    "LR = LinearRegression().fit(X_train, y_train)\n",
    "\n",
    "# Calculate the score (R^2 for Regression) for Training Data\n",
    "LR.score(X_train, y_train)\n",
    "\n",
    "# Fit the model with the Testing data\n",
    "LR = LinearRegression().fit(X_test, y_test)\n",
    "\n",
    "# Calculate the score (R^2 for Regression) for Testing Data\n",
    "LR.score(X_test, y_test)"
   ]
  },
  {
   "cell_type": "markdown",
   "metadata": {
    "tags": []
   },
   "source": [
    "#### Backward"
   ]
  },
  {
   "cell_type": "code",
   "execution_count": 11,
   "metadata": {
    "tags": []
   },
   "outputs": [
    {
     "data": {
      "text/plain": [
       "['fixed acidity',\n",
       " 'volatile acidity',\n",
       " 'residual sugar',\n",
       " 'free sulfur dioxide',\n",
       " 'total sulfur dioxide',\n",
       " 'density',\n",
       " 'pH',\n",
       " 'sulphates',\n",
       " 'alcohol',\n",
       " 'red_wine']"
      ]
     },
     "execution_count": 11,
     "metadata": {},
     "output_type": "execute_result"
    }
   ],
   "source": [
    "from sklearn.feature_selection import SequentialFeatureSelector\n",
    "\n",
    "# Create a LinearRegression model\n",
    "model = LinearRegression()\n",
    "\n",
    "# Initialize SequentialFeatureSelector for forward selection\n",
    "# Choose the number of features to select (k_features) and the scoring metric (e.g., 'r2')\n",
    "sfs = SequentialFeatureSelector(model, direction='backward', n_features_to_select='auto', tol=1e-5, scoring='r2', cv=5)\n",
    "\n",
    "# Fit the SequentialFeatureSelector to the training data\n",
    "sfs.fit(X_train, y_train)\n",
    "\n",
    "# Get the selected feature names and their scores at each step\n",
    "selected_features = list(X_train.columns[sfs.support_])\n",
    "selected_features"
   ]
  },
  {
   "cell_type": "markdown",
   "metadata": {
    "tags": []
   },
   "source": [
    "## Feature Selection Description - chatGPT\n",
    "\n",
    "Forward feature selection and backward feature selection are two different approaches to feature selection, and they may not necessarily yield the same set of variables. Here's why:\n",
    "</br>\n",
    "\n",
    "#### Forward Feature Selection:\n",
    "\n",
    "Forward feature selection starts with an empty set of features and iteratively adds the most relevant feature at each step based on some criterion (e.g., improvement in model performance).\n",
    "It builds up the feature set step by step, selecting one feature at a time that provides the best improvement in the chosen evaluation metric.\n",
    "The final set of selected features depends on the order in which features were added and the evaluation metric used. It may not include all features that could be relevant together.\n",
    "\n",
    "\n",
    "#### Backward Feature Selection:\n",
    "\n",
    "Backward feature selection starts with all available features and iteratively removes the least relevant feature at each step based on some criterion (e.g., model performance degradation).\n",
    "It begins with the full feature set and reduces it step by step, eliminating the least important features.\n",
    "The final set of selected features depends on the order in which features were removed and the evaluation metric used. It may not include all features that could be relevant together.\n",
    "In practice, whether forward or backward feature selection is more appropriate depends on your specific problem and dataset. It's possible that the two methods may select similar or overlapping sets of features, especially if your dataset has clear features that significantly contribute to the target variable. However, they can also yield different results based on the order of evaluation and the chosen evaluation metric.\n",
    "\n",
    "It's a good practice to try both forward and backward feature selection, as well as other feature selection techniques, to explore different subsets of features and evaluate their impact on model performance. Ultimately, the choice of features should be based on a combination of domain knowledge, experimentation, and validation through cross-validation or other evaluation methods."
   ]
  },
  {
   "cell_type": "markdown",
   "metadata": {
    "jp-MarkdownHeadingCollapsed": true,
    "tags": []
   },
   "source": [
    "### Extra - Sequential Feature Selector - Using mlxtend.feature_selection"
   ]
  },
  {
   "cell_type": "code",
   "execution_count": 12,
   "metadata": {},
   "outputs": [
    {
     "name": "stdout",
     "output_type": "stream",
     "text": [
      "Requirement already satisfied: mlxtend in /Users/stephanienduaguba/anaconda3/lib/python3.10/site-packages (0.23.0)\n",
      "Requirement already satisfied: numpy>=1.16.2 in /Users/stephanienduaguba/anaconda3/lib/python3.10/site-packages (from mlxtend) (1.23.5)\n",
      "Requirement already satisfied: scipy>=1.2.1 in /Users/stephanienduaguba/anaconda3/lib/python3.10/site-packages (from mlxtend) (1.10.0)\n",
      "Requirement already satisfied: scikit-learn>=1.0.2 in /Users/stephanienduaguba/anaconda3/lib/python3.10/site-packages (from mlxtend) (1.3.1)\n",
      "Requirement already satisfied: pandas>=0.24.2 in /Users/stephanienduaguba/anaconda3/lib/python3.10/site-packages (from mlxtend) (1.5.3)\n",
      "Requirement already satisfied: matplotlib>=3.0.0 in /Users/stephanienduaguba/anaconda3/lib/python3.10/site-packages (from mlxtend) (3.7.0)\n",
      "Requirement already satisfied: joblib>=0.13.2 in /Users/stephanienduaguba/anaconda3/lib/python3.10/site-packages (from mlxtend) (1.1.1)\n",
      "Requirement already satisfied: python-dateutil>=2.7 in /Users/stephanienduaguba/anaconda3/lib/python3.10/site-packages (from matplotlib>=3.0.0->mlxtend) (2.8.2)\n",
      "Requirement already satisfied: cycler>=0.10 in /Users/stephanienduaguba/anaconda3/lib/python3.10/site-packages (from matplotlib>=3.0.0->mlxtend) (0.11.0)\n",
      "Requirement already satisfied: kiwisolver>=1.0.1 in /Users/stephanienduaguba/anaconda3/lib/python3.10/site-packages (from matplotlib>=3.0.0->mlxtend) (1.4.4)\n",
      "Requirement already satisfied: packaging>=20.0 in /Users/stephanienduaguba/anaconda3/lib/python3.10/site-packages (from matplotlib>=3.0.0->mlxtend) (22.0)\n",
      "Requirement already satisfied: pillow>=6.2.0 in /Users/stephanienduaguba/anaconda3/lib/python3.10/site-packages (from matplotlib>=3.0.0->mlxtend) (9.4.0)\n",
      "Requirement already satisfied: pyparsing>=2.3.1 in /Users/stephanienduaguba/anaconda3/lib/python3.10/site-packages (from matplotlib>=3.0.0->mlxtend) (3.0.9)\n",
      "Requirement already satisfied: contourpy>=1.0.1 in /Users/stephanienduaguba/anaconda3/lib/python3.10/site-packages (from matplotlib>=3.0.0->mlxtend) (1.0.5)\n",
      "Requirement already satisfied: fonttools>=4.22.0 in /Users/stephanienduaguba/anaconda3/lib/python3.10/site-packages (from matplotlib>=3.0.0->mlxtend) (4.25.0)\n",
      "Requirement already satisfied: pytz>=2020.1 in /Users/stephanienduaguba/anaconda3/lib/python3.10/site-packages (from pandas>=0.24.2->mlxtend) (2022.7)\n",
      "Requirement already satisfied: threadpoolctl>=2.0.0 in /Users/stephanienduaguba/anaconda3/lib/python3.10/site-packages (from scikit-learn>=1.0.2->mlxtend) (2.2.0)\n",
      "Requirement already satisfied: six>=1.5 in /Users/stephanienduaguba/anaconda3/lib/python3.10/site-packages (from python-dateutil>=2.7->matplotlib>=3.0.0->mlxtend) (1.16.0)\n",
      "Note: you may need to restart the kernel to use updated packages.\n"
     ]
    }
   ],
   "source": [
    "pip install mlxtend"
   ]
  },
  {
   "cell_type": "code",
   "execution_count": 13,
   "metadata": {},
   "outputs": [
    {
     "ename": "AttributeError",
     "evalue": "k_features tuple max value must be between 1 and X.shape[1].",
     "output_type": "error",
     "traceback": [
      "\u001b[0;31m---------------------------------------------------------------------------\u001b[0m",
      "\u001b[0;31mAttributeError\u001b[0m                            Traceback (most recent call last)",
      "Cell \u001b[0;32mIn[13], line 13\u001b[0m\n\u001b[1;32m      2\u001b[0m \u001b[38;5;28;01mfrom\u001b[39;00m \u001b[38;5;21;01mmlxtend\u001b[39;00m\u001b[38;5;21;01m.\u001b[39;00m\u001b[38;5;21;01mfeature_selection\u001b[39;00m \u001b[38;5;28;01mimport\u001b[39;00m SequentialFeatureSelector\n\u001b[1;32m      4\u001b[0m \u001b[38;5;66;03m# Create an instance of SequentialFeatureSelector\u001b[39;00m\n\u001b[1;32m      5\u001b[0m forward_feature_selection \u001b[38;5;241m=\u001b[39m \u001b[43mSequentialFeatureSelector\u001b[49m\u001b[43m(\u001b[49m\n\u001b[1;32m      6\u001b[0m \u001b[43m    \u001b[49m\u001b[43mLinearRegression\u001b[49m\u001b[43m(\u001b[49m\u001b[43mn_jobs\u001b[49m\u001b[38;5;241;43m=\u001b[39;49m\u001b[38;5;241;43m-\u001b[39;49m\u001b[38;5;241;43m1\u001b[39;49m\u001b[43m)\u001b[49m\u001b[43m,\u001b[49m\u001b[43m  \u001b[49m\u001b[38;5;66;43;03m# Linear regression model to evaluate feature subsets\u001b[39;49;00m\n\u001b[1;32m      7\u001b[0m \u001b[43m    \u001b[49m\u001b[43mk_features\u001b[49m\u001b[38;5;241;43m=\u001b[39;49m\u001b[43m(\u001b[49m\u001b[38;5;241;43m1\u001b[39;49m\u001b[43m,\u001b[49m\u001b[43m \u001b[49m\u001b[38;5;241;43m12\u001b[39;49m\u001b[43m)\u001b[49m\u001b[43m,\u001b[49m\u001b[43m           \u001b[49m\u001b[38;5;66;43;03m# Range of the number of features to select (from 1 to 12)\u001b[39;49;00m\n\u001b[1;32m      8\u001b[0m \u001b[43m    \u001b[49m\u001b[43mforward\u001b[49m\u001b[38;5;241;43m=\u001b[39;49m\u001b[38;5;28;43;01mTrue\u001b[39;49;00m\u001b[43m,\u001b[49m\u001b[43m                 \u001b[49m\u001b[38;5;66;43;03m# Perform forward feature selection\u001b[39;49;00m\n\u001b[1;32m      9\u001b[0m \u001b[43m    \u001b[49m\u001b[43mfloating\u001b[49m\u001b[38;5;241;43m=\u001b[39;49m\u001b[38;5;28;43;01mFalse\u001b[39;49;00m\u001b[43m,\u001b[49m\u001b[43m               \u001b[49m\u001b[38;5;66;43;03m# Disable floating feature selection (not used here)\u001b[39;49;00m\n\u001b[1;32m     10\u001b[0m \u001b[43m    \u001b[49m\u001b[43mverbose\u001b[49m\u001b[38;5;241;43m=\u001b[39;49m\u001b[38;5;241;43m2\u001b[39;49m\u001b[43m,\u001b[49m\u001b[43m                    \u001b[49m\u001b[38;5;66;43;03m# Verbosity level for output\u001b[39;49;00m\n\u001b[1;32m     11\u001b[0m \u001b[43m    \u001b[49m\u001b[43mscoring\u001b[49m\u001b[38;5;241;43m=\u001b[39;49m\u001b[38;5;124;43m'\u001b[39;49m\u001b[38;5;124;43mr2\u001b[39;49m\u001b[38;5;124;43m'\u001b[39;49m\u001b[43m,\u001b[49m\u001b[43m                 \u001b[49m\u001b[38;5;66;43;03m# Scoring metric to evaluate feature subsets (R-squared)\u001b[39;49;00m\n\u001b[1;32m     12\u001b[0m \u001b[43m    \u001b[49m\u001b[43mcv\u001b[49m\u001b[38;5;241;43m=\u001b[39;49m\u001b[38;5;241;43m5\u001b[39;49m\u001b[43m                          \u001b[49m\u001b[38;5;66;43;03m# Number of cross-validation folds\u001b[39;49;00m\n\u001b[0;32m---> 13\u001b[0m \u001b[43m)\u001b[49m\u001b[38;5;241;43m.\u001b[39;49m\u001b[43mfit\u001b[49m\u001b[43m(\u001b[49m\u001b[43mX_train\u001b[49m\u001b[43m,\u001b[49m\u001b[43m \u001b[49m\u001b[43my_train\u001b[49m\u001b[43m)\u001b[49m\n",
      "File \u001b[0;32m~/anaconda3/lib/python3.10/site-packages/mlxtend/feature_selection/sequential_feature_selector.py:484\u001b[0m, in \u001b[0;36mSequentialFeatureSelector.fit\u001b[0;34m(self, X, y, groups, **fit_params)\u001b[0m\n\u001b[1;32m    480\u001b[0m     \u001b[38;5;28;01mif\u001b[39;00m \u001b[38;5;28mself\u001b[39m\u001b[38;5;241m.\u001b[39mk_features[\u001b[38;5;241m1\u001b[39m] \u001b[38;5;129;01mnot\u001b[39;00m \u001b[38;5;129;01min\u001b[39;00m eligible_k_values_range:\n\u001b[1;32m    481\u001b[0m         err_msg \u001b[38;5;241m=\u001b[39m \u001b[38;5;28mself\u001b[39m\u001b[38;5;241m.\u001b[39mgenerate_error_message_k_features(\n\u001b[1;32m    482\u001b[0m             \u001b[38;5;124m\"\u001b[39m\u001b[38;5;124mk_features tuple max value\u001b[39m\u001b[38;5;124m\"\u001b[39m\n\u001b[1;32m    483\u001b[0m         )\n\u001b[0;32m--> 484\u001b[0m         \u001b[38;5;28;01mraise\u001b[39;00m \u001b[38;5;167;01mAttributeError\u001b[39;00m(err_msg)\n\u001b[1;32m    486\u001b[0m         \u001b[38;5;66;03m# raise AttributeError(\u001b[39;00m\n\u001b[1;32m    487\u001b[0m         \u001b[38;5;66;03m#    \"k_features tuple max value must be in\" \" range(1, X.shape[1]+1).\"\u001b[39;00m\n\u001b[1;32m    488\u001b[0m         \u001b[38;5;66;03m# )\u001b[39;00m\n\u001b[1;32m    490\u001b[0m \u001b[38;5;28mself\u001b[39m\u001b[38;5;241m.\u001b[39mis_parsimonious \u001b[38;5;241m=\u001b[39m \u001b[38;5;28;01mFalse\u001b[39;00m\n",
      "\u001b[0;31mAttributeError\u001b[0m: k_features tuple max value must be between 1 and X.shape[1]."
     ]
    }
   ],
   "source": [
    "# Import the SequentialFeatureSelector class from mlxtend\n",
    "from mlxtend.feature_selection import SequentialFeatureSelector\n",
    "\n",
    "# Create an instance of SequentialFeatureSelector\n",
    "forward_feature_selection = SequentialFeatureSelector(\n",
    "    LinearRegression(n_jobs=-1),  # Linear regression model to evaluate feature subsets\n",
    "    k_features=(1, 12),           # Range of the number of features to select (from 1 to 12)\n",
    "    forward=True,                 # Perform forward feature selection\n",
    "    floating=False,               # Disable floating feature selection (not used here)\n",
    "    verbose=2,                    # Verbosity level for output\n",
    "    scoring='r2',                 # Scoring metric to evaluate feature subsets (R-squared)\n",
    "    cv=5                          # Number of cross-validation folds\n",
    ").fit(X_train, y_train)"
   ]
  },
  {
   "cell_type": "markdown",
   "metadata": {
    "id": "3LCpYCPXl1XK"
   },
   "source": [
    "\n",
    "\n",
    "---\n",
    "\n",
    "\n",
    "\n",
    "---\n",
    "\n",
    "\n",
    "\n",
    "> > > > > > > > > © 2023 Institute of Data\n",
    "\n",
    "\n",
    "---\n",
    "\n",
    "\n",
    "\n",
    "---\n",
    "\n",
    "\n",
    "\n"
   ]
  }
 ],
 "metadata": {
  "colab": {
   "provenance": []
  },
  "kernelspec": {
   "display_name": "Python 3 (ipykernel)",
   "language": "python",
   "name": "python3"
  },
  "language_info": {
   "codemirror_mode": {
    "name": "ipython",
    "version": 3
   },
   "file_extension": ".py",
   "mimetype": "text/x-python",
   "name": "python",
   "nbconvert_exporter": "python",
   "pygments_lexer": "ipython3",
   "version": "3.10.13"
  }
 },
 "nbformat": 4,
 "nbformat_minor": 4
}
