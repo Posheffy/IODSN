{
 "cells": [
  {
   "cell_type": "markdown",
   "metadata": {
    "id": "7KeNKtNL2Ix-"
   },
   "source": [
    "<div>\n",
    "<img src=https://www.institutedata.com/wp-content/uploads/2019/10/iod_h_tp_primary_c.svg width=\"300\">\n",
    "</div>\n",
    "\n",
    "# Python - Lab 1\n",
    "\n",
    "## Learning objectives\n",
    "\n",
    "This lab demonstrates examples of:\n",
    "\n",
    "1. Creating and manipulating lists\n",
    "2. For loops\n",
    "3. Importing modules and functions\n",
    "4. Creating dictonaries\n",
    "\n",
    "## Instructions:\n",
    "\n",
    "1. Replace ??? with the appropriate code\n",
    "2. Press Shift + Enter to execute cell\n",
    "\n"
   ]
  },
  {
   "cell_type": "code",
   "execution_count": null,
   "metadata": {
    "id": "O1xoAb-G7DiM"
   },
   "outputs": [],
   "source": []
  },
  {
   "cell_type": "markdown",
   "metadata": {
    "id": "HZ_JC2K58kco"
   },
   "source": [
    "This is an example cell for text"
   ]
  },
  {
   "cell_type": "code",
   "execution_count": null,
   "metadata": {
    "id": "G34nwJwe8iW3"
   },
   "outputs": [],
   "source": []
  },
  {
   "cell_type": "code",
   "execution_count": 3,
   "metadata": {
    "id": "NaRcNY1l2LbD"
   },
   "outputs": [],
   "source": [
    "# create a list of 10 students (use just first name)\n",
    "students = ['alice','ben','cathy','dawn','emily','fern','emma','sean','felix','hugh']"
   ]
  },
  {
   "cell_type": "code",
   "execution_count": 4,
   "metadata": {
    "id": "lyMlOgoUZ2R4"
   },
   "outputs": [
    {
     "name": "stdout",
     "output_type": "stream",
     "text": [
      "['alice', 'ben', 'cathy', 'dawn', 'emily', 'fern', 'emma', 'sean', 'felix', 'hugh']\n"
     ]
    }
   ],
   "source": [
    "# print the list\n",
    "print(students)"
   ]
  },
  {
   "cell_type": "code",
   "execution_count": 11,
   "metadata": {
    "id": "LtbLA_T811kr"
   },
   "outputs": [
    {
     "name": "stdout",
     "output_type": "stream",
     "text": [
      "Index 01\t Alice\n",
      "Index 02\t Ben\n",
      "Index 03\t Cathy\n",
      "Index 04\t Dawn\n",
      "Index 05\t Emily\n",
      "Index 06\t Fern\n",
      "Index 07\t Emma\n",
      "Index 08\t Sean\n",
      "Index 09\t Felix\n",
      "Index 10\t Hugh\n"
     ]
    }
   ],
   "source": [
    "# print the list of students\n",
    "# in the following format\n",
    "# Index 01 \t Alice\n",
    "# Index 02 \t Bob\n",
    "# Index 03 \t Pradeep\n",
    "for index, name in enumerate(students, start=1):\n",
    "    print(f\"Index {index:02d}\\t {name.capitalize()}\")"
   ]
  },
  {
   "cell_type": "code",
   "execution_count": 14,
   "metadata": {
    "id": "OF5sj3CX1lHl"
   },
   "outputs": [
    {
     "name": "stdout",
     "output_type": "stream",
     "text": [
      "Index 10 \t Hugh\n",
      "Index 09 \t Felix\n",
      "Index 08 \t Sean\n",
      "Index 07 \t Emma\n",
      "Index 06 \t Fern\n",
      "Index 05 \t Emily\n",
      "Index 04 \t Dawn\n",
      "Index 03 \t Cathy\n",
      "Index 02 \t Ben\n",
      "Index 01 \t Alice\n"
     ]
    }
   ],
   "source": [
    "# print the list of students in reverse order one student in a line with its index\n",
    "# google search how to print list in reverse order\n",
    "for index, name in reversed(list(enumerate(students, start=1))):\n",
    "    print(f\"Index {index:02d} \\t {name.capitalize()}\")"
   ]
  },
  {
   "cell_type": "code",
   "execution_count": 18,
   "metadata": {
    "id": "eAdtim4G1pyV"
   },
   "outputs": [
    {
     "name": "stdout",
     "output_type": "stream",
     "text": [
      "['fern', 'sean', 'emily', 'hugh', 'emma', 'felix', 'ben', 'dawn', 'cathy', 'alice']\n"
     ]
    }
   ],
   "source": [
    "# print the student list in random order\n",
    "# hint look up the function random.sample\n",
    "import random\n",
    "random_order = random.sample(students, len(students))\n",
    "print(random_order)"
   ]
  },
  {
   "cell_type": "code",
   "execution_count": 19,
   "metadata": {
    "colab": {
     "base_uri": "https://localhost:8080/"
    },
    "executionInfo": {
     "elapsed": 301,
     "status": "ok",
     "timestamp": 1684804333142,
     "user": {
      "displayName": "Chaitanya Rao",
      "userId": "16367114639785284684"
     },
     "user_tz": -600
    },
    "id": "sfKkL5dt1tqG",
    "outputId": "a7623863-4f0d-4300-adaf-a344ec1fcc81"
   },
   "outputs": [
    {
     "name": "stdout",
     "output_type": "stream",
     "text": [
      "Students and their marks: \n",
      " {'alice': 87, 'ben': 45, 'cathy': 76, 'dawn': 64, 'emily': 66, 'fern': 90, 'emma': 55, 'sean': 73, 'felix': 69, 'hugh': 75}\n"
     ]
    }
   ],
   "source": [
    "# list students in decreasing order of their exam marks given their marks below\n",
    "# hint: look up the 'sorted' function\n",
    "marks = [87,45,76,64,66,90,55,73,69,75]\n",
    "studentsAndMarks = dict(zip(students,marks))\n",
    "print(f\"Students and their marks: \\n {studentsAndMarks}\")"
   ]
  },
  {
   "cell_type": "code",
   "execution_count": 27,
   "metadata": {
    "colab": {
     "base_uri": "https://localhost:8080/"
    },
    "executionInfo": {
     "elapsed": 308,
     "status": "ok",
     "timestamp": 1684804345867,
     "user": {
      "displayName": "Chaitanya Rao",
      "userId": "16367114639785284684"
     },
     "user_tz": -600
    },
    "id": "IPQQHA2h_MrC",
    "outputId": "ec8ff5c1-c702-43c1-90e2-421cf9130eb5"
   },
   "outputs": [
    {
     "data": {
      "text/plain": [
       "['fern',\n",
       " 'alice',\n",
       " 'cathy',\n",
       " 'hugh',\n",
       " 'sean',\n",
       " 'felix',\n",
       " 'emily',\n",
       " 'dawn',\n",
       " 'emma',\n",
       " 'ben']"
      ]
     },
     "execution_count": 27,
     "metadata": {},
     "output_type": "execute_result"
    }
   ],
   "source": [
    "#desired output:\n",
    "sorted(studentsAndMarks, key=studentsAndMarks.get, reverse=True)"
   ]
  },
  {
   "cell_type": "code",
   "execution_count": 28,
   "metadata": {},
   "outputs": [
    {
     "name": "stdout",
     "output_type": "stream",
     "text": [
      "Fern      : 90\n",
      "Alice     : 87\n",
      "Cathy     : 76\n",
      "Hugh      : 75\n",
      "Sean      : 73\n",
      "Felix     : 69\n",
      "Emily     : 66\n",
      "Dawn      : 64\n",
      "Emma      : 55\n",
      "Ben       : 45\n"
     ]
    }
   ],
   "source": [
    "for student in sorted(studentsAndMarks, key=studentsAndMarks.get, reverse=True):\n",
    "    print(f\"{student.capitalize():10s}: {studentsAndMarks[student]}\")"
   ]
  },
  {
   "cell_type": "markdown",
   "metadata": {
    "id": "1sXaEeYiyju-"
   },
   "source": [
    "\n",
    "\n",
    "---\n",
    "\n",
    "\n",
    "\n",
    "---\n",
    "\n",
    "\n",
    "\n",
    "> > > > > > > > > © 2023 Institute of Data\n",
    "\n",
    "\n",
    "---\n",
    "\n",
    "\n",
    "\n",
    "---\n",
    "\n",
    "\n",
    "\n"
   ]
  }
 ],
 "metadata": {
  "colab": {
   "provenance": []
  },
  "kernelspec": {
   "display_name": "Python 3 (ipykernel)",
   "language": "python",
   "name": "python3"
  },
  "language_info": {
   "codemirror_mode": {
    "name": "ipython",
    "version": 3
   },
   "file_extension": ".py",
   "mimetype": "text/x-python",
   "name": "python",
   "nbconvert_exporter": "python",
   "pygments_lexer": "ipython3",
   "version": "3.10.9"
  }
 },
 "nbformat": 4,
 "nbformat_minor": 1
}
