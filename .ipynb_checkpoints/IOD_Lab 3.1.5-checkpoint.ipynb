{
 "cells": [
  {
   "cell_type": "markdown",
   "metadata": {
    "id": "gnfClx7-FfjU"
   },
   "source": [
    "<div>\n",
    "<img src=https://www.institutedata.com/wp-content/uploads/2019/10/iod_h_tp_primary_c.svg width=\"300\">\n",
    "</div>"
   ]
  },
  {
   "cell_type": "markdown",
   "metadata": {
    "id": "_shYCClxFfjX"
   },
   "source": [
    "# Lab 3.1.5 \n",
    "# *Neo4j and Python*"
   ]
  },
  {
   "cell_type": "markdown",
   "metadata": {
    "id": "pDJmT5Y5Ffja"
   },
   "source": [
    "## Introduction\n",
    "\n",
    "Neo4j is the most popular graph database. Free versions include the Desktop (Developer) edition and the Community Server edition (which we can drive from Python). \n",
    "\n",
    "We will begin this lab by working through the tutorial embedded in the Neo4j *start* page to learn about graph databases structures and the Cypher query language. We will then see how to integrate a Neo4j database with a Python program."
   ]
  },
  {
   "cell_type": "markdown",
   "metadata": {
    "id": "--O6XzsrFfjc"
   },
   "source": [
    "The Community Server version can be downloaded here: https://neo4j.com/download-center/#releases \n"
   ]
  },
  {
   "cell_type": "markdown",
   "metadata": {
    "id": "iLovaF_hFfje"
   },
   "source": [
    "- Go through the *Concepts* tutorial. \n",
    "- At the end, click *Intro* under *Keep getting started* heading and go through the tutorial.\n",
    "- At the end, click *Cypher* under *Keep getting started* heading and go through the tutorial.\n",
    "- At the end, click *The Movie Graph* under *Jump into code* heading and go through the tutorial.\n"
   ]
  },
  {
   "cell_type": "markdown",
   "metadata": {
    "id": "hpo-lWuhFfjg"
   },
   "source": [
    "## Driving Neo4j from Python\n",
    "\n",
    "There are a variety of Python libraries for Neo4j, some of which provide more compact (and simpler) ways of executing commands. To avoid having to learn too many different ways of doing the same thing, however, we will use the official one, which is based on the syntax of the Cypher query language."
   ]
  },
  {
   "cell_type": "markdown",
   "metadata": {
    "id": "9KKFMPT4Ffjh"
   },
   "source": [
    "The ***Neo4j Bolt Driver for Python*** is documented at https://neo4j.com/docs/api/python-driver/current/."
   ]
  },
  {
   "cell_type": "markdown",
   "metadata": {},
   "source": [
    "First install via terminal\n",
    "\n",
    "pip install Neo4j"
   ]
  },
  {
   "cell_type": "code",
   "execution_count": 1,
   "metadata": {
    "id": "HAhDdXNsFfji"
   },
   "outputs": [],
   "source": [
    "# Establish a connection to Neo4j graph database using the official Neo4j Python driver\n",
    "from neo4j import GraphDatabase\n",
    "\n",
    "# Define the database URI (Uniform Resource Identifier) which specifies the address and port the Neo4j database is hosted\n",
    "# Bolt is a protocol used to communicate with Neo4j\n",
    "uri = \"bolt://localhost:7687\""
   ]
  },
  {
   "cell_type": "code",
   "execution_count": 2,
   "metadata": {
    "id": "0OvOtl7tFfjm"
   },
   "outputs": [],
   "source": [
    "# After executing this code below, the driver variable will hold an instance of the Neo4j database driver. \n",
    "# This driver can be used to create sessions and execute queries or transactions against the Neo4j database.\n",
    "driver = GraphDatabase.driver(uri, auth=(\"neo4j\", \"satibatiba\"))"
   ]
  },
  {
   "cell_type": "markdown",
   "metadata": {
    "id": "GYF3MCsMFfjq"
   },
   "source": [
    "To execute a query against a database using this driver, we need to wrap the Cypher query string in a function definition and pass the function to the `read_transaction` method of the `session` object. Our query function then has access to the `tx` object.\n",
    "\n",
    "Here is a function that finds all the movies that the requested `Person` acted in:"
   ]
  },
  {
   "cell_type": "code",
   "execution_count": 3,
   "metadata": {
    "id": "K3q7Wl8yFfjs"
   },
   "outputs": [],
   "source": [
    "# Function definition: \n",
    "# 'tx' represents a Neo4j transaction, 'name' represents the name of person. tx.run used to execute the Cypher query\n",
    "def print_movies_by(tx, name):\n",
    "    for record in tx.run(\"MATCH (a:Person)-[:ACTED_IN]->(anyMovies) \"\n",
    "                         \"WHERE a.name = $name \"\n",
    "                         \"RETURN anyMovies\", name = name):\n",
    "        print(record[\"anyMovies\"])"
   ]
  },
  {
   "cell_type": "markdown",
   "metadata": {},
   "source": [
    "The Cypher query itself consists of the following components:\n",
    "\n",
    "- MATCH (a:Person)-[:ACTED_IN]->(anyMovies): This part of the query matches a pattern in the graph. It looks for a node labeled as Person (representing a person) connected by an ACTED_IN relationship to another node labeled as anyMovies (representing a movie).\n",
    "\n",
    "- WHERE a.name = $name: This part of the query filters the results based on the name property of the Person node, matching it to the provided name parameter.\n",
    "\n",
    "- RETURN anyMovies: This part of the query specifies that we want to return the anyMovies nodes that match the pattern."
   ]
  },
  {
   "cell_type": "markdown",
   "metadata": {
    "id": "MTNO6Y6eFfjx"
   },
   "source": [
    "Here is how to use it to list Tom Hanks' movies:"
   ]
  },
  {
   "cell_type": "code",
   "execution_count": 4,
   "metadata": {
    "id": "eQTlrnveFfjy"
   },
   "outputs": [
    {
     "name": "stdout",
     "output_type": "stream",
     "text": [
      "<Node element_id='4:e254e499-a0f3-43b3-a5e0-0b024dbbfe4e:67' labels=frozenset({'Movie'}) properties={'tagline': 'At odds in life... in love on-line.', 'title': \"You've Got Mail\", 'released': 1998}>\n",
      "<Node element_id='4:e254e499-a0f3-43b3-a5e0-0b024dbbfe4e:142' labels=frozenset({'Movie'}) properties={'tagline': 'Houston, we have a problem.', 'title': 'Apollo 13', 'released': 1995}>\n",
      "<Node element_id='4:e254e499-a0f3-43b3-a5e0-0b024dbbfe4e:78' labels=frozenset({'Movie'}) properties={'tagline': 'A story of love, lava and burning desire.', 'title': 'Joe Versus the Volcano', 'released': 1990}>\n",
      "<Node element_id='4:e254e499-a0f3-43b3-a5e0-0b024dbbfe4e:85' labels=frozenset({'Movie'}) properties={'tagline': 'In every life there comes a time when that thing you dream becomes that thing you do', 'title': 'That Thing You Do', 'released': 1996}>\n",
      "<Node element_id='4:e254e499-a0f3-43b3-a5e0-0b024dbbfe4e:105' labels=frozenset({'Movie'}) properties={'tagline': 'Everything is connected', 'title': 'Cloud Atlas', 'released': 2012}>\n",
      "<Node element_id='4:e254e499-a0f3-43b3-a5e0-0b024dbbfe4e:109' labels=frozenset({'Movie'}) properties={'tagline': 'Break The Codes', 'title': 'The Da Vinci Code', 'released': 2006}>\n",
      "<Node element_id='4:e254e499-a0f3-43b3-a5e0-0b024dbbfe4e:73' labels=frozenset({'Movie'}) properties={'tagline': 'What if someone you never met, someone you never saw, someone you never knew was the only someone for you?', 'title': 'Sleepless in Seattle', 'released': 1993}>\n",
      "<Node element_id='4:e254e499-a0f3-43b3-a5e0-0b024dbbfe4e:160' labels=frozenset({'Movie'}) properties={'tagline': 'Once in a lifetime you get a chance to do something different.', 'title': 'A League of Their Own', 'released': 1992}>\n",
      "<Node element_id='4:e254e499-a0f3-43b3-a5e0-0b024dbbfe4e:128' labels=frozenset({'Movie'}) properties={'tagline': \"Walk a mile you'll never forget.\", 'title': 'The Green Mile', 'released': 1999}>\n",
      "<Node element_id='4:e254e499-a0f3-43b3-a5e0-0b024dbbfe4e:157' labels=frozenset({'Movie'}) properties={'tagline': \"A stiff drink. A little mascara. A lot of nerve. Who said they couldn't bring down the Soviet empire.\", 'title': \"Charlie Wilson's War\", 'released': 2007}>\n",
      "<Node element_id='4:e254e499-a0f3-43b3-a5e0-0b024dbbfe4e:148' labels=frozenset({'Movie'}) properties={'tagline': 'At the edge of the world, his journey begins.', 'title': 'Cast Away', 'released': 2000}>\n",
      "<Node element_id='4:e254e499-a0f3-43b3-a5e0-0b024dbbfe4e:159' labels=frozenset({'Movie'}) properties={'tagline': 'This Holiday Season… Believe', 'title': 'The Polar Express', 'released': 2004}>\n",
      "<Node element_id='4:e254e499-a0f3-43b3-a5e0-0b024dbbfe4e:246' labels=frozenset({'Movie'}) properties={'tagline': 'At odds in life... in love on-line.', 'title': \"You've Got Mail\", 'released': 1998}>\n",
      "<Node element_id='4:e254e499-a0f3-43b3-a5e0-0b024dbbfe4e:264' labels=frozenset({'Movie'}) properties={'tagline': 'In every life there comes a time when that thing you dream becomes that thing you do', 'title': 'That Thing You Do', 'released': 1996}>\n",
      "<Node element_id='4:e254e499-a0f3-43b3-a5e0-0b024dbbfe4e:321' labels=frozenset({'Movie'}) properties={'tagline': 'Houston, we have a problem.', 'title': 'Apollo 13', 'released': 1995}>\n",
      "<Node element_id='4:e254e499-a0f3-43b3-a5e0-0b024dbbfe4e:339' labels=frozenset({'Movie'}) properties={'tagline': 'Once in a lifetime you get a chance to do something different.', 'title': 'A League of Their Own', 'released': 1992}>\n",
      "<Node element_id='4:e254e499-a0f3-43b3-a5e0-0b024dbbfe4e:338' labels=frozenset({'Movie'}) properties={'tagline': 'This Holiday Season… Believe', 'title': 'The Polar Express', 'released': 2004}>\n",
      "<Node element_id='4:e254e499-a0f3-43b3-a5e0-0b024dbbfe4e:327' labels=frozenset({'Movie'}) properties={'tagline': 'At the edge of the world, his journey begins.', 'title': 'Cast Away', 'released': 2000}>\n",
      "<Node element_id='4:e254e499-a0f3-43b3-a5e0-0b024dbbfe4e:336' labels=frozenset({'Movie'}) properties={'tagline': \"A stiff drink. A little mascara. A lot of nerve. Who said they couldn't bring down the Soviet empire.\", 'title': \"Charlie Wilson's War\", 'released': 2007}>\n",
      "<Node element_id='4:e254e499-a0f3-43b3-a5e0-0b024dbbfe4e:288' labels=frozenset({'Movie'}) properties={'tagline': 'Break The Codes', 'title': 'The Da Vinci Code', 'released': 2006}>\n",
      "<Node element_id='4:e254e499-a0f3-43b3-a5e0-0b024dbbfe4e:252' labels=frozenset({'Movie'}) properties={'tagline': 'What if someone you never met, someone you never saw, someone you never knew was the only someone for you?', 'title': 'Sleepless in Seattle', 'released': 1993}>\n",
      "<Node element_id='4:e254e499-a0f3-43b3-a5e0-0b024dbbfe4e:257' labels=frozenset({'Movie'}) properties={'tagline': 'A story of love, lava and burning desire.', 'title': 'Joe Versus the Volcano', 'released': 1990}>\n",
      "<Node element_id='4:e254e499-a0f3-43b3-a5e0-0b024dbbfe4e:307' labels=frozenset({'Movie'}) properties={'tagline': \"Walk a mile you'll never forget.\", 'title': 'The Green Mile', 'released': 1999}>\n",
      "<Node element_id='4:e254e499-a0f3-43b3-a5e0-0b024dbbfe4e:284' labels=frozenset({'Movie'}) properties={'tagline': 'Everything is connected', 'title': 'Cloud Atlas', 'released': 2012}>\n"
     ]
    }
   ],
   "source": [
    "with driver.session() as session:\n",
    "    session.execute_read(print_movies_by, \"Tom Hanks\")"
   ]
  },
  {
   "cell_type": "markdown",
   "metadata": {},
   "source": [
    "Code explanation:\n",
    "- driver.session() opens a new session to interact with the Neo4j database. The 'with' statement ensures the session is properly closed after transaction is executed.\n",
    "- session.execute_read() is a method that initiates a read transaction within the opened session. Read transactions are used for read-only operations in Neo4j.\n",
    "- print_movies_by is the function that will be executed as part of this read transaction. It takes two arguments: \n",
    "- tx: This argument represents the transaction context and is provided automatically by the Neo4j driver.\n",
    "- \"Tom Hanks\": This is the value passed as the name argument to the print_movies_by function."
   ]
  },
  {
   "cell_type": "markdown",
   "metadata": {
    "id": "QDEBcR_5Ffj1"
   },
   "source": [
    "Clearly, some further wrangling is required to produce neat output. (Read the documentation before you attempt this.) "
   ]
  },
  {
   "cell_type": "markdown",
   "metadata": {
    "id": "joJo0-GmFfj1"
   },
   "source": [
    "In fact, both the method of using the Neo4j Bolt Driver and the data returned by it are unwieldy. This is typical of low-level drivers. "
   ]
  },
  {
   "cell_type": "markdown",
   "metadata": {
    "id": "bG--AtaEFfj2"
   },
   "source": [
    "Try building and running some more queries based on the code in examples queries in The Movie Graph tutorial."
   ]
  },
  {
   "cell_type": "markdown",
   "metadata": {
    "id": "sNOPRB7rFfj9"
   },
   "source": [
    "## - END -"
   ]
  },
  {
   "cell_type": "markdown",
   "metadata": {
    "id": "RERADKgNFq9T"
   },
   "source": [
    "\n",
    "\n",
    "---\n",
    "\n",
    "\n",
    "\n",
    "---\n",
    "\n",
    "\n",
    "\n",
    "> > > > > > > > > © 2023 Institute of Data\n",
    "\n",
    "\n",
    "---\n",
    "\n",
    "\n",
    "\n",
    "---\n",
    "\n",
    "\n",
    "\n"
   ]
  }
 ],
 "metadata": {
  "colab": {
   "provenance": []
  },
  "kernelspec": {
   "display_name": "Python 3 (ipykernel)",
   "language": "python",
   "name": "python3"
  },
  "language_info": {
   "codemirror_mode": {
    "name": "ipython",
    "version": 3
   },
   "file_extension": ".py",
   "mimetype": "text/x-python",
   "name": "python",
   "nbconvert_exporter": "python",
   "pygments_lexer": "ipython3",
   "version": "3.10.9"
  }
 },
 "nbformat": 4,
 "nbformat_minor": 4
}
