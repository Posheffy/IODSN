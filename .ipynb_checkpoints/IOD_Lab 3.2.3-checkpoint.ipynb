{
 "cells": [
  {
   "cell_type": "markdown",
   "metadata": {
    "id": "QaGbHIhQLFYq"
   },
   "source": [
    "<div>\n",
    "<img src=https://www.institutedata.com/wp-content/uploads/2019/10/iod_h_tp_primary_c.svg width=\"300\">\n",
    "</div>"
   ]
  },
  {
   "cell_type": "markdown",
   "metadata": {
    "id": "sMx6dqz7LFYv"
   },
   "source": [
    "# Lab 3.2.3 \n",
    "# *The Google BigQuery UI and API*"
   ]
  },
  {
   "cell_type": "markdown",
   "metadata": {
    "id": "SKGiPVSwLFYx"
   },
   "source": [
    "## Introduction"
   ]
  },
  {
   "cell_type": "markdown",
   "metadata": {
    "id": "aKMV45iQLFY2"
   },
   "source": [
    "The Google BigQuery UI provides access to Google's extensive collection of public data sets via an SQL-based query engine. \n",
    "\n",
    "The BigQuery API provides programmatic access to the data sets.\n",
    "\n",
    "We can use the UI to discover interesting data before writing Python code to access it. Then we can reproduce it in an API request so as to aggregate large amounts of data on Google's infrastructure before pulling the results into our application."
   ]
  },
  {
   "cell_type": "markdown",
   "metadata": {
    "id": "q3JonnfULFY6"
   },
   "source": [
    "## BigQuery Web UI\n",
    "\n",
    "Work through the Quickstart at https://cloud.google.com/bigquery/docs/quickstarts/quickstart-web-ui.\n",
    "\n",
    "You will need to set up a Google Cloud Platform account if you don't already have one. (This should not cost anything during the trial period unless you perform a large amount of querying. Afterwards, costs are based on actual resource usage, but most offerings have a free tier.)"
   ]
  },
  {
   "cell_type": "markdown",
   "metadata": {
    "id": "QM5QOIBpLFY9"
   },
   "source": [
    "## BigQuery API\n",
    "\n",
    "You should already have the Google Cloud Client Library for Python installed (https://cloud.google.com/python/setup).\n",
    "\n",
    "- Open Google Cloud Console (https://console.cloud.google.com/home/) and select to create a project.\n",
    "\n",
    "- Under \"Getting Started\", select \"Enable APIs and get credentials such as keys\"."
   ]
  },
  {
   "cell_type": "markdown",
   "metadata": {
    "id": "0Ni9g5D7LFY_"
   },
   "source": [
    "- In the API table, make sure the BigQuery API is enabled. Page back."
   ]
  },
  {
   "cell_type": "markdown",
   "metadata": {
    "id": "FYjui9nrLFZC"
   },
   "source": [
    "### Authentication\n",
    "\n",
    "Go to https://cloud.google.com/iam/docs/creating-managing-service-account-keys and follow the instructions under \"Create a service account key\" to create a service account."
   ]
  },
  {
   "cell_type": "markdown",
   "metadata": {
    "id": "OYryTo8SLFZE"
   },
   "source": [
    "- Fill out the form, giving the account an appropriate name, and choose \"Project Owner\" for Account Type.\n",
    "\n",
    "- Click \"Create\"."
   ]
  },
  {
   "cell_type": "markdown",
   "metadata": {
    "id": "lUx6uvpALFZF"
   },
   "source": [
    "- The keys will get saved to your computer.\n",
    "\n",
    "- Note the location and copy the file path (of the json file) to somewhere safe, for future reference."
   ]
  },
  {
   "cell_type": "markdown",
   "metadata": {
    "id": "DnYr6eJ-LFZH"
   },
   "source": [
    "- See here for more information:\n",
    "\n",
    "https://cloud.google.com/iam/docs/understanding-service-accounts?&_ga=2.173177830.-495703703.1532572448#managing_service_account_keys "
   ]
  },
  {
   "cell_type": "markdown",
   "metadata": {
    "id": "pQKOrjk8LFZI"
   },
   "source": [
    "This is supposed to get implicit key retrieval working:\n",
    "\n",
    "- Windows:\n",
    "    `set GOOGLE_APPLICATION_CREDENTIALS=[PATH]`\n",
    "    \n",
    "- Linux, MacOS:\n",
    "    `export GOOGLE_APPLICATION_CREDENTIALS=[PATH]`\n",
    "    \n",
    "where `[PATH]` is the full file path of your json key file."
   ]
  },
  {
   "cell_type": "markdown",
   "metadata": {},
   "source": [
    "Install google-cloud-sdk - https://cloud.google.com/sdk/docs/install-sdk"
   ]
  },
  {
   "cell_type": "markdown",
   "metadata": {
    "id": "5pvHgwVcLFZJ"
   },
   "source": [
    "### Using the Python API\n",
    "\n",
    "Google provides Python libraries for wrapping the Google APIs. \n",
    "\n",
    "__(Installing the \"google-cloud-storage\" and \"google-cloud-bigquery\" libraries should cover all the dependencies for this lab.)__ "
   ]
  },
  {
   "cell_type": "raw",
   "metadata": {
    "id": "-CFdsY-N6zeO"
   },
   "source": [
    "!pip install google-cloud-storage"
   ]
  },
  {
   "cell_type": "raw",
   "metadata": {
    "id": "Exi8RHoh65Ic"
   },
   "source": [
    "!pip install google-cloud-bigquery"
   ]
  },
  {
   "cell_type": "code",
   "execution_count": 1,
   "metadata": {
    "id": "0o5eABcXLFZL"
   },
   "outputs": [],
   "source": [
    "from google.cloud import bigquery\n",
    "from google.cloud.bigquery import Dataset\n",
    "from google.cloud import storage"
   ]
  },
  {
   "cell_type": "markdown",
   "metadata": {
    "id": "hHZQSxxqLFZR"
   },
   "source": [
    "Invoke a method of the `.Client` object that takes the path to your key files as a string argument:"
   ]
  },
  {
   "cell_type": "raw",
   "metadata": {
    "id": "8nTBh0TvLFZR"
   },
   "source": [
    "# Construct the absolute file path\n",
    "import os\n",
    "\n",
    "# Put the path to your json key file here...\n",
    "key_path = os.path.abspath('xxxx.json')"
   ]
  },
  {
   "cell_type": "code",
   "execution_count": null,
   "metadata": {},
   "outputs": [],
   "source": [
    "# ...Or write code to load it from a file that your notebook can easily find\n",
    "key_path = 'xxxx.json' # Path removed for security reasons"
   ]
  },
  {
   "cell_type": "markdown",
   "metadata": {
    "id": "0XKIHVy8LFZT"
   },
   "source": [
    "This should not throw an error if key retrieval / assignment worked:"
   ]
  },
  {
   "cell_type": "code",
   "execution_count": 3,
   "metadata": {
    "id": "gfqDJPU9LFZT"
   },
   "outputs": [],
   "source": [
    "# Create an instance of Google Cloud Storage client in python\n",
    "storage_client = storage.Client.from_service_account_json(key_path)"
   ]
  },
  {
   "cell_type": "markdown",
   "metadata": {
    "id": "Z1sntjgJLFZU"
   },
   "source": [
    "*Nb. The `storage` object was used in the above example, but there are other objects of interest that have polymorphic `Client` members that are used similarly, such as `bigquery`, which is used below.*"
   ]
  },
  {
   "cell_type": "markdown",
   "metadata": {
    "id": "zSA3wp7NLFZX"
   },
   "source": [
    "Next, execute this:"
   ]
  },
  {
   "cell_type": "code",
   "execution_count": 4,
   "metadata": {
    "id": "ljcqTlxXLFZX"
   },
   "outputs": [],
   "source": [
    "# Create an instance of Google BigQuery client in python\n",
    "client = bigquery.Client.from_service_account_json(key_path)"
   ]
  },
  {
   "cell_type": "markdown",
   "metadata": {
    "id": "kS1b8GXYLFZY"
   },
   "source": [
    "This client is associated with the default project (which was set or defaulted in the BigQuery UI): "
   ]
  },
  {
   "cell_type": "code",
   "execution_count": 5,
   "metadata": {
    "id": "LflN4IlzLFZY"
   },
   "outputs": [
    {
     "data": {
      "text/plain": [
       "'my-iod-project'"
      ]
     },
     "execution_count": 5,
     "metadata": {},
     "output_type": "execute_result"
    }
   ],
   "source": [
    "# Confirm project ID associated with BigQuery client\n",
    "client.project"
   ]
  },
  {
   "cell_type": "markdown",
   "metadata": {
    "id": "BXQNVF1XLFZb"
   },
   "source": [
    "A BigQuery project contains datasets. Datasets contain tables. To get at the data in a table we need to create a reference that covers this hierarchy; in the `bigquery` library this looks like `project.dataset.table`.  \n",
    "\n",
    "(Nb. Queries can be performed on projects and datasets, but most queries are performed on tables.)"
   ]
  },
  {
   "cell_type": "markdown",
   "metadata": {
    "id": "fOtLSyBdLFZb"
   },
   "source": [
    "To explore the public datasets we will start by reassigning our `client` variable using optional `project` parameter (set to `bigquery-public-data`):"
   ]
  },
  {
   "cell_type": "code",
   "execution_count": 6,
   "metadata": {
    "id": "SQTQ24whLFZc"
   },
   "outputs": [
    {
     "name": "stdout",
     "output_type": "stream",
     "text": [
      "bigquery-public-data\n"
     ]
    }
   ],
   "source": [
    "# project = 'bigquery-public-data'\n",
    "client = bigquery.Client.from_service_account_json(key_path, project = 'bigquery-public-data')\n",
    "print(client.project)"
   ]
  },
  {
   "cell_type": "markdown",
   "metadata": {
    "id": "ZonWy10xLFZe"
   },
   "source": [
    "Here is how to get a list of the datasets in the current project:"
   ]
  },
  {
   "cell_type": "code",
   "execution_count": 7,
   "metadata": {
    "collapsed": true,
    "id": "yQan0v1vLFZe",
    "jupyter": {
     "outputs_hidden": true
    },
    "tags": []
   },
   "outputs": [
    {
     "name": "stdout",
     "output_type": "stream",
     "text": [
      "[<google.cloud.bigquery.dataset.DatasetListItem object at 0x7fcb78555a50>, <google.cloud.bigquery.dataset.DatasetListItem object at 0x7fcb9b339000>, <google.cloud.bigquery.dataset.DatasetListItem object at 0x7fcb9b339180>, <google.cloud.bigquery.dataset.DatasetListItem object at 0x7fcb9b339ae0>, <google.cloud.bigquery.dataset.DatasetListItem object at 0x7fcb9b33aaa0>, <google.cloud.bigquery.dataset.DatasetListItem object at 0x7fcb9b33a500>, <google.cloud.bigquery.dataset.DatasetListItem object at 0x7fcb9b33a230>, <google.cloud.bigquery.dataset.DatasetListItem object at 0x7fcb9b33a890>, <google.cloud.bigquery.dataset.DatasetListItem object at 0x7fcb9b33a9e0>, <google.cloud.bigquery.dataset.DatasetListItem object at 0x7fcb9b33ab60>, <google.cloud.bigquery.dataset.DatasetListItem object at 0x7fcb9b33ac80>, <google.cloud.bigquery.dataset.DatasetListItem object at 0x7fcb9b33a770>, <google.cloud.bigquery.dataset.DatasetListItem object at 0x7fcb9b33abc0>, <google.cloud.bigquery.dataset.DatasetListItem object at 0x7fcb9b33ace0>, <google.cloud.bigquery.dataset.DatasetListItem object at 0x7fcb9b33ada0>, <google.cloud.bigquery.dataset.DatasetListItem object at 0x7fcb9b33aa40>, <google.cloud.bigquery.dataset.DatasetListItem object at 0x7fcb9b33ac50>, <google.cloud.bigquery.dataset.DatasetListItem object at 0x7fcb9b33ae30>, <google.cloud.bigquery.dataset.DatasetListItem object at 0x7fcb9b33ae90>, <google.cloud.bigquery.dataset.DatasetListItem object at 0x7fcb9b33aef0>, <google.cloud.bigquery.dataset.DatasetListItem object at 0x7fcb9b33af50>, <google.cloud.bigquery.dataset.DatasetListItem object at 0x7fcb9b33afb0>, <google.cloud.bigquery.dataset.DatasetListItem object at 0x7fcb9b33b010>, <google.cloud.bigquery.dataset.DatasetListItem object at 0x7fcb9b33b070>, <google.cloud.bigquery.dataset.DatasetListItem object at 0x7fcb9b33b0d0>, <google.cloud.bigquery.dataset.DatasetListItem object at 0x7fcb9b33b130>, <google.cloud.bigquery.dataset.DatasetListItem object at 0x7fcb9b33b190>, <google.cloud.bigquery.dataset.DatasetListItem object at 0x7fcb9b33b1f0>, <google.cloud.bigquery.dataset.DatasetListItem object at 0x7fcb9b33b250>, <google.cloud.bigquery.dataset.DatasetListItem object at 0x7fcb9b33b2b0>, <google.cloud.bigquery.dataset.DatasetListItem object at 0x7fcb9b33b310>, <google.cloud.bigquery.dataset.DatasetListItem object at 0x7fcb9b33b370>, <google.cloud.bigquery.dataset.DatasetListItem object at 0x7fcb9b33b3d0>, <google.cloud.bigquery.dataset.DatasetListItem object at 0x7fcb9b33b430>, <google.cloud.bigquery.dataset.DatasetListItem object at 0x7fcb9b33b490>, <google.cloud.bigquery.dataset.DatasetListItem object at 0x7fcb9b33b4f0>, <google.cloud.bigquery.dataset.DatasetListItem object at 0x7fcb9b33b550>, <google.cloud.bigquery.dataset.DatasetListItem object at 0x7fcb9b33b5b0>, <google.cloud.bigquery.dataset.DatasetListItem object at 0x7fcb9b33b610>, <google.cloud.bigquery.dataset.DatasetListItem object at 0x7fcb9b33b670>, <google.cloud.bigquery.dataset.DatasetListItem object at 0x7fcb9b33b6d0>, <google.cloud.bigquery.dataset.DatasetListItem object at 0x7fcb9b33b730>, <google.cloud.bigquery.dataset.DatasetListItem object at 0x7fcb9b33b790>, <google.cloud.bigquery.dataset.DatasetListItem object at 0x7fcb9b33b7f0>, <google.cloud.bigquery.dataset.DatasetListItem object at 0x7fcb9b33b850>, <google.cloud.bigquery.dataset.DatasetListItem object at 0x7fcb9b33b8b0>, <google.cloud.bigquery.dataset.DatasetListItem object at 0x7fcb9b33b910>, <google.cloud.bigquery.dataset.DatasetListItem object at 0x7fcb9b33b970>, <google.cloud.bigquery.dataset.DatasetListItem object at 0x7fcb9b33b9d0>, <google.cloud.bigquery.dataset.DatasetListItem object at 0x7fcb9b33ba30>, <google.cloud.bigquery.dataset.DatasetListItem object at 0x7fcb9961d630>, <google.cloud.bigquery.dataset.DatasetListItem object at 0x7fcb994b37c0>, <google.cloud.bigquery.dataset.DatasetListItem object at 0x7fcb994b3220>, <google.cloud.bigquery.dataset.DatasetListItem object at 0x7fcb78c1fdc0>, <google.cloud.bigquery.dataset.DatasetListItem object at 0x7fcb9b33ba90>, <google.cloud.bigquery.dataset.DatasetListItem object at 0x7fcb9b33baf0>, <google.cloud.bigquery.dataset.DatasetListItem object at 0x7fcb9b33bb80>, <google.cloud.bigquery.dataset.DatasetListItem object at 0x7fcb9b338ee0>, <google.cloud.bigquery.dataset.DatasetListItem object at 0x7fcb9b33bc70>, <google.cloud.bigquery.dataset.DatasetListItem object at 0x7fcb9b339120>, <google.cloud.bigquery.dataset.DatasetListItem object at 0x7fcb9b33bc40>, <google.cloud.bigquery.dataset.DatasetListItem object at 0x7fcb9b33be50>, <google.cloud.bigquery.dataset.DatasetListItem object at 0x7fcb9b33bb50>, <google.cloud.bigquery.dataset.DatasetListItem object at 0x7fcb9b33a260>, <google.cloud.bigquery.dataset.DatasetListItem object at 0x7fcb9b33beb0>, <google.cloud.bigquery.dataset.DatasetListItem object at 0x7fcb9b33bf70>, <google.cloud.bigquery.dataset.DatasetListItem object at 0x7fcb9b33bee0>, <google.cloud.bigquery.dataset.DatasetListItem object at 0x7fcb9b3b0130>, <google.cloud.bigquery.dataset.DatasetListItem object at 0x7fcb9b3b0190>, <google.cloud.bigquery.dataset.DatasetListItem object at 0x7fcb9b3b01f0>, <google.cloud.bigquery.dataset.DatasetListItem object at 0x7fcb9b3b0250>, <google.cloud.bigquery.dataset.DatasetListItem object at 0x7fcb9b3b02b0>, <google.cloud.bigquery.dataset.DatasetListItem object at 0x7fcb9b3b0310>, <google.cloud.bigquery.dataset.DatasetListItem object at 0x7fcb9b3b0370>, <google.cloud.bigquery.dataset.DatasetListItem object at 0x7fcb9b3b03d0>, <google.cloud.bigquery.dataset.DatasetListItem object at 0x7fcb9b3b0430>, <google.cloud.bigquery.dataset.DatasetListItem object at 0x7fcb9b3b0490>, <google.cloud.bigquery.dataset.DatasetListItem object at 0x7fcb9b3b04f0>, <google.cloud.bigquery.dataset.DatasetListItem object at 0x7fcb9b3b0550>, <google.cloud.bigquery.dataset.DatasetListItem object at 0x7fcb9b3b05b0>, <google.cloud.bigquery.dataset.DatasetListItem object at 0x7fcb9b3b0610>, <google.cloud.bigquery.dataset.DatasetListItem object at 0x7fcb9b3b0670>, <google.cloud.bigquery.dataset.DatasetListItem object at 0x7fcb9b3b06d0>, <google.cloud.bigquery.dataset.DatasetListItem object at 0x7fcb9b3b0730>, <google.cloud.bigquery.dataset.DatasetListItem object at 0x7fcb9b3b0790>, <google.cloud.bigquery.dataset.DatasetListItem object at 0x7fcb9b3b07f0>, <google.cloud.bigquery.dataset.DatasetListItem object at 0x7fcb9b3b0850>, <google.cloud.bigquery.dataset.DatasetListItem object at 0x7fcb9b3b08b0>, <google.cloud.bigquery.dataset.DatasetListItem object at 0x7fcb9b3b0910>, <google.cloud.bigquery.dataset.DatasetListItem object at 0x7fcb9b3b0970>, <google.cloud.bigquery.dataset.DatasetListItem object at 0x7fcb9b3b09d0>, <google.cloud.bigquery.dataset.DatasetListItem object at 0x7fcb9b3b0a30>, <google.cloud.bigquery.dataset.DatasetListItem object at 0x7fcb9b3b0a90>, <google.cloud.bigquery.dataset.DatasetListItem object at 0x7fcb9b3b0af0>, <google.cloud.bigquery.dataset.DatasetListItem object at 0x7fcb9b3b0b50>, <google.cloud.bigquery.dataset.DatasetListItem object at 0x7fcb9b3b0bb0>, <google.cloud.bigquery.dataset.DatasetListItem object at 0x7fcb9b3b0c10>, <google.cloud.bigquery.dataset.DatasetListItem object at 0x7fcb9b3b0c70>, <google.cloud.bigquery.dataset.DatasetListItem object at 0x7fcb9b3b0cd0>, <google.cloud.bigquery.dataset.DatasetListItem object at 0x7fcb9b3b0d30>, <google.cloud.bigquery.dataset.DatasetListItem object at 0x7fcb78556b00>, <google.cloud.bigquery.dataset.DatasetListItem object at 0x7fcb9b3b0d90>, <google.cloud.bigquery.dataset.DatasetListItem object at 0x7fcb9b3b0e20>, <google.cloud.bigquery.dataset.DatasetListItem object at 0x7fcb9b3b0e80>, <google.cloud.bigquery.dataset.DatasetListItem object at 0x7fcb9b3b1090>, <google.cloud.bigquery.dataset.DatasetListItem object at 0x7fcb9b3b1060>, <google.cloud.bigquery.dataset.DatasetListItem object at 0x7fcb9b3b1120>, <google.cloud.bigquery.dataset.DatasetListItem object at 0x7fcb9b3b0f70>, <google.cloud.bigquery.dataset.DatasetListItem object at 0x7fcb9b3b11e0>, <google.cloud.bigquery.dataset.DatasetListItem object at 0x7fcb9b3b1210>, <google.cloud.bigquery.dataset.DatasetListItem object at 0x7fcb9b3b12d0>, <google.cloud.bigquery.dataset.DatasetListItem object at 0x7fcb9b3b1150>, <google.cloud.bigquery.dataset.DatasetListItem object at 0x7fcb9b3b1240>, <google.cloud.bigquery.dataset.DatasetListItem object at 0x7fcb9b3b13f0>, <google.cloud.bigquery.dataset.DatasetListItem object at 0x7fcb9b3b0f40>, <google.cloud.bigquery.dataset.DatasetListItem object at 0x7fcb9b3b0ee0>, <google.cloud.bigquery.dataset.DatasetListItem object at 0x7fcb9b3b1360>, <google.cloud.bigquery.dataset.DatasetListItem object at 0x7fcb9b3b1330>, <google.cloud.bigquery.dataset.DatasetListItem object at 0x7fcb9b3b1450>, <google.cloud.bigquery.dataset.DatasetListItem object at 0x7fcb9b3b14b0>, <google.cloud.bigquery.dataset.DatasetListItem object at 0x7fcb9b3b1510>, <google.cloud.bigquery.dataset.DatasetListItem object at 0x7fcb9b3b1570>, <google.cloud.bigquery.dataset.DatasetListItem object at 0x7fcb9b3b15d0>, <google.cloud.bigquery.dataset.DatasetListItem object at 0x7fcb9b3b1630>, <google.cloud.bigquery.dataset.DatasetListItem object at 0x7fcb9b3b1690>, <google.cloud.bigquery.dataset.DatasetListItem object at 0x7fcb9b3b16f0>, <google.cloud.bigquery.dataset.DatasetListItem object at 0x7fcb9b3b1750>, <google.cloud.bigquery.dataset.DatasetListItem object at 0x7fcb9b3b17b0>, <google.cloud.bigquery.dataset.DatasetListItem object at 0x7fcb9b3b1810>, <google.cloud.bigquery.dataset.DatasetListItem object at 0x7fcb9b3b1870>, <google.cloud.bigquery.dataset.DatasetListItem object at 0x7fcb9b3b18d0>, <google.cloud.bigquery.dataset.DatasetListItem object at 0x7fcb9b3b1930>, <google.cloud.bigquery.dataset.DatasetListItem object at 0x7fcb9b3b1990>, <google.cloud.bigquery.dataset.DatasetListItem object at 0x7fcb9b3b19f0>, <google.cloud.bigquery.dataset.DatasetListItem object at 0x7fcb9b3b1a50>, <google.cloud.bigquery.dataset.DatasetListItem object at 0x7fcb9b3b1ab0>, <google.cloud.bigquery.dataset.DatasetListItem object at 0x7fcb9b3b1b10>, <google.cloud.bigquery.dataset.DatasetListItem object at 0x7fcb9b3b1b70>, <google.cloud.bigquery.dataset.DatasetListItem object at 0x7fcb9b3b1bd0>, <google.cloud.bigquery.dataset.DatasetListItem object at 0x7fcb9b3b1c30>, <google.cloud.bigquery.dataset.DatasetListItem object at 0x7fcb9b3b1c90>, <google.cloud.bigquery.dataset.DatasetListItem object at 0x7fcb9b3b1cf0>, <google.cloud.bigquery.dataset.DatasetListItem object at 0x7fcb9b3b1d50>, <google.cloud.bigquery.dataset.DatasetListItem object at 0x7fcb9b3b1db0>, <google.cloud.bigquery.dataset.DatasetListItem object at 0x7fcb9b3b1e10>, <google.cloud.bigquery.dataset.DatasetListItem object at 0x7fcb9b3b1e70>, <google.cloud.bigquery.dataset.DatasetListItem object at 0x7fcb9b3b1ed0>, <google.cloud.bigquery.dataset.DatasetListItem object at 0x7fcb9b3b1f30>, <google.cloud.bigquery.dataset.DatasetListItem object at 0x7fcb9b3b1f90>, <google.cloud.bigquery.dataset.DatasetListItem object at 0x7fcb9b3b1ff0>, <google.cloud.bigquery.dataset.DatasetListItem object at 0x7fcb9b33be20>, <google.cloud.bigquery.dataset.DatasetListItem object at 0x7fcb9b3b2080>, <google.cloud.bigquery.dataset.DatasetListItem object at 0x7fcb9b3b2170>, <google.cloud.bigquery.dataset.DatasetListItem object at 0x7fcb9b3b2380>, <google.cloud.bigquery.dataset.DatasetListItem object at 0x7fcb9b3b22f0>, <google.cloud.bigquery.dataset.DatasetListItem object at 0x7fcb9b3b22c0>, <google.cloud.bigquery.dataset.DatasetListItem object at 0x7fcb9b3b23e0>, <google.cloud.bigquery.dataset.DatasetListItem object at 0x7fcb9b3b23b0>, <google.cloud.bigquery.dataset.DatasetListItem object at 0x7fcb9b3b2470>, <google.cloud.bigquery.dataset.DatasetListItem object at 0x7fcb9b3b2560>, <google.cloud.bigquery.dataset.DatasetListItem object at 0x7fcb9b3b2260>, <google.cloud.bigquery.dataset.DatasetListItem object at 0x7fcb9b3b1420>, <google.cloud.bigquery.dataset.DatasetListItem object at 0x7fcb9b3b25c0>, <google.cloud.bigquery.dataset.DatasetListItem object at 0x7fcb9b3b21d0>, <google.cloud.bigquery.dataset.DatasetListItem object at 0x7fcb9b3b2110>, <google.cloud.bigquery.dataset.DatasetListItem object at 0x7fcb9b3b2680>, <google.cloud.bigquery.dataset.DatasetListItem object at 0x7fcb9b3b2290>, <google.cloud.bigquery.dataset.DatasetListItem object at 0x7fcb9b3b2530>, <google.cloud.bigquery.dataset.DatasetListItem object at 0x7fcb9b3b2710>, <google.cloud.bigquery.dataset.DatasetListItem object at 0x7fcb9b3b2770>, <google.cloud.bigquery.dataset.DatasetListItem object at 0x7fcb9b3b27d0>, <google.cloud.bigquery.dataset.DatasetListItem object at 0x7fcb9b3b2830>, <google.cloud.bigquery.dataset.DatasetListItem object at 0x7fcb9b3b2890>, <google.cloud.bigquery.dataset.DatasetListItem object at 0x7fcb9b3b28f0>, <google.cloud.bigquery.dataset.DatasetListItem object at 0x7fcb9b3b2950>, <google.cloud.bigquery.dataset.DatasetListItem object at 0x7fcb9b3b29b0>, <google.cloud.bigquery.dataset.DatasetListItem object at 0x7fcb9b3b2a10>, <google.cloud.bigquery.dataset.DatasetListItem object at 0x7fcb9b3b2a70>, <google.cloud.bigquery.dataset.DatasetListItem object at 0x7fcb9b3b2ad0>, <google.cloud.bigquery.dataset.DatasetListItem object at 0x7fcb9b3b2b30>, <google.cloud.bigquery.dataset.DatasetListItem object at 0x7fcb9b3b2b90>, <google.cloud.bigquery.dataset.DatasetListItem object at 0x7fcb9b3b2bf0>, <google.cloud.bigquery.dataset.DatasetListItem object at 0x7fcb9b3b2c50>, <google.cloud.bigquery.dataset.DatasetListItem object at 0x7fcb9b3b2cb0>, <google.cloud.bigquery.dataset.DatasetListItem object at 0x7fcb9b3b2d10>, <google.cloud.bigquery.dataset.DatasetListItem object at 0x7fcb9b3b2d70>, <google.cloud.bigquery.dataset.DatasetListItem object at 0x7fcb9b3b2dd0>, <google.cloud.bigquery.dataset.DatasetListItem object at 0x7fcb9b3b2e30>, <google.cloud.bigquery.dataset.DatasetListItem object at 0x7fcb9b3b2e90>, <google.cloud.bigquery.dataset.DatasetListItem object at 0x7fcb9b3b2ef0>, <google.cloud.bigquery.dataset.DatasetListItem object at 0x7fcb9b3b2f50>, <google.cloud.bigquery.dataset.DatasetListItem object at 0x7fcb9b3b2fb0>, <google.cloud.bigquery.dataset.DatasetListItem object at 0x7fcb9b3b3010>, <google.cloud.bigquery.dataset.DatasetListItem object at 0x7fcb9b3b3070>, <google.cloud.bigquery.dataset.DatasetListItem object at 0x7fcb9b3b30d0>, <google.cloud.bigquery.dataset.DatasetListItem object at 0x7fcb9b3b3130>, <google.cloud.bigquery.dataset.DatasetListItem object at 0x7fcb9b3b3190>, <google.cloud.bigquery.dataset.DatasetListItem object at 0x7fcb9b3b31f0>, <google.cloud.bigquery.dataset.DatasetListItem object at 0x7fcb9b3b3250>, <google.cloud.bigquery.dataset.DatasetListItem object at 0x7fcb9b3b32b0>, <google.cloud.bigquery.dataset.DatasetListItem object at 0x7fcb9b3b2050>, <google.cloud.bigquery.dataset.DatasetListItem object at 0x7fcb9b3b3340>, <google.cloud.bigquery.dataset.DatasetListItem object at 0x7fcb9b3b3430>, <google.cloud.bigquery.dataset.DatasetListItem object at 0x7fcb9b3b3640>, <google.cloud.bigquery.dataset.DatasetListItem object at 0x7fcb9b3b35b0>, <google.cloud.bigquery.dataset.DatasetListItem object at 0x7fcb9b3b3580>, <google.cloud.bigquery.dataset.DatasetListItem object at 0x7fcb9b3b36a0>, <google.cloud.bigquery.dataset.DatasetListItem object at 0x7fcb9b3b3670>, <google.cloud.bigquery.dataset.DatasetListItem object at 0x7fcb9b3b36d0>, <google.cloud.bigquery.dataset.DatasetListItem object at 0x7fcb9b3b3850>, <google.cloud.bigquery.dataset.DatasetListItem object at 0x7fcb9b3b3520>, <google.cloud.bigquery.dataset.DatasetListItem object at 0x7fcb9b3b26e0>, <google.cloud.bigquery.dataset.DatasetListItem object at 0x7fcb9b3b38b0>, <google.cloud.bigquery.dataset.DatasetListItem object at 0x7fcb9b3b3490>, <google.cloud.bigquery.dataset.DatasetListItem object at 0x7fcb9b3b33d0>, <google.cloud.bigquery.dataset.DatasetListItem object at 0x7fcb9b3b3970>, <google.cloud.bigquery.dataset.DatasetListItem object at 0x7fcb9b3b3550>, <google.cloud.bigquery.dataset.DatasetListItem object at 0x7fcb9b3b3820>, <google.cloud.bigquery.dataset.DatasetListItem object at 0x7fcb9b3b3a00>, <google.cloud.bigquery.dataset.DatasetListItem object at 0x7fcb9b3b3a60>, <google.cloud.bigquery.dataset.DatasetListItem object at 0x7fcb9b3b3ac0>, <google.cloud.bigquery.dataset.DatasetListItem object at 0x7fcb9b3b3b20>, <google.cloud.bigquery.dataset.DatasetListItem object at 0x7fcb9b3b3b80>, <google.cloud.bigquery.dataset.DatasetListItem object at 0x7fcb9b3b3be0>, <google.cloud.bigquery.dataset.DatasetListItem object at 0x7fcb9b3b3c40>, <google.cloud.bigquery.dataset.DatasetListItem object at 0x7fcb9b3b3ca0>, <google.cloud.bigquery.dataset.DatasetListItem object at 0x7fcb9b3b3d00>, <google.cloud.bigquery.dataset.DatasetListItem object at 0x7fcb9b3b3d60>, <google.cloud.bigquery.dataset.DatasetListItem object at 0x7fcb9b3b3dc0>, <google.cloud.bigquery.dataset.DatasetListItem object at 0x7fcb9b3b3e20>, <google.cloud.bigquery.dataset.DatasetListItem object at 0x7fcb9b3b3e80>, <google.cloud.bigquery.dataset.DatasetListItem object at 0x7fcb9b3b3ee0>, <google.cloud.bigquery.dataset.DatasetListItem object at 0x7fcb9b3b3f40>, <google.cloud.bigquery.dataset.DatasetListItem object at 0x7fcb9b3b3fa0>, <google.cloud.bigquery.dataset.DatasetListItem object at 0x7fcb50024040>, <google.cloud.bigquery.dataset.DatasetListItem object at 0x7fcb500240a0>, <google.cloud.bigquery.dataset.DatasetListItem object at 0x7fcb50024100>, <google.cloud.bigquery.dataset.DatasetListItem object at 0x7fcb50024160>, <google.cloud.bigquery.dataset.DatasetListItem object at 0x7fcb500241c0>, <google.cloud.bigquery.dataset.DatasetListItem object at 0x7fcb50024220>, <google.cloud.bigquery.dataset.DatasetListItem object at 0x7fcb50024280>, <google.cloud.bigquery.dataset.DatasetListItem object at 0x7fcb500242e0>, <google.cloud.bigquery.dataset.DatasetListItem object at 0x7fcb50024340>, <google.cloud.bigquery.dataset.DatasetListItem object at 0x7fcb500243a0>, <google.cloud.bigquery.dataset.DatasetListItem object at 0x7fcb50024400>, <google.cloud.bigquery.dataset.DatasetListItem object at 0x7fcb50024460>, <google.cloud.bigquery.dataset.DatasetListItem object at 0x7fcb500244c0>, <google.cloud.bigquery.dataset.DatasetListItem object at 0x7fcb50024520>, <google.cloud.bigquery.dataset.DatasetListItem object at 0x7fcb50024580>, <google.cloud.bigquery.dataset.DatasetListItem object at 0x7fcb500245e0>, <google.cloud.bigquery.dataset.DatasetListItem object at 0x7fcb9b3b3310>, <google.cloud.bigquery.dataset.DatasetListItem object at 0x7fcb50024640>, <google.cloud.bigquery.dataset.DatasetListItem object at 0x7fcb500246d0>, <google.cloud.bigquery.dataset.DatasetListItem object at 0x7fcb50024730>, <google.cloud.bigquery.dataset.DatasetListItem object at 0x7fcb50024940>, <google.cloud.bigquery.dataset.DatasetListItem object at 0x7fcb50024910>, <google.cloud.bigquery.dataset.DatasetListItem object at 0x7fcb500249d0>, <google.cloud.bigquery.dataset.DatasetListItem object at 0x7fcb50024820>, <google.cloud.bigquery.dataset.DatasetListItem object at 0x7fcb50024a90>, <google.cloud.bigquery.dataset.DatasetListItem object at 0x7fcb50024ac0>, <google.cloud.bigquery.dataset.DatasetListItem object at 0x7fcb50024b80>, <google.cloud.bigquery.dataset.DatasetListItem object at 0x7fcb50024a00>, <google.cloud.bigquery.dataset.DatasetListItem object at 0x7fcb50024af0>, <google.cloud.bigquery.dataset.DatasetListItem object at 0x7fcb50024ca0>, <google.cloud.bigquery.dataset.DatasetListItem object at 0x7fcb500247f0>, <google.cloud.bigquery.dataset.DatasetListItem object at 0x7fcb50024790>, <google.cloud.bigquery.dataset.DatasetListItem object at 0x7fcb50024c10>, <google.cloud.bigquery.dataset.DatasetListItem object at 0x7fcb50024be0>, <google.cloud.bigquery.dataset.DatasetListItem object at 0x7fcb50024d30>, <google.cloud.bigquery.dataset.DatasetListItem object at 0x7fcb50024d90>, <google.cloud.bigquery.dataset.DatasetListItem object at 0x7fcb50024df0>, <google.cloud.bigquery.dataset.DatasetListItem object at 0x7fcb50024e50>, <google.cloud.bigquery.dataset.DatasetListItem object at 0x7fcb50024eb0>, <google.cloud.bigquery.dataset.DatasetListItem object at 0x7fcb50024f10>, <google.cloud.bigquery.dataset.DatasetListItem object at 0x7fcb50024f70>, <google.cloud.bigquery.dataset.DatasetListItem object at 0x7fcb50024fd0>, <google.cloud.bigquery.dataset.DatasetListItem object at 0x7fcb50025030>, <google.cloud.bigquery.dataset.DatasetListItem object at 0x7fcb50025090>, <google.cloud.bigquery.dataset.DatasetListItem object at 0x7fcb500250f0>, <google.cloud.bigquery.dataset.DatasetListItem object at 0x7fcb50025150>, <google.cloud.bigquery.dataset.DatasetListItem object at 0x7fcb500251b0>, <google.cloud.bigquery.dataset.DatasetListItem object at 0x7fcb50025210>, <google.cloud.bigquery.dataset.DatasetListItem object at 0x7fcb50025270>, <google.cloud.bigquery.dataset.DatasetListItem object at 0x7fcb500252d0>, <google.cloud.bigquery.dataset.DatasetListItem object at 0x7fcb50025330>, <google.cloud.bigquery.dataset.DatasetListItem object at 0x7fcb50025390>, <google.cloud.bigquery.dataset.DatasetListItem object at 0x7fcb500253f0>, <google.cloud.bigquery.dataset.DatasetListItem object at 0x7fcb50025450>, <google.cloud.bigquery.dataset.DatasetListItem object at 0x7fcb500254b0>, <google.cloud.bigquery.dataset.DatasetListItem object at 0x7fcb50025510>, <google.cloud.bigquery.dataset.DatasetListItem object at 0x7fcb50025570>, <google.cloud.bigquery.dataset.DatasetListItem object at 0x7fcb500255d0>, <google.cloud.bigquery.dataset.DatasetListItem object at 0x7fcb50025630>, <google.cloud.bigquery.dataset.DatasetListItem object at 0x7fcb50025690>, <google.cloud.bigquery.dataset.DatasetListItem object at 0x7fcb500256f0>, <google.cloud.bigquery.dataset.DatasetListItem object at 0x7fcb50025750>, <google.cloud.bigquery.dataset.DatasetListItem object at 0x7fcb500257b0>, <google.cloud.bigquery.dataset.DatasetListItem object at 0x7fcb50025810>, <google.cloud.bigquery.dataset.DatasetListItem object at 0x7fcb50025870>, <google.cloud.bigquery.dataset.DatasetListItem object at 0x7fcb500258d0>, <google.cloud.bigquery.dataset.DatasetListItem object at 0x7fcb9b33bfd0>, <google.cloud.bigquery.dataset.DatasetListItem object at 0x7fcb50025960>, <google.cloud.bigquery.dataset.DatasetListItem object at 0x7fcb50025a50>, <google.cloud.bigquery.dataset.DatasetListItem object at 0x7fcb50025c60>, <google.cloud.bigquery.dataset.DatasetListItem object at 0x7fcb50025bd0>, <google.cloud.bigquery.dataset.DatasetListItem object at 0x7fcb50025ba0>, <google.cloud.bigquery.dataset.DatasetListItem object at 0x7fcb50025cc0>, <google.cloud.bigquery.dataset.DatasetListItem object at 0x7fcb50025c90>, <google.cloud.bigquery.dataset.DatasetListItem object at 0x7fcb50025d50>, <google.cloud.bigquery.dataset.DatasetListItem object at 0x7fcb50025e40>, <google.cloud.bigquery.dataset.DatasetListItem object at 0x7fcb50025b40>, <google.cloud.bigquery.dataset.DatasetListItem object at 0x7fcb50024cd0>, <google.cloud.bigquery.dataset.DatasetListItem object at 0x7fcb50025ea0>]\n"
     ]
    }
   ],
   "source": [
    "datasets = list(client.list_datasets())\n",
    "print(datasets)"
   ]
  },
  {
   "cell_type": "markdown",
   "metadata": {
    "id": "_UoYS4suLFZg"
   },
   "source": [
    "That wasn't helpful. We need to go deeper into the object structure to get at something meaningful. Actually, the `dataset_id` member contains the name attribute of a `dataset` object; write some code to print that name for each member of the list that was created above:"
   ]
  },
  {
   "cell_type": "code",
   "execution_count": 8,
   "metadata": {
    "collapsed": true,
    "id": "MBV3-c21LFZi",
    "jupyter": {
     "outputs_hidden": true
    },
    "tags": []
   },
   "outputs": [
    {
     "name": "stdout",
     "output_type": "stream",
     "text": [
      "america_health_rankings\n",
      "austin_311\n",
      "austin_bikeshare\n",
      "austin_crime\n",
      "austin_incidents\n",
      "austin_waste\n",
      "baseball\n",
      "bbc_news\n",
      "bigqueryml_ncaa\n",
      "bitcoin_blockchain\n",
      "blackhole_database\n",
      "blockchain_analytics_ethereum_mainnet_us\n",
      "bls\n",
      "bls_qcew\n",
      "breathe\n",
      "broadstreet_adi\n",
      "catalonian_mobile_coverage\n",
      "catalonian_mobile_coverage_eu\n",
      "census_bureau_acs\n",
      "census_bureau_construction\n",
      "census_bureau_international\n",
      "census_bureau_usa\n",
      "census_opportunity_atlas\n",
      "census_utility\n",
      "cfpb_complaints\n",
      "chicago_crime\n",
      "chicago_taxi_trips\n",
      "clemson_dice\n",
      "cloud_storage_geo_index\n",
      "cms_codes\n",
      "cms_medicare\n",
      "cms_synthetic_patient_data_omop\n",
      "country_codes\n",
      "covid19_aha\n",
      "covid19_covidtracking\n",
      "covid19_ecdc\n",
      "covid19_ecdc_eu\n",
      "covid19_genome_sequence\n",
      "covid19_geotab_mobility_impact\n",
      "covid19_geotab_mobility_impact_eu\n",
      "covid19_google_mobility\n",
      "covid19_google_mobility_eu\n",
      "covid19_govt_response\n",
      "covid19_italy\n",
      "covid19_italy_eu\n",
      "covid19_jhu_csse\n",
      "covid19_jhu_csse_eu\n",
      "covid19_nyt\n",
      "covid19_open_data\n",
      "covid19_open_data_eu\n",
      "covid19_public_forecasts\n",
      "covid19_public_forecasts_asia_ne1\n",
      "covid19_rxrx19\n",
      "covid19_symptom_search\n",
      "covid19_tracking\n",
      "covid19_usafacts\n",
      "covid19_vaccination_access\n",
      "covid19_vaccination_search_insights\n",
      "covid19_weathersource_com\n",
      "crypto_band\n",
      "crypto_bitcoin\n",
      "crypto_bitcoin_cash\n",
      "crypto_dash\n",
      "crypto_dogecoin\n",
      "crypto_ethereum\n",
      "crypto_ethereum_classic\n",
      "crypto_iotex\n",
      "crypto_kusama\n",
      "crypto_litecoin\n",
      "crypto_near_mainnet_us\n",
      "crypto_polkadot\n",
      "crypto_polygon\n",
      "crypto_tezos\n",
      "crypto_theta\n",
      "crypto_zcash\n",
      "crypto_zilliqa\n",
      "cymbal_investments\n",
      "dataflix_covid\n",
      "dataflix_traffic_safety\n",
      "deepmind_alphafold\n",
      "deps_dev_v1\n",
      "dimensions_ai_covid19\n",
      "ebi_chembl\n",
      "ebi_surechembl\n",
      "eclipse_megamovie\n",
      "epa_historical_air_quality\n",
      "ethereum_blockchain\n",
      "etsi_technical_standards\n",
      "faa\n",
      "fcc_political_ads\n",
      "fda_drug\n",
      "fda_food\n",
      "fdic_banks\n",
      "fec\n",
      "fhir_synthea\n",
      "ga4_obfuscated_sample_ecommerce\n",
      "gbif\n",
      "gdelt_hathitrustbooks\n",
      "gdelt_internetarchivebooks\n",
      "genomics_cannabis\n",
      "genomics_rice\n",
      "geo_census_blockgroups\n",
      "geo_census_tracts\n",
      "geo_international_ports\n",
      "geo_openstreetmap\n",
      "geo_us_boundaries\n",
      "geo_us_census_places\n",
      "geo_us_roads\n",
      "geo_whos_on_first\n",
      "ghcn_d\n",
      "ghcn_m\n",
      "github_repos\n",
      "gnomAD\n",
      "gnomAD_asiane1\n",
      "gnomAD_eu\n",
      "goog_blockchain_avalanche_contract_chain_us\n",
      "goog_blockchain_ethereum_mainnet_us\n",
      "goog_blockchain_fantom_opera_us\n",
      "goog_blockchain_optimism_mainnet_us\n",
      "goog_blockchain_tron_mainnet_us\n",
      "google_ads\n",
      "google_ads_geo_mapping_asia_east1\n",
      "google_ads_geo_mapping_asia_east2\n",
      "google_ads_geo_mapping_asia_northeast1\n",
      "google_ads_geo_mapping_asia_northeast2\n",
      "google_ads_geo_mapping_asia_northeast3\n",
      "google_ads_geo_mapping_asia_south1\n",
      "google_ads_geo_mapping_asia_south2\n",
      "google_ads_geo_mapping_asia_southeast1\n",
      "google_ads_geo_mapping_asia_southeast2\n",
      "google_ads_geo_mapping_australia_southeast1\n",
      "google_ads_geo_mapping_australia_southeast2\n",
      "google_ads_geo_mapping_eu\n",
      "google_ads_geo_mapping_europe_central2\n",
      "google_ads_geo_mapping_europe_north1\n",
      "google_ads_geo_mapping_europe_southwest1\n",
      "google_ads_geo_mapping_europe_west1\n",
      "google_ads_geo_mapping_europe_west2\n",
      "google_ads_geo_mapping_europe_west3\n",
      "google_ads_geo_mapping_europe_west4\n",
      "google_ads_geo_mapping_europe_west6\n",
      "google_ads_geo_mapping_europe_west8\n",
      "google_ads_geo_mapping_europe_west9\n",
      "google_ads_geo_mapping_me_west1\n",
      "google_ads_geo_mapping_northamerica_northeast1\n",
      "google_ads_geo_mapping_northamerica_northeast2\n",
      "google_ads_geo_mapping_southamerica_east1\n",
      "google_ads_geo_mapping_southamerica_west1\n",
      "google_ads_geo_mapping_us\n",
      "google_ads_geo_mapping_us_central1\n",
      "google_ads_geo_mapping_us_east1\n",
      "google_ads_geo_mapping_us_east4\n",
      "google_ads_geo_mapping_us_east5\n",
      "google_ads_geo_mapping_us_south1\n",
      "google_ads_geo_mapping_us_west1\n",
      "google_ads_geo_mapping_us_west2\n",
      "google_ads_geo_mapping_us_west3\n",
      "google_ads_geo_mapping_us_west4\n",
      "google_ads_transparency_center\n",
      "google_analytics_sample\n",
      "google_books_ngrams_2020\n",
      "google_cfe\n",
      "google_cloud_release_notes\n",
      "google_dei\n",
      "google_patents_research\n",
      "google_political_ads\n",
      "google_trends\n",
      "grid_ac\n",
      "hacker_news\n",
      "hud_zipcode_crosswalk\n",
      "human_genome_variants\n",
      "human_variant_annotation\n",
      "idc_current\n",
      "idc_current_clinical\n",
      "idc_v1\n",
      "idc_v10\n",
      "idc_v11\n",
      "idc_v11_clinical\n",
      "idc_v12\n",
      "idc_v12_clinical\n",
      "idc_v13\n",
      "idc_v13_clinical\n",
      "idc_v14\n",
      "idc_v14_clinical\n",
      "idc_v15\n",
      "idc_v15_clinical\n",
      "idc_v16\n",
      "idc_v16_clinical\n",
      "idc_v2\n",
      "idc_v3\n",
      "idc_v4\n",
      "idc_v5\n",
      "idc_v6\n",
      "idc_v7\n",
      "idc_v8\n",
      "idc_v9\n",
      "imdb\n",
      "immune_epitope_db\n",
      "iowa_liquor_sales\n",
      "iowa_liquor_sales_forecasting\n",
      "irs_990\n",
      "labeled_patents\n",
      "libraries_io\n",
      "listenbrainz\n",
      "london_bicycles\n",
      "london_crime\n",
      "london_fire_brigade\n",
      "marec\n",
      "medicare\n",
      "ml_datasets\n",
      "ml_datasets_uscentral1\n",
      "modis_terra_net_primary_production\n",
      "moon_phases\n",
      "multilingual_spoken_words_corpus\n",
      "nasa_wildfire\n",
      "ncaa_basketball\n",
      "nces_ipeds\n",
      "new_york\n",
      "new_york_311\n",
      "new_york_citibike\n",
      "new_york_mv_collisions\n",
      "new_york_subway\n",
      "new_york_taxi_trips\n",
      "new_york_trees\n",
      "nhtsa_traffic_fatalities\n",
      "nih_gudid\n",
      "nih_sequence_read\n",
      "nlm_rxnorm\n",
      "noaa_global_forecast_system\n",
      "noaa_goes16\n",
      "noaa_goes17\n",
      "noaa_gsod\n",
      "noaa_historic_severe_storms\n",
      "noaa_hurricanes\n",
      "noaa_icoads\n",
      "noaa_lightning\n",
      "noaa_nwm\n",
      "noaa_passive_acoustic_index\n",
      "noaa_passive_bioacoustic\n",
      "noaa_pifsc_metadata\n",
      "noaa_preliminary_severe_storms\n",
      "noaa_significant_earthquakes\n",
      "noaa_tsunami\n",
      "nppes\n",
      "nrel_nsrdb\n",
      "open_buildings\n",
      "open_images\n",
      "open_targets_genetics\n",
      "open_targets_platform\n",
      "openaq\n",
      "patents\n",
      "patents_cpc\n",
      "patents_dsep\n",
      "patents_view\n",
      "persistent_udfs\n",
      "properati_properties_ar\n",
      "properati_properties_br\n",
      "properati_properties_cl\n",
      "properati_properties_co\n",
      "properati_properties_mx\n",
      "properati_properties_pe\n",
      "properati_properties_uy\n",
      "pypi\n",
      "samples\n",
      "san_francisco\n",
      "san_francisco_311\n",
      "san_francisco_bikeshare\n",
      "san_francisco_film_locations\n",
      "san_francisco_neighborhoods\n",
      "san_francisco_sffd_service_calls\n",
      "san_francisco_sfpd_incidents\n",
      "san_francisco_transit_muni\n",
      "san_francisco_trees\n",
      "sdoh_bea_cainc30\n",
      "sdoh_cdc_wonder_natality\n",
      "sdoh_cms_dual_eligible_enrollment\n",
      "sdoh_hrsa_shortage_areas\n",
      "sdoh_hud_housing\n",
      "sdoh_hud_pit_homelessness\n",
      "sdoh_snap_enrollment\n",
      "sec_quarterly_financials\n",
      "stackoverflow\n",
      "sunroof_solar\n",
      "the_general_index\n",
      "the_met\n",
      "thelook_ecommerce\n",
      "ucb_fung_patent_data\n",
      "umiami_lincs\n",
      "un_sdg\n",
      "us_res_real_est_data\n",
      "usa_contagious_disease\n",
      "usa_names\n",
      "usda_nass_agriculture\n",
      "usfs_fia\n",
      "usitc_investigations\n",
      "uspto_oce_assignment\n",
      "uspto_oce_cancer\n",
      "uspto_oce_claims\n",
      "uspto_oce_litigation\n",
      "uspto_oce_office_actions\n",
      "uspto_oce_pair\n",
      "uspto_ptab\n",
      "utility_eu\n",
      "utility_us\n",
      "wikipedia\n",
      "wise_all_sky_data_release\n",
      "world_bank_global_population\n",
      "world_bank_health_population\n",
      "world_bank_intl_debt\n",
      "world_bank_intl_education\n",
      "world_bank_wdi\n",
      "worldbank_wdi\n",
      "worldpop\n"
     ]
    }
   ],
   "source": [
    "# Revised code to access the 'name' attribute for each dataset\n",
    "datasets = list(client.list_datasets())\n",
    "\n",
    "# Iterate through the list of datasets and print their names\n",
    "for dataset in datasets:\n",
    "    print(dataset.dataset_id)"
   ]
  },
  {
   "cell_type": "markdown",
   "metadata": {
    "id": "1VKuobUSLFZk"
   },
   "source": [
    "The google API objects in the `bigquery` library have their own overloads of the format() function that make them easier to read. Below is a function that exploits the `format` method of `project` and `dataset_id`, providing an easy way to list datasets:"
   ]
  },
  {
   "cell_type": "code",
   "execution_count": 9,
   "metadata": {
    "id": "obqd0X0vLFZl"
   },
   "outputs": [],
   "source": [
    "# Function for listing datasets in a project:\n",
    "def printDatasetList(client):\n",
    "    # Get the project associated with the client instance\n",
    "    project = client.project  # Only one project can be associated with a client instance\n",
    "    \n",
    "    # List datasets in the project\n",
    "    datasets = list(client.list_datasets())\n",
    "    \n",
    "    # Check if there are any datasets\n",
    "    if datasets:\n",
    "        # If datasets are found, print the project name and dataset names\n",
    "        print('Datasets in project {}:'.format(project))\n",
    "        for dataset in datasets:\n",
    "            print('\\t{}'.format(dataset.dataset_id))\n",
    "        found = True  # Set found to True since datasets were found\n",
    "    else:\n",
    "        # If no datasets are found, print a message\n",
    "        print('{} project does not contain any datasets.'.format(project))\n",
    "        found = False  # Set found to False since no datasets were found\n",
    "    \n",
    "    # Return whether datasets were found or not\n",
    "    return found"
   ]
  },
  {
   "cell_type": "code",
   "execution_count": 10,
   "metadata": {
    "collapsed": true,
    "id": "TcS8DXenLFZn",
    "jupyter": {
     "outputs_hidden": true
    },
    "tags": []
   },
   "outputs": [
    {
     "name": "stdout",
     "output_type": "stream",
     "text": [
      "Datasets in project bigquery-public-data:\n",
      "\tamerica_health_rankings\n",
      "\taustin_311\n",
      "\taustin_bikeshare\n",
      "\taustin_crime\n",
      "\taustin_incidents\n",
      "\taustin_waste\n",
      "\tbaseball\n",
      "\tbbc_news\n",
      "\tbigqueryml_ncaa\n",
      "\tbitcoin_blockchain\n",
      "\tblackhole_database\n",
      "\tblockchain_analytics_ethereum_mainnet_us\n",
      "\tbls\n",
      "\tbls_qcew\n",
      "\tbreathe\n",
      "\tbroadstreet_adi\n",
      "\tcatalonian_mobile_coverage\n",
      "\tcatalonian_mobile_coverage_eu\n",
      "\tcensus_bureau_acs\n",
      "\tcensus_bureau_construction\n",
      "\tcensus_bureau_international\n",
      "\tcensus_bureau_usa\n",
      "\tcensus_opportunity_atlas\n",
      "\tcensus_utility\n",
      "\tcfpb_complaints\n",
      "\tchicago_crime\n",
      "\tchicago_taxi_trips\n",
      "\tclemson_dice\n",
      "\tcloud_storage_geo_index\n",
      "\tcms_codes\n",
      "\tcms_medicare\n",
      "\tcms_synthetic_patient_data_omop\n",
      "\tcountry_codes\n",
      "\tcovid19_aha\n",
      "\tcovid19_covidtracking\n",
      "\tcovid19_ecdc\n",
      "\tcovid19_ecdc_eu\n",
      "\tcovid19_genome_sequence\n",
      "\tcovid19_geotab_mobility_impact\n",
      "\tcovid19_geotab_mobility_impact_eu\n",
      "\tcovid19_google_mobility\n",
      "\tcovid19_google_mobility_eu\n",
      "\tcovid19_govt_response\n",
      "\tcovid19_italy\n",
      "\tcovid19_italy_eu\n",
      "\tcovid19_jhu_csse\n",
      "\tcovid19_jhu_csse_eu\n",
      "\tcovid19_nyt\n",
      "\tcovid19_open_data\n",
      "\tcovid19_open_data_eu\n",
      "\tcovid19_public_forecasts\n",
      "\tcovid19_public_forecasts_asia_ne1\n",
      "\tcovid19_rxrx19\n",
      "\tcovid19_symptom_search\n",
      "\tcovid19_tracking\n",
      "\tcovid19_usafacts\n",
      "\tcovid19_vaccination_access\n",
      "\tcovid19_vaccination_search_insights\n",
      "\tcovid19_weathersource_com\n",
      "\tcrypto_band\n",
      "\tcrypto_bitcoin\n",
      "\tcrypto_bitcoin_cash\n",
      "\tcrypto_dash\n",
      "\tcrypto_dogecoin\n",
      "\tcrypto_ethereum\n",
      "\tcrypto_ethereum_classic\n",
      "\tcrypto_iotex\n",
      "\tcrypto_kusama\n",
      "\tcrypto_litecoin\n",
      "\tcrypto_near_mainnet_us\n",
      "\tcrypto_polkadot\n",
      "\tcrypto_polygon\n",
      "\tcrypto_tezos\n",
      "\tcrypto_theta\n",
      "\tcrypto_zcash\n",
      "\tcrypto_zilliqa\n",
      "\tcymbal_investments\n",
      "\tdataflix_covid\n",
      "\tdataflix_traffic_safety\n",
      "\tdeepmind_alphafold\n",
      "\tdeps_dev_v1\n",
      "\tdimensions_ai_covid19\n",
      "\tebi_chembl\n",
      "\tebi_surechembl\n",
      "\teclipse_megamovie\n",
      "\tepa_historical_air_quality\n",
      "\tethereum_blockchain\n",
      "\tetsi_technical_standards\n",
      "\tfaa\n",
      "\tfcc_political_ads\n",
      "\tfda_drug\n",
      "\tfda_food\n",
      "\tfdic_banks\n",
      "\tfec\n",
      "\tfhir_synthea\n",
      "\tga4_obfuscated_sample_ecommerce\n",
      "\tgbif\n",
      "\tgdelt_hathitrustbooks\n",
      "\tgdelt_internetarchivebooks\n",
      "\tgenomics_cannabis\n",
      "\tgenomics_rice\n",
      "\tgeo_census_blockgroups\n",
      "\tgeo_census_tracts\n",
      "\tgeo_international_ports\n",
      "\tgeo_openstreetmap\n",
      "\tgeo_us_boundaries\n",
      "\tgeo_us_census_places\n",
      "\tgeo_us_roads\n",
      "\tgeo_whos_on_first\n",
      "\tghcn_d\n",
      "\tghcn_m\n",
      "\tgithub_repos\n",
      "\tgnomAD\n",
      "\tgnomAD_asiane1\n",
      "\tgnomAD_eu\n",
      "\tgoog_blockchain_avalanche_contract_chain_us\n",
      "\tgoog_blockchain_ethereum_mainnet_us\n",
      "\tgoog_blockchain_fantom_opera_us\n",
      "\tgoog_blockchain_optimism_mainnet_us\n",
      "\tgoog_blockchain_tron_mainnet_us\n",
      "\tgoogle_ads\n",
      "\tgoogle_ads_geo_mapping_asia_east1\n",
      "\tgoogle_ads_geo_mapping_asia_east2\n",
      "\tgoogle_ads_geo_mapping_asia_northeast1\n",
      "\tgoogle_ads_geo_mapping_asia_northeast2\n",
      "\tgoogle_ads_geo_mapping_asia_northeast3\n",
      "\tgoogle_ads_geo_mapping_asia_south1\n",
      "\tgoogle_ads_geo_mapping_asia_south2\n",
      "\tgoogle_ads_geo_mapping_asia_southeast1\n",
      "\tgoogle_ads_geo_mapping_asia_southeast2\n",
      "\tgoogle_ads_geo_mapping_australia_southeast1\n",
      "\tgoogle_ads_geo_mapping_australia_southeast2\n",
      "\tgoogle_ads_geo_mapping_eu\n",
      "\tgoogle_ads_geo_mapping_europe_central2\n",
      "\tgoogle_ads_geo_mapping_europe_north1\n",
      "\tgoogle_ads_geo_mapping_europe_southwest1\n",
      "\tgoogle_ads_geo_mapping_europe_west1\n",
      "\tgoogle_ads_geo_mapping_europe_west2\n",
      "\tgoogle_ads_geo_mapping_europe_west3\n",
      "\tgoogle_ads_geo_mapping_europe_west4\n",
      "\tgoogle_ads_geo_mapping_europe_west6\n",
      "\tgoogle_ads_geo_mapping_europe_west8\n",
      "\tgoogle_ads_geo_mapping_europe_west9\n",
      "\tgoogle_ads_geo_mapping_me_west1\n",
      "\tgoogle_ads_geo_mapping_northamerica_northeast1\n",
      "\tgoogle_ads_geo_mapping_northamerica_northeast2\n",
      "\tgoogle_ads_geo_mapping_southamerica_east1\n",
      "\tgoogle_ads_geo_mapping_southamerica_west1\n",
      "\tgoogle_ads_geo_mapping_us\n",
      "\tgoogle_ads_geo_mapping_us_central1\n",
      "\tgoogle_ads_geo_mapping_us_east1\n",
      "\tgoogle_ads_geo_mapping_us_east4\n",
      "\tgoogle_ads_geo_mapping_us_east5\n",
      "\tgoogle_ads_geo_mapping_us_south1\n",
      "\tgoogle_ads_geo_mapping_us_west1\n",
      "\tgoogle_ads_geo_mapping_us_west2\n",
      "\tgoogle_ads_geo_mapping_us_west3\n",
      "\tgoogle_ads_geo_mapping_us_west4\n",
      "\tgoogle_ads_transparency_center\n",
      "\tgoogle_analytics_sample\n",
      "\tgoogle_books_ngrams_2020\n",
      "\tgoogle_cfe\n",
      "\tgoogle_cloud_release_notes\n",
      "\tgoogle_dei\n",
      "\tgoogle_patents_research\n",
      "\tgoogle_political_ads\n",
      "\tgoogle_trends\n",
      "\tgrid_ac\n",
      "\thacker_news\n",
      "\thud_zipcode_crosswalk\n",
      "\thuman_genome_variants\n",
      "\thuman_variant_annotation\n",
      "\tidc_current\n",
      "\tidc_current_clinical\n",
      "\tidc_v1\n",
      "\tidc_v10\n",
      "\tidc_v11\n",
      "\tidc_v11_clinical\n",
      "\tidc_v12\n",
      "\tidc_v12_clinical\n",
      "\tidc_v13\n",
      "\tidc_v13_clinical\n",
      "\tidc_v14\n",
      "\tidc_v14_clinical\n",
      "\tidc_v15\n",
      "\tidc_v15_clinical\n",
      "\tidc_v16\n",
      "\tidc_v16_clinical\n",
      "\tidc_v2\n",
      "\tidc_v3\n",
      "\tidc_v4\n",
      "\tidc_v5\n",
      "\tidc_v6\n",
      "\tidc_v7\n",
      "\tidc_v8\n",
      "\tidc_v9\n",
      "\timdb\n",
      "\timmune_epitope_db\n",
      "\tiowa_liquor_sales\n",
      "\tiowa_liquor_sales_forecasting\n",
      "\tirs_990\n",
      "\tlabeled_patents\n",
      "\tlibraries_io\n",
      "\tlistenbrainz\n",
      "\tlondon_bicycles\n",
      "\tlondon_crime\n",
      "\tlondon_fire_brigade\n",
      "\tmarec\n",
      "\tmedicare\n",
      "\tml_datasets\n",
      "\tml_datasets_uscentral1\n",
      "\tmodis_terra_net_primary_production\n",
      "\tmoon_phases\n",
      "\tmultilingual_spoken_words_corpus\n",
      "\tnasa_wildfire\n",
      "\tncaa_basketball\n",
      "\tnces_ipeds\n",
      "\tnew_york\n",
      "\tnew_york_311\n",
      "\tnew_york_citibike\n",
      "\tnew_york_mv_collisions\n",
      "\tnew_york_subway\n",
      "\tnew_york_taxi_trips\n",
      "\tnew_york_trees\n",
      "\tnhtsa_traffic_fatalities\n",
      "\tnih_gudid\n",
      "\tnih_sequence_read\n",
      "\tnlm_rxnorm\n",
      "\tnoaa_global_forecast_system\n",
      "\tnoaa_goes16\n",
      "\tnoaa_goes17\n",
      "\tnoaa_gsod\n",
      "\tnoaa_historic_severe_storms\n",
      "\tnoaa_hurricanes\n",
      "\tnoaa_icoads\n",
      "\tnoaa_lightning\n",
      "\tnoaa_nwm\n",
      "\tnoaa_passive_acoustic_index\n",
      "\tnoaa_passive_bioacoustic\n",
      "\tnoaa_pifsc_metadata\n",
      "\tnoaa_preliminary_severe_storms\n",
      "\tnoaa_significant_earthquakes\n",
      "\tnoaa_tsunami\n",
      "\tnppes\n",
      "\tnrel_nsrdb\n",
      "\topen_buildings\n",
      "\topen_images\n",
      "\topen_targets_genetics\n",
      "\topen_targets_platform\n",
      "\topenaq\n",
      "\tpatents\n",
      "\tpatents_cpc\n",
      "\tpatents_dsep\n",
      "\tpatents_view\n",
      "\tpersistent_udfs\n",
      "\tproperati_properties_ar\n",
      "\tproperati_properties_br\n",
      "\tproperati_properties_cl\n",
      "\tproperati_properties_co\n",
      "\tproperati_properties_mx\n",
      "\tproperati_properties_pe\n",
      "\tproperati_properties_uy\n",
      "\tpypi\n",
      "\tsamples\n",
      "\tsan_francisco\n",
      "\tsan_francisco_311\n",
      "\tsan_francisco_bikeshare\n",
      "\tsan_francisco_film_locations\n",
      "\tsan_francisco_neighborhoods\n",
      "\tsan_francisco_sffd_service_calls\n",
      "\tsan_francisco_sfpd_incidents\n",
      "\tsan_francisco_transit_muni\n",
      "\tsan_francisco_trees\n",
      "\tsdoh_bea_cainc30\n",
      "\tsdoh_cdc_wonder_natality\n",
      "\tsdoh_cms_dual_eligible_enrollment\n",
      "\tsdoh_hrsa_shortage_areas\n",
      "\tsdoh_hud_housing\n",
      "\tsdoh_hud_pit_homelessness\n",
      "\tsdoh_snap_enrollment\n",
      "\tsec_quarterly_financials\n",
      "\tstackoverflow\n",
      "\tsunroof_solar\n",
      "\tthe_general_index\n",
      "\tthe_met\n",
      "\tthelook_ecommerce\n",
      "\tucb_fung_patent_data\n",
      "\tumiami_lincs\n",
      "\tun_sdg\n",
      "\tus_res_real_est_data\n",
      "\tusa_contagious_disease\n",
      "\tusa_names\n",
      "\tusda_nass_agriculture\n",
      "\tusfs_fia\n",
      "\tusitc_investigations\n",
      "\tuspto_oce_assignment\n",
      "\tuspto_oce_cancer\n",
      "\tuspto_oce_claims\n",
      "\tuspto_oce_litigation\n",
      "\tuspto_oce_office_actions\n",
      "\tuspto_oce_pair\n",
      "\tuspto_ptab\n",
      "\tutility_eu\n",
      "\tutility_us\n",
      "\twikipedia\n",
      "\twise_all_sky_data_release\n",
      "\tworld_bank_global_population\n",
      "\tworld_bank_health_population\n",
      "\tworld_bank_intl_debt\n",
      "\tworld_bank_intl_education\n",
      "\tworld_bank_wdi\n",
      "\tworldbank_wdi\n",
      "\tworldpop\n"
     ]
    }
   ],
   "source": [
    "# List datasets in the default project:\n",
    "flag = printDatasetList(client)  # Assigning to `flag` suppresses printing the return value (normally `True`)"
   ]
  },
  {
   "cell_type": "markdown",
   "metadata": {
    "id": "81uawTW5LFZo"
   },
   "source": [
    "This list should correspond to what is shown here https://bigquery.cloud.google.com/publicdatasets under the **bigquery-public-data** item."
   ]
  },
  {
   "cell_type": "markdown",
   "metadata": {
    "id": "bEAfjVxOLFZo"
   },
   "source": [
    "Here is how to create a dataset reference object by assigning a project and a dataset name:"
   ]
  },
  {
   "cell_type": "code",
   "execution_count": 11,
   "metadata": {
    "id": "ZrSaLIkWLFZo"
   },
   "outputs": [],
   "source": [
    "dataset_id = 'samples'\n",
    "dataset_ref = client.dataset(dataset_id)"
   ]
  },
  {
   "cell_type": "markdown",
   "metadata": {
    "id": "5BlLbSA7LFZp"
   },
   "source": [
    "If our current project was something other than `bigquery-public-data`, we could still create this reference by specifying the project that contains the dataset:"
   ]
  },
  {
   "cell_type": "code",
   "execution_count": 12,
   "metadata": {
    "id": "NJK5yM9BLFZq"
   },
   "outputs": [],
   "source": [
    "dataset_id = 'samples'\n",
    "dataset_ref = client.dataset(dataset_id, project = 'bigquery-public-data')"
   ]
  },
  {
   "cell_type": "markdown",
   "metadata": {
    "id": "6_fYqMyGLFZr"
   },
   "source": [
    "How can we get the path of the dataset?"
   ]
  },
  {
   "cell_type": "code",
   "execution_count": 13,
   "metadata": {
    "id": "otqzZohpLFZs"
   },
   "outputs": [
    {
     "data": {
      "text/plain": [
       "'/projects/bigquery-public-data/datasets/samples'"
      ]
     },
     "execution_count": 13,
     "metadata": {},
     "output_type": "execute_result"
    }
   ],
   "source": [
    "# ANSWER\n",
    "dataset_ref.path"
   ]
  },
  {
   "cell_type": "markdown",
   "metadata": {
    "id": "dRzK-hTuLFZt"
   },
   "source": [
    "Explore more of this object's members:\n",
    "\n",
    "*(HINT: Jupyter Notebooks does not support code completion, but Spyder and other Python IDEs do. If you copy all the above code to a Python file within the IDE, you can type `dataset_ref.` in a new line, then hit the [Tab] key to see the available members for the object.)*"
   ]
  },
  {
   "cell_type": "raw",
   "metadata": {},
   "source": [
    "# ANSWER - Testing members of the dataset_ref object\n",
    "dataset_ref.dataset_id\n",
    "dataset_ref.from_api_repr\n",
    "dataset_ref.from_string\n",
    "dataset_ref.model\n",
    "dataset_ref.path\n",
    "dataset_ref.project\n",
    "dataset_ref.routine\n",
    "dataset_ref.table\n",
    "dataset_ref.to_api_repr"
   ]
  },
  {
   "cell_type": "raw",
   "metadata": {},
   "source": [
    "dataset_ref.table(table_id) \n",
    "The code above is not correct to print the table names. The table_id will need to be specified for it to be referenced."
   ]
  },
  {
   "cell_type": "code",
   "execution_count": 14,
   "metadata": {},
   "outputs": [
    {
     "name": "stdout",
     "output_type": "stream",
     "text": [
      "github_nested\n",
      "github_timeline\n",
      "gsod\n",
      "natality\n",
      "shakespeare\n",
      "trigrams\n",
      "wikipedia\n"
     ]
    }
   ],
   "source": [
    "# Print table names. First, list tables in the dataset\n",
    "tables = list(client.list_tables(dataset_ref))\n",
    "\n",
    "# Print table IDs\n",
    "for table in tables:\n",
    "    print(table.table_id)"
   ]
  },
  {
   "cell_type": "code",
   "execution_count": 15,
   "metadata": {},
   "outputs": [],
   "source": [
    "# Define table_id\n",
    "table_id = 'natality'"
   ]
  },
  {
   "cell_type": "code",
   "execution_count": 16,
   "metadata": {
    "id": "s9HM7PiMLFZt"
   },
   "outputs": [
    {
     "data": {
      "text/plain": [
       "TableReference(DatasetReference('bigquery-public-data', 'samples'), 'natality')"
      ]
     },
     "execution_count": 16,
     "metadata": {},
     "output_type": "execute_result"
    }
   ],
   "source": [
    "# Reference a table\n",
    "dataset_ref.table(table_id)"
   ]
  },
  {
   "cell_type": "markdown",
   "metadata": {
    "id": "NZB6yeerLFZu"
   },
   "source": [
    "Here is a function for listing the tables in a dataset: "
   ]
  },
  {
   "cell_type": "code",
   "execution_count": 17,
   "metadata": {
    "id": "_E5S-MhtLFZu"
   },
   "outputs": [],
   "source": [
    "# Function for listing tables in a dataset:\n",
    "def printTableList(client, dataset_id):\n",
    "    # Get the project associated with the client\n",
    "    project = client.project\n",
    "    \n",
    "    # Create a dataset reference with the specified dataset_id and project\n",
    "    dataset_ref = client.dataset(dataset_id, project=project)\n",
    "    \n",
    "    # List all the tables in the dataset\n",
    "    tables = list(client.list_tables(dataset_ref))\n",
    "    \n",
    "    if tables:\n",
    "        # If tables exist in the dataset, print their names\n",
    "        print('Tables in dataset {}:'.format(dataset_id))\n",
    "        for table in tables:\n",
    "            print('\\t{}'.format(table.table_id))\n",
    "        found = True\n",
    "    else:\n",
    "        # If no tables exist in the dataset, indicate that in the output\n",
    "        print('{} dataset does not contain any tables.'.format(dataset_id))\n",
    "        found = False\n",
    "        \n",
    "    return found"
   ]
  },
  {
   "cell_type": "markdown",
   "metadata": {
    "id": "ksp2VbNcLFZv"
   },
   "source": [
    "Use this function to list the tables in the current dataset:"
   ]
  },
  {
   "cell_type": "code",
   "execution_count": 18,
   "metadata": {
    "id": "F2KEisFzLFZv"
   },
   "outputs": [
    {
     "name": "stdout",
     "output_type": "stream",
     "text": [
      "Tables in dataset samples:\n",
      "\tgithub_nested\n",
      "\tgithub_timeline\n",
      "\tgsod\n",
      "\tnatality\n",
      "\tshakespeare\n",
      "\ttrigrams\n",
      "\twikipedia\n"
     ]
    },
    {
     "data": {
      "text/plain": [
       "True"
      ]
     },
     "execution_count": 18,
     "metadata": {},
     "output_type": "execute_result"
    }
   ],
   "source": [
    "# ANSWER\n",
    "printTableList(client, dataset_id)"
   ]
  },
  {
   "cell_type": "markdown",
   "metadata": {
    "id": "XoZPwFx1LFZx"
   },
   "source": [
    "To create a reference to a table within the dataset, we use the `table_id` attribute:"
   ]
  },
  {
   "cell_type": "code",
   "execution_count": 19,
   "metadata": {
    "id": "rYXUHik0LFZx"
   },
   "outputs": [],
   "source": [
    "table_id = 'shakespeare'\n",
    "table_ref = dataset_ref.table(table_id)"
   ]
  },
  {
   "cell_type": "markdown",
   "metadata": {
    "id": "3MZOaAuiLFZy"
   },
   "source": [
    "Check the name of the table that `table_ref` now points to:"
   ]
  },
  {
   "cell_type": "code",
   "execution_count": 20,
   "metadata": {
    "id": "6B9AAg4tLFZz"
   },
   "outputs": [
    {
     "data": {
      "text/plain": [
       "'shakespeare'"
      ]
     },
     "execution_count": 20,
     "metadata": {},
     "output_type": "execute_result"
    }
   ],
   "source": [
    "# ANSWER\n",
    "table_ref.table_id"
   ]
  },
  {
   "cell_type": "markdown",
   "metadata": {
    "id": "gOo7O5lVLFZ0"
   },
   "source": [
    "To access the data in the table itself, we use the `get_table()` method:"
   ]
  },
  {
   "cell_type": "code",
   "execution_count": 21,
   "metadata": {
    "id": "rjnXTIoULFZ0"
   },
   "outputs": [],
   "source": [
    "table = client.get_table(table_ref)  # API Request"
   ]
  },
  {
   "cell_type": "markdown",
   "metadata": {
    "id": "Ggy5pIrYLFZ2"
   },
   "source": [
    "NOTE: The contents of the table are not actually in our memory after this call! We are working with a Big Data platform, now, and we could easily end up pulling GBs or TBs of data by accident. \n",
    "\n",
    "To minimise data bandwidth, memory consumption, and processing time, Big Data platforms employ ***lazy evaluation***. This means that no computation or data transfer actually takes place until we *realise* (use) the data. Even if we execute subsequent code that performs calculations on the data, no data flow or computation actually occurs until we request output (e.g. by executing a print to stdout or writing to a file). "
   ]
  },
  {
   "cell_type": "markdown",
   "metadata": {
    "id": "5Sa9uV6tLFZ2"
   },
   "source": [
    "What kind of object is returned by `client.get_table`?"
   ]
  },
  {
   "cell_type": "code",
   "execution_count": 22,
   "metadata": {
    "id": "cdmNEp6ZLFZ3"
   },
   "outputs": [
    {
     "data": {
      "text/plain": [
       "google.cloud.bigquery.table.Table"
      ]
     },
     "execution_count": 22,
     "metadata": {},
     "output_type": "execute_result"
    }
   ],
   "source": [
    "# ANSWER\n",
    "type(table)"
   ]
  },
  {
   "cell_type": "markdown",
   "metadata": {
    "id": "rcaJMPCNLFZ4"
   },
   "source": [
    "How can we view the design of the table (column names and types)? The name of the object attribute we need is the same term we learned in the module on databases:"
   ]
  },
  {
   "cell_type": "code",
   "execution_count": 23,
   "metadata": {
    "id": "gt4FQZ88LFZ4"
   },
   "outputs": [
    {
     "name": "stdout",
     "output_type": "stream",
     "text": [
      "[SchemaField('word', 'STRING', 'REQUIRED', None, 'A single unique word (where whitespace is the delimiter) extracted from a corpus.', (), None), SchemaField('word_count', 'INTEGER', 'REQUIRED', None, 'The number of times this word appears in this corpus.', (), None), SchemaField('corpus', 'STRING', 'REQUIRED', None, 'The work from which this word was extracted.', (), None), SchemaField('corpus_date', 'INTEGER', 'REQUIRED', None, 'The year in which this corpus was published.', (), None)]\n"
     ]
    }
   ],
   "source": [
    "# ANSWER\n",
    "print(table.schema)"
   ]
  },
  {
   "cell_type": "markdown",
   "metadata": {
    "id": "FfaKrQRSLFZ6"
   },
   "source": [
    "Again, this is messy. If we wanted to refer to the column names and types in code, we might use something like this (which we could then parse into a dict):"
   ]
  },
  {
   "cell_type": "code",
   "execution_count": 24,
   "metadata": {
    "id": "8187Fu57LFZ6"
   },
   "outputs": [
    {
     "name": "stdout",
     "output_type": "stream",
     "text": [
      "['word STRING', 'word_count INTEGER', 'corpus STRING', 'corpus_date INTEGER']\n"
     ]
    }
   ],
   "source": [
    "# This code formats the schemas info into a list of strings, where each string represents a field in the table along with its data type\n",
    "result = [\"{0} {1}\".format(schema.name,schema.field_type) for schema in table.schema]\n",
    "print(result)"
   ]
  },
  {
   "cell_type": "markdown",
   "metadata": {
    "id": "ZQz7xhfwLFZ7"
   },
   "source": [
    "But if we just want to print them, here is another neat function for that:"
   ]
  },
  {
   "cell_type": "code",
   "execution_count": 25,
   "metadata": {
    "id": "_LqvAXo3LFZ7"
   },
   "outputs": [],
   "source": [
    "# Function to print a table schema:\n",
    "def printTableSchema(aTable):\n",
    "    # Retrieve the schema of the table and store it in the 'schemas' list.\n",
    "    schemas = list(aTable.schema)\n",
    "    \n",
    "    if schemas:\n",
    "        # If the schema list is not empty, print the table's schema.\n",
    "        print('Table schema for {}:'.format(aTable.table_id))\n",
    "        \n",
    "        # Iterate through each schema element in the 'schemas' list.\n",
    "        for aSchema in schemas:\n",
    "            # Print the name and data type of each field in the schema.\n",
    "            print('\\t{0} {1}'.format(aSchema.name, aSchema.field_type))\n",
    "        \n",
    "        # Set 'found' to True to indicate that the schema was found.\n",
    "        found = True\n",
    "    else:\n",
    "        # If the schema list is empty, set 'found' to False.\n",
    "        found = False\n",
    "    \n",
    "    # Return the 'found' flag to indicate whether the schema was found or not.\n",
    "    return found"
   ]
  },
  {
   "cell_type": "markdown",
   "metadata": {
    "id": "SROTDIm8LFZ8"
   },
   "source": [
    "Use this function to print the table schema:"
   ]
  },
  {
   "cell_type": "code",
   "execution_count": 26,
   "metadata": {
    "id": "DpmWRmXmLFZ9"
   },
   "outputs": [
    {
     "name": "stdout",
     "output_type": "stream",
     "text": [
      "Table schema for shakespeare:\n",
      "\tword STRING\n",
      "\tword_count INTEGER\n",
      "\tcorpus STRING\n",
      "\tcorpus_date INTEGER\n"
     ]
    },
    {
     "data": {
      "text/plain": [
       "True"
      ]
     },
     "execution_count": 26,
     "metadata": {},
     "output_type": "execute_result"
    }
   ],
   "source": [
    "# ANSWER\n",
    "printTableSchema(table)"
   ]
  },
  {
   "cell_type": "markdown",
   "metadata": {
    "id": "Q1YugUUhLFZ-"
   },
   "source": [
    "Now that we know what the columns are, we can write queries. Actually, we construct a query job by assigning an SQL statement to a method of the `client` object:"
   ]
  },
  {
   "cell_type": "code",
   "execution_count": 27,
   "metadata": {
    "collapsed": true,
    "id": "Gq7cGALfLFZ-",
    "jupyter": {
     "outputs_hidden": true
    },
    "tags": []
   },
   "outputs": [
    {
     "ename": "Forbidden",
     "evalue": "403 POST https://bigquery.googleapis.com/bigquery/v2/projects/bigquery-public-data/jobs?prettyPrint=false: Access Denied: Project bigquery-public-data: User does not have bigquery.jobs.create permission in project bigquery-public-data.\n\nLocation: None\nJob ID: 1e5628ae-8dc1-41f2-a112-8ce44765a272\n",
     "output_type": "error",
     "traceback": [
      "\u001b[0;31m---------------------------------------------------------------------------\u001b[0m",
      "\u001b[0;31mForbidden\u001b[0m                                 Traceback (most recent call last)",
      "Cell \u001b[0;32mIn[27], line 2\u001b[0m\n\u001b[1;32m      1\u001b[0m sql \u001b[38;5;241m=\u001b[39m \u001b[38;5;124m\"\u001b[39m\u001b[38;5;124mSELECT COUNT(1) FROM `bigquery-public-data.samples.shakespeare`\u001b[39m\u001b[38;5;124m\"\u001b[39m\n\u001b[0;32m----> 2\u001b[0m query_job \u001b[38;5;241m=\u001b[39m \u001b[43mclient\u001b[49m\u001b[38;5;241;43m.\u001b[39;49m\u001b[43mquery\u001b[49m\u001b[43m(\u001b[49m\u001b[43msql\u001b[49m\u001b[43m)\u001b[49m\n",
      "File \u001b[0;32m~/anaconda3/lib/python3.10/site-packages/google/cloud/bigquery/client.py:3408\u001b[0m, in \u001b[0;36mClient.query\u001b[0;34m(self, query, job_config, job_id, job_id_prefix, location, project, retry, timeout, job_retry, api_method)\u001b[0m\n\u001b[1;32m   3397\u001b[0m     \u001b[38;5;28;01mreturn\u001b[39;00m _job_helpers\u001b[38;5;241m.\u001b[39mquery_jobs_query(\n\u001b[1;32m   3398\u001b[0m         \u001b[38;5;28mself\u001b[39m,\n\u001b[1;32m   3399\u001b[0m         query,\n\u001b[0;32m   (...)\u001b[0m\n\u001b[1;32m   3405\u001b[0m         job_retry,\n\u001b[1;32m   3406\u001b[0m     )\n\u001b[1;32m   3407\u001b[0m \u001b[38;5;28;01melif\u001b[39;00m api_method \u001b[38;5;241m==\u001b[39m enums\u001b[38;5;241m.\u001b[39mQueryApiMethod\u001b[38;5;241m.\u001b[39mINSERT:\n\u001b[0;32m-> 3408\u001b[0m     \u001b[38;5;28;01mreturn\u001b[39;00m \u001b[43m_job_helpers\u001b[49m\u001b[38;5;241;43m.\u001b[39;49m\u001b[43mquery_jobs_insert\u001b[49m\u001b[43m(\u001b[49m\n\u001b[1;32m   3409\u001b[0m \u001b[43m        \u001b[49m\u001b[38;5;28;43mself\u001b[39;49m\u001b[43m,\u001b[49m\n\u001b[1;32m   3410\u001b[0m \u001b[43m        \u001b[49m\u001b[43mquery\u001b[49m\u001b[43m,\u001b[49m\n\u001b[1;32m   3411\u001b[0m \u001b[43m        \u001b[49m\u001b[43mjob_config\u001b[49m\u001b[43m,\u001b[49m\n\u001b[1;32m   3412\u001b[0m \u001b[43m        \u001b[49m\u001b[43mjob_id\u001b[49m\u001b[43m,\u001b[49m\n\u001b[1;32m   3413\u001b[0m \u001b[43m        \u001b[49m\u001b[43mjob_id_prefix\u001b[49m\u001b[43m,\u001b[49m\n\u001b[1;32m   3414\u001b[0m \u001b[43m        \u001b[49m\u001b[43mlocation\u001b[49m\u001b[43m,\u001b[49m\n\u001b[1;32m   3415\u001b[0m \u001b[43m        \u001b[49m\u001b[43mproject\u001b[49m\u001b[43m,\u001b[49m\n\u001b[1;32m   3416\u001b[0m \u001b[43m        \u001b[49m\u001b[43mretry\u001b[49m\u001b[43m,\u001b[49m\n\u001b[1;32m   3417\u001b[0m \u001b[43m        \u001b[49m\u001b[43mtimeout\u001b[49m\u001b[43m,\u001b[49m\n\u001b[1;32m   3418\u001b[0m \u001b[43m        \u001b[49m\u001b[43mjob_retry\u001b[49m\u001b[43m,\u001b[49m\n\u001b[1;32m   3419\u001b[0m \u001b[43m    \u001b[49m\u001b[43m)\u001b[49m\n\u001b[1;32m   3420\u001b[0m \u001b[38;5;28;01melse\u001b[39;00m:\n\u001b[1;32m   3421\u001b[0m     \u001b[38;5;28;01mraise\u001b[39;00m \u001b[38;5;167;01mValueError\u001b[39;00m(\u001b[38;5;124mf\u001b[39m\u001b[38;5;124m\"\u001b[39m\u001b[38;5;124mGot unexpected value for api_method: \u001b[39m\u001b[38;5;132;01m{\u001b[39;00m\u001b[38;5;28mrepr\u001b[39m(api_method)\u001b[38;5;132;01m}\u001b[39;00m\u001b[38;5;124m\"\u001b[39m)\n",
      "File \u001b[0;32m~/anaconda3/lib/python3.10/site-packages/google/cloud/bigquery/_job_helpers.py:114\u001b[0m, in \u001b[0;36mquery_jobs_insert\u001b[0;34m(client, query, job_config, job_id, job_id_prefix, location, project, retry, timeout, job_retry)\u001b[0m\n\u001b[1;32m    111\u001b[0m     \u001b[38;5;28;01melse\u001b[39;00m:\n\u001b[1;32m    112\u001b[0m         \u001b[38;5;28;01mreturn\u001b[39;00m query_job\n\u001b[0;32m--> 114\u001b[0m future \u001b[38;5;241m=\u001b[39m \u001b[43mdo_query\u001b[49m\u001b[43m(\u001b[49m\u001b[43m)\u001b[49m\n\u001b[1;32m    115\u001b[0m \u001b[38;5;66;03m# The future might be in a failed state now, but if it's\u001b[39;00m\n\u001b[1;32m    116\u001b[0m \u001b[38;5;66;03m# unrecoverable, we'll find out when we ask for it's result, at which\u001b[39;00m\n\u001b[1;32m    117\u001b[0m \u001b[38;5;66;03m# point, we may retry.\u001b[39;00m\n\u001b[1;32m    118\u001b[0m \u001b[38;5;28;01mif\u001b[39;00m \u001b[38;5;129;01mnot\u001b[39;00m job_id_given:\n",
      "File \u001b[0;32m~/anaconda3/lib/python3.10/site-packages/google/cloud/bigquery/_job_helpers.py:91\u001b[0m, in \u001b[0;36mquery_jobs_insert.<locals>.do_query\u001b[0;34m()\u001b[0m\n\u001b[1;32m     88\u001b[0m query_job \u001b[38;5;241m=\u001b[39m job\u001b[38;5;241m.\u001b[39mQueryJob(job_ref, query, client\u001b[38;5;241m=\u001b[39mclient, job_config\u001b[38;5;241m=\u001b[39mjob_config)\n\u001b[1;32m     90\u001b[0m \u001b[38;5;28;01mtry\u001b[39;00m:\n\u001b[0;32m---> 91\u001b[0m     \u001b[43mquery_job\u001b[49m\u001b[38;5;241;43m.\u001b[39;49m\u001b[43m_begin\u001b[49m\u001b[43m(\u001b[49m\u001b[43mretry\u001b[49m\u001b[38;5;241;43m=\u001b[39;49m\u001b[43mretry\u001b[49m\u001b[43m,\u001b[49m\u001b[43m \u001b[49m\u001b[43mtimeout\u001b[49m\u001b[38;5;241;43m=\u001b[39;49m\u001b[43mtimeout\u001b[49m\u001b[43m)\u001b[49m\n\u001b[1;32m     92\u001b[0m \u001b[38;5;28;01mexcept\u001b[39;00m core_exceptions\u001b[38;5;241m.\u001b[39mConflict \u001b[38;5;28;01mas\u001b[39;00m create_exc:\n\u001b[1;32m     93\u001b[0m     \u001b[38;5;66;03m# The thought is if someone is providing their own job IDs and they get\u001b[39;00m\n\u001b[1;32m     94\u001b[0m     \u001b[38;5;66;03m# their job ID generation wrong, this could end up returning results for\u001b[39;00m\n\u001b[1;32m     95\u001b[0m     \u001b[38;5;66;03m# the wrong query. We thus only try to recover if job ID was not given.\u001b[39;00m\n\u001b[1;32m     96\u001b[0m     \u001b[38;5;28;01mif\u001b[39;00m job_id_given:\n",
      "File \u001b[0;32m~/anaconda3/lib/python3.10/site-packages/google/cloud/bigquery/job/query.py:1310\u001b[0m, in \u001b[0;36mQueryJob._begin\u001b[0;34m(self, client, retry, timeout)\u001b[0m\n\u001b[1;32m   1290\u001b[0m \u001b[38;5;124;03m\"\"\"API call:  begin the job via a POST request\u001b[39;00m\n\u001b[1;32m   1291\u001b[0m \n\u001b[1;32m   1292\u001b[0m \u001b[38;5;124;03mSee\u001b[39;00m\n\u001b[0;32m   (...)\u001b[0m\n\u001b[1;32m   1306\u001b[0m \u001b[38;5;124;03m    ValueError: If the job has already begun.\u001b[39;00m\n\u001b[1;32m   1307\u001b[0m \u001b[38;5;124;03m\"\"\"\u001b[39;00m\n\u001b[1;32m   1309\u001b[0m \u001b[38;5;28;01mtry\u001b[39;00m:\n\u001b[0;32m-> 1310\u001b[0m     \u001b[38;5;28;43msuper\u001b[39;49m\u001b[43m(\u001b[49m\u001b[43mQueryJob\u001b[49m\u001b[43m,\u001b[49m\u001b[43m \u001b[49m\u001b[38;5;28;43mself\u001b[39;49m\u001b[43m)\u001b[49m\u001b[38;5;241;43m.\u001b[39;49m\u001b[43m_begin\u001b[49m\u001b[43m(\u001b[49m\u001b[43mclient\u001b[49m\u001b[38;5;241;43m=\u001b[39;49m\u001b[43mclient\u001b[49m\u001b[43m,\u001b[49m\u001b[43m \u001b[49m\u001b[43mretry\u001b[49m\u001b[38;5;241;43m=\u001b[39;49m\u001b[43mretry\u001b[49m\u001b[43m,\u001b[49m\u001b[43m \u001b[49m\u001b[43mtimeout\u001b[49m\u001b[38;5;241;43m=\u001b[39;49m\u001b[43mtimeout\u001b[49m\u001b[43m)\u001b[49m\n\u001b[1;32m   1311\u001b[0m \u001b[38;5;28;01mexcept\u001b[39;00m exceptions\u001b[38;5;241m.\u001b[39mGoogleAPICallError \u001b[38;5;28;01mas\u001b[39;00m exc:\n\u001b[1;32m   1312\u001b[0m     exc\u001b[38;5;241m.\u001b[39mmessage \u001b[38;5;241m=\u001b[39m _EXCEPTION_FOOTER_TEMPLATE\u001b[38;5;241m.\u001b[39mformat(\n\u001b[1;32m   1313\u001b[0m         message\u001b[38;5;241m=\u001b[39mexc\u001b[38;5;241m.\u001b[39mmessage, location\u001b[38;5;241m=\u001b[39m\u001b[38;5;28mself\u001b[39m\u001b[38;5;241m.\u001b[39mlocation, job_id\u001b[38;5;241m=\u001b[39m\u001b[38;5;28mself\u001b[39m\u001b[38;5;241m.\u001b[39mjob_id\n\u001b[1;32m   1314\u001b[0m     )\n",
      "File \u001b[0;32m~/anaconda3/lib/python3.10/site-packages/google/cloud/bigquery/job/base.py:693\u001b[0m, in \u001b[0;36m_AsyncJob._begin\u001b[0;34m(self, client, retry, timeout)\u001b[0m\n\u001b[1;32m    690\u001b[0m \u001b[38;5;66;03m# jobs.insert is idempotent because we ensure that every new\u001b[39;00m\n\u001b[1;32m    691\u001b[0m \u001b[38;5;66;03m# job has an ID.\u001b[39;00m\n\u001b[1;32m    692\u001b[0m span_attributes \u001b[38;5;241m=\u001b[39m {\u001b[38;5;124m\"\u001b[39m\u001b[38;5;124mpath\u001b[39m\u001b[38;5;124m\"\u001b[39m: path}\n\u001b[0;32m--> 693\u001b[0m api_response \u001b[38;5;241m=\u001b[39m \u001b[43mclient\u001b[49m\u001b[38;5;241;43m.\u001b[39;49m\u001b[43m_call_api\u001b[49m\u001b[43m(\u001b[49m\n\u001b[1;32m    694\u001b[0m \u001b[43m    \u001b[49m\u001b[43mretry\u001b[49m\u001b[43m,\u001b[49m\n\u001b[1;32m    695\u001b[0m \u001b[43m    \u001b[49m\u001b[43mspan_name\u001b[49m\u001b[38;5;241;43m=\u001b[39;49m\u001b[38;5;124;43m\"\u001b[39;49m\u001b[38;5;124;43mBigQuery.job.begin\u001b[39;49m\u001b[38;5;124;43m\"\u001b[39;49m\u001b[43m,\u001b[49m\n\u001b[1;32m    696\u001b[0m \u001b[43m    \u001b[49m\u001b[43mspan_attributes\u001b[49m\u001b[38;5;241;43m=\u001b[39;49m\u001b[43mspan_attributes\u001b[49m\u001b[43m,\u001b[49m\n\u001b[1;32m    697\u001b[0m \u001b[43m    \u001b[49m\u001b[43mjob_ref\u001b[49m\u001b[38;5;241;43m=\u001b[39;49m\u001b[38;5;28;43mself\u001b[39;49m\u001b[43m,\u001b[49m\n\u001b[1;32m    698\u001b[0m \u001b[43m    \u001b[49m\u001b[43mmethod\u001b[49m\u001b[38;5;241;43m=\u001b[39;49m\u001b[38;5;124;43m\"\u001b[39;49m\u001b[38;5;124;43mPOST\u001b[39;49m\u001b[38;5;124;43m\"\u001b[39;49m\u001b[43m,\u001b[49m\n\u001b[1;32m    699\u001b[0m \u001b[43m    \u001b[49m\u001b[43mpath\u001b[49m\u001b[38;5;241;43m=\u001b[39;49m\u001b[43mpath\u001b[49m\u001b[43m,\u001b[49m\n\u001b[1;32m    700\u001b[0m \u001b[43m    \u001b[49m\u001b[43mdata\u001b[49m\u001b[38;5;241;43m=\u001b[39;49m\u001b[38;5;28;43mself\u001b[39;49m\u001b[38;5;241;43m.\u001b[39;49m\u001b[43mto_api_repr\u001b[49m\u001b[43m(\u001b[49m\u001b[43m)\u001b[49m\u001b[43m,\u001b[49m\n\u001b[1;32m    701\u001b[0m \u001b[43m    \u001b[49m\u001b[43mtimeout\u001b[49m\u001b[38;5;241;43m=\u001b[39;49m\u001b[43mtimeout\u001b[49m\u001b[43m,\u001b[49m\n\u001b[1;32m    702\u001b[0m \u001b[43m\u001b[49m\u001b[43m)\u001b[49m\n\u001b[1;32m    703\u001b[0m \u001b[38;5;28mself\u001b[39m\u001b[38;5;241m.\u001b[39m_set_properties(api_response)\n",
      "File \u001b[0;32m~/anaconda3/lib/python3.10/site-packages/google/cloud/bigquery/client.py:816\u001b[0m, in \u001b[0;36mClient._call_api\u001b[0;34m(self, retry, span_name, span_attributes, job_ref, headers, **kwargs)\u001b[0m\n\u001b[1;32m    812\u001b[0m \u001b[38;5;28;01mif\u001b[39;00m span_name \u001b[38;5;129;01mis\u001b[39;00m \u001b[38;5;129;01mnot\u001b[39;00m \u001b[38;5;28;01mNone\u001b[39;00m:\n\u001b[1;32m    813\u001b[0m     \u001b[38;5;28;01mwith\u001b[39;00m create_span(\n\u001b[1;32m    814\u001b[0m         name\u001b[38;5;241m=\u001b[39mspan_name, attributes\u001b[38;5;241m=\u001b[39mspan_attributes, client\u001b[38;5;241m=\u001b[39m\u001b[38;5;28mself\u001b[39m, job_ref\u001b[38;5;241m=\u001b[39mjob_ref\n\u001b[1;32m    815\u001b[0m     ):\n\u001b[0;32m--> 816\u001b[0m         \u001b[38;5;28;01mreturn\u001b[39;00m \u001b[43mcall\u001b[49m\u001b[43m(\u001b[49m\u001b[43m)\u001b[49m\n\u001b[1;32m    818\u001b[0m \u001b[38;5;28;01mreturn\u001b[39;00m call()\n",
      "File \u001b[0;32m~/anaconda3/lib/python3.10/site-packages/google/api_core/retry.py:366\u001b[0m, in \u001b[0;36mRetry.__call__.<locals>.retry_wrapped_func\u001b[0;34m(*args, **kwargs)\u001b[0m\n\u001b[1;32m    362\u001b[0m target \u001b[38;5;241m=\u001b[39m functools\u001b[38;5;241m.\u001b[39mpartial(func, \u001b[38;5;241m*\u001b[39margs, \u001b[38;5;241m*\u001b[39m\u001b[38;5;241m*\u001b[39mkwargs)\n\u001b[1;32m    363\u001b[0m sleep_generator \u001b[38;5;241m=\u001b[39m exponential_sleep_generator(\n\u001b[1;32m    364\u001b[0m     \u001b[38;5;28mself\u001b[39m\u001b[38;5;241m.\u001b[39m_initial, \u001b[38;5;28mself\u001b[39m\u001b[38;5;241m.\u001b[39m_maximum, multiplier\u001b[38;5;241m=\u001b[39m\u001b[38;5;28mself\u001b[39m\u001b[38;5;241m.\u001b[39m_multiplier\n\u001b[1;32m    365\u001b[0m )\n\u001b[0;32m--> 366\u001b[0m \u001b[38;5;28;01mreturn\u001b[39;00m \u001b[43mretry_target\u001b[49m\u001b[43m(\u001b[49m\n\u001b[1;32m    367\u001b[0m \u001b[43m    \u001b[49m\u001b[43mtarget\u001b[49m\u001b[43m,\u001b[49m\n\u001b[1;32m    368\u001b[0m \u001b[43m    \u001b[49m\u001b[38;5;28;43mself\u001b[39;49m\u001b[38;5;241;43m.\u001b[39;49m\u001b[43m_predicate\u001b[49m\u001b[43m,\u001b[49m\n\u001b[1;32m    369\u001b[0m \u001b[43m    \u001b[49m\u001b[43msleep_generator\u001b[49m\u001b[43m,\u001b[49m\n\u001b[1;32m    370\u001b[0m \u001b[43m    \u001b[49m\u001b[38;5;28;43mself\u001b[39;49m\u001b[38;5;241;43m.\u001b[39;49m\u001b[43m_timeout\u001b[49m\u001b[43m,\u001b[49m\n\u001b[1;32m    371\u001b[0m \u001b[43m    \u001b[49m\u001b[43mon_error\u001b[49m\u001b[38;5;241;43m=\u001b[39;49m\u001b[43mon_error\u001b[49m\u001b[43m,\u001b[49m\n\u001b[1;32m    372\u001b[0m \u001b[43m\u001b[49m\u001b[43m)\u001b[49m\n",
      "File \u001b[0;32m~/anaconda3/lib/python3.10/site-packages/google/api_core/retry.py:204\u001b[0m, in \u001b[0;36mretry_target\u001b[0;34m(target, predicate, sleep_generator, timeout, on_error, **kwargs)\u001b[0m\n\u001b[1;32m    202\u001b[0m \u001b[38;5;28;01mfor\u001b[39;00m sleep \u001b[38;5;129;01min\u001b[39;00m sleep_generator:\n\u001b[1;32m    203\u001b[0m     \u001b[38;5;28;01mtry\u001b[39;00m:\n\u001b[0;32m--> 204\u001b[0m         \u001b[38;5;28;01mreturn\u001b[39;00m \u001b[43mtarget\u001b[49m\u001b[43m(\u001b[49m\u001b[43m)\u001b[49m\n\u001b[1;32m    206\u001b[0m     \u001b[38;5;66;03m# pylint: disable=broad-except\u001b[39;00m\n\u001b[1;32m    207\u001b[0m     \u001b[38;5;66;03m# This function explicitly must deal with broad exceptions.\u001b[39;00m\n\u001b[1;32m    208\u001b[0m     \u001b[38;5;28;01mexcept\u001b[39;00m \u001b[38;5;167;01mException\u001b[39;00m \u001b[38;5;28;01mas\u001b[39;00m exc:\n",
      "File \u001b[0;32m~/anaconda3/lib/python3.10/site-packages/google/cloud/_http/__init__.py:494\u001b[0m, in \u001b[0;36mJSONConnection.api_request\u001b[0;34m(self, method, path, query_params, data, content_type, headers, api_base_url, api_version, expect_json, _target_object, timeout, extra_api_info)\u001b[0m\n\u001b[1;32m    482\u001b[0m response \u001b[38;5;241m=\u001b[39m \u001b[38;5;28mself\u001b[39m\u001b[38;5;241m.\u001b[39m_make_request(\n\u001b[1;32m    483\u001b[0m     method\u001b[38;5;241m=\u001b[39mmethod,\n\u001b[1;32m    484\u001b[0m     url\u001b[38;5;241m=\u001b[39murl,\n\u001b[0;32m   (...)\u001b[0m\n\u001b[1;32m    490\u001b[0m     extra_api_info\u001b[38;5;241m=\u001b[39mextra_api_info,\n\u001b[1;32m    491\u001b[0m )\n\u001b[1;32m    493\u001b[0m \u001b[38;5;28;01mif\u001b[39;00m \u001b[38;5;129;01mnot\u001b[39;00m \u001b[38;5;241m200\u001b[39m \u001b[38;5;241m<\u001b[39m\u001b[38;5;241m=\u001b[39m response\u001b[38;5;241m.\u001b[39mstatus_code \u001b[38;5;241m<\u001b[39m \u001b[38;5;241m300\u001b[39m:\n\u001b[0;32m--> 494\u001b[0m     \u001b[38;5;28;01mraise\u001b[39;00m exceptions\u001b[38;5;241m.\u001b[39mfrom_http_response(response)\n\u001b[1;32m    496\u001b[0m \u001b[38;5;28;01mif\u001b[39;00m expect_json \u001b[38;5;129;01mand\u001b[39;00m response\u001b[38;5;241m.\u001b[39mcontent:\n\u001b[1;32m    497\u001b[0m     \u001b[38;5;28;01mreturn\u001b[39;00m response\u001b[38;5;241m.\u001b[39mjson()\n",
      "\u001b[0;31mForbidden\u001b[0m: 403 POST https://bigquery.googleapis.com/bigquery/v2/projects/bigquery-public-data/jobs?prettyPrint=false: Access Denied: Project bigquery-public-data: User does not have bigquery.jobs.create permission in project bigquery-public-data.\n\nLocation: None\nJob ID: 1e5628ae-8dc1-41f2-a112-8ce44765a272\n"
     ]
    }
   ],
   "source": [
    "sql = \"SELECT COUNT(1) FROM `bigquery-public-data.samples.shakespeare`\"\n",
    "query_job = client.query(sql)"
   ]
  },
  {
   "cell_type": "markdown",
   "metadata": {
    "id": "DJVssU3mLFZ_"
   },
   "source": [
    "Why does this throw an error?"
   ]
  },
  {
   "cell_type": "markdown",
   "metadata": {
    "id": "4feq3JaqLFZ_"
   },
   "source": [
    "ANSWER: \n",
    "\n",
    "Because, without authentication, a user does not have query permission in bigquery-public-data.\n",
    "\n",
    "So, what can we do?"
   ]
  },
  {
   "cell_type": "markdown",
   "metadata": {
    "id": "hCVH3AxrLFaA"
   },
   "source": [
    "Connect to your own BigQuery project. The code below sets up a connection to Google BigQuery using authentication credentials from a JSON file (key_path) and then prepares to execute a specific SQL query (sql) on the BigQuery service.\n",
    "\n",
    "client = bigquery.Client.from_service_account_json(key_path, project = 'myreallybigquery') #<<< your BigQuery project ID here!"
   ]
  },
  {
   "cell_type": "code",
   "execution_count": 29,
   "metadata": {},
   "outputs": [],
   "source": [
    "# ANSWER\n",
    "client = bigquery.Client.from_service_account_json(key_path)\n",
    "query_job = client.query(sql)"
   ]
  },
  {
   "cell_type": "markdown",
   "metadata": {
    "id": "TTfuF8J0LFaA"
   },
   "source": [
    "If that worked, show what query_job is:"
   ]
  },
  {
   "cell_type": "code",
   "execution_count": 30,
   "metadata": {
    "id": "ZmiGhS0ALFaA"
   },
   "outputs": [
    {
     "data": {
      "text/plain": [
       "google.cloud.bigquery.job.query.QueryJob"
      ]
     },
     "execution_count": 30,
     "metadata": {},
     "output_type": "execute_result"
    }
   ],
   "source": [
    "# ANSWER\n",
    "type(query_job)"
   ]
  },
  {
   "cell_type": "markdown",
   "metadata": {
    "id": "Src6_5auLFaB"
   },
   "source": [
    "Once again, due to lazy execution, no actual execution occurs until we request output:"
   ]
  },
  {
   "cell_type": "code",
   "execution_count": 31,
   "metadata": {
    "id": "FCz4Yw9jLFaB"
   },
   "outputs": [
    {
     "name": "stdout",
     "output_type": "stream",
     "text": [
      "Row((164656,), {'f0_': 0})\n"
     ]
    }
   ],
   "source": [
    "for row in query_job:  # API request - fetches results\n",
    "    print(row)"
   ]
  },
  {
   "cell_type": "markdown",
   "metadata": {
    "id": "CQG3a1oALFaC"
   },
   "source": [
    "And, again, we need to manipulate this to make it neat. Each member of the rowset is a list and we only want to extract the value, which is in the first member:"
   ]
  },
  {
   "cell_type": "code",
   "execution_count": 32,
   "metadata": {
    "id": "Qcq2F5vzLFaC"
   },
   "outputs": [
    {
     "name": "stdout",
     "output_type": "stream",
     "text": [
      "164656\n"
     ]
    }
   ],
   "source": [
    "print(row[0])"
   ]
  },
  {
   "cell_type": "markdown",
   "metadata": {
    "id": "cPqWb1_YLFaD"
   },
   "source": [
    "So, we now know that this table has 164,656 rows. (We would not want to print it!)"
   ]
  },
  {
   "cell_type": "markdown",
   "metadata": {
    "id": "6idZY0-3LFaD"
   },
   "source": [
    "A better coding practice is to write SQL statements that assign names (aliases) to derived values, so we don't forget what the resulting rowset contains. Rewrite the above SQL statement so that the value returned is aliased a \"num_rows\", and assign the QueryJob as above:"
   ]
  },
  {
   "cell_type": "code",
   "execution_count": 36,
   "metadata": {
    "id": "NeHVJAm5LFaD"
   },
   "outputs": [],
   "source": [
    "# ANSWER\n",
    "sql = \"SELECT COUNT(1) AS num_rows FROM `bigquery-public-data.samples.shakespeare`\"\n",
    "query_job = client.query(sql)"
   ]
  },
  {
   "cell_type": "markdown",
   "metadata": {
    "id": "XUFlZ66lLFaE"
   },
   "source": [
    "Now we could use Python's `assert` statement to build a test into the first code block that operates on the rowset:"
   ]
  },
  {
   "cell_type": "code",
   "execution_count": 37,
   "metadata": {
    "id": "6MHaNZh0LFaE"
   },
   "outputs": [
    {
     "name": "stdout",
     "output_type": "stream",
     "text": [
      "164656\n"
     ]
    }
   ],
   "source": [
    "for row in query_job:  # API request - fetches results\n",
    "    # Row values can be accessed by field name or index:\n",
    "    assert row[0] == row.num_rows == row['num_rows']  #: for debugging bad sql\n",
    "    print(row.num_rows)"
   ]
  },
  {
   "cell_type": "markdown",
   "metadata": {
    "id": "fP4GpU02LFaF"
   },
   "source": [
    "The above code checks that the name attribute of the value in `row[0]` is what we expected (i.e. \"num_rows\"). Also, it shows that we can refer to a field in a row by its object member `num_rows` or by using the same notation we use for Python dictionaries, `['num_rows']`. "
   ]
  },
  {
   "cell_type": "markdown",
   "metadata": {
    "id": "y83gunLZLFaF"
   },
   "source": [
    "Write, execute, and print the results of a query that fetches 10 rows from the table, each containing the \"word\", \"word_count\", and \"corpus\" fields: "
   ]
  },
  {
   "cell_type": "code",
   "execution_count": 39,
   "metadata": {
    "id": "xhvBwHzpLFaG"
   },
   "outputs": [
    {
     "name": "stdout",
     "output_type": "stream",
     "text": [
      "LVII 1 sonnets\n",
      "augurs 1 sonnets\n",
      "dimm'd 1 sonnets\n",
      "plagues 1 sonnets\n",
      "treason 1 sonnets\n",
      "surmise 1 sonnets\n",
      "heed 1 sonnets\n",
      "Unthrifty 1 sonnets\n",
      "quality 1 sonnets\n",
      "wherever 1 sonnets\n"
     ]
    }
   ],
   "source": [
    "# ANSWER\n",
    "sql = \"SELECT word, word_count, corpus FROM `bigquery-public-data.samples.shakespeare` LIMIT 10\"\n",
    "query_job = client.query(sql)\n",
    "\n",
    "# print these as above:\n",
    "for row in query_job:  # API request - fetches results\n",
    "    # Now have 3 fields to test (Nb. this approach may be overkill for non-production code):\n",
    "    assert row[0] == row.word == row['word']\n",
    "    assert row[1] == row.word_count == row['word_count']\n",
    "    assert row[2] == row.corpus == row['corpus']\n",
    "    print(row['word'], row['word_count'], row['corpus'])"
   ]
  },
  {
   "cell_type": "markdown",
   "metadata": {
    "id": "OlGpm9dmLFaH"
   },
   "source": [
    "(NOTE: Using `assert` religiously is good practice and will make debugging easier, but is probably overkill for non-production code.)"
   ]
  },
  {
   "cell_type": "markdown",
   "metadata": {
    "id": "md6tWVvHLFaH"
   },
   "source": [
    "Whenever you catch yourself writing a swag of code to do something that seems rudimentary or low-level, there is a very good chance that you don't need to. A much easier way to handle the above requirement is to use the `to_dataframe` method of the QueryJob object:"
   ]
  },
  {
   "cell_type": "raw",
   "metadata": {},
   "source": [
    "# Firstly, install db-dtypes\n",
    "pip install db-dtypes"
   ]
  },
  {
   "cell_type": "code",
   "execution_count": 40,
   "metadata": {
    "id": "19bjagBHLFaH"
   },
   "outputs": [
    {
     "name": "stdout",
     "output_type": "stream",
     "text": [
      "        word  word_count   corpus\n",
      "0       LVII           1  sonnets\n",
      "1     augurs           1  sonnets\n",
      "2     dimm'd           1  sonnets\n",
      "3    plagues           1  sonnets\n",
      "4    treason           1  sonnets\n",
      "5    surmise           1  sonnets\n",
      "6       heed           1  sonnets\n",
      "7  Unthrifty           1  sonnets\n",
      "8    quality           1  sonnets\n",
      "9   wherever           1  sonnets\n"
     ]
    }
   ],
   "source": [
    "df = query_job.to_dataframe()\n",
    "print(df)"
   ]
  },
  {
   "cell_type": "markdown",
   "metadata": {
    "id": "Qc7vdIfALFaJ"
   },
   "source": [
    "Although the above doesn't use `assert` (which you might still want to include in some test code), you will be able to tell at a glance if something is wrong with the contents of the DataFrame."
   ]
  },
  {
   "cell_type": "markdown",
   "metadata": {
    "id": "DsWSuO95LFaJ"
   },
   "source": [
    "#### Final Notes"
   ]
  },
  {
   "cell_type": "markdown",
   "metadata": {
    "id": "4mKynMuNLFaJ"
   },
   "source": [
    "1. Here is a readable way to code long SQL statements:"
   ]
  },
  {
   "cell_type": "code",
   "execution_count": null,
   "metadata": {
    "id": "8nm7i1-rLFaJ"
   },
   "outputs": [],
   "source": [
    "sql = \"\"\"\n",
    "    SELECT word, word_count, corpus \n",
    "    FROM `bigquery-public-data.samples.shakespeare` \n",
    "    LIMIT 10\n",
    "    \"\"\""
   ]
  },
  {
   "cell_type": "markdown",
   "metadata": {
    "id": "1j2w1aovLFaK"
   },
   "source": [
    "2. If you had an application that needed to modify the tables or datasets in the `bigquery-public-data` is project, you could copy them to our own project, where you would have the permissions to do as you please with the data (subject to Google's terms of use)."
   ]
  },
  {
   "cell_type": "markdown",
   "metadata": {
    "id": "mOAZyGTcLFaL"
   },
   "source": [
    "3. We aren't limited to the datasets that are already in BigQuery. We can upload tables from our computer, and we can pull data in from other online sources. We will cover these tasks in another module."
   ]
  },
  {
   "cell_type": "markdown",
   "metadata": {
    "id": "PJmK2n7vLFaL"
   },
   "source": [
    "#### Next Steps\n",
    "\n",
    "If you wish to pick up a few more skills you can go to https://cloud.google.com/bigquery/create-simple-app-api. (Note that we have already been through the preliminaries, so you can start at \"Download the sample code\".)\n",
    "\n",
    "Alternatively, you can take a deeper dive into the API here: https://googlecloudplatform.github.io/google-cloud-python/latest/bigquery/usage.html."
   ]
  },
  {
   "cell_type": "markdown",
   "metadata": {
    "id": "OFNsekmxLFaM"
   },
   "source": [
    "## - END -"
   ]
  },
  {
   "cell_type": "markdown",
   "metadata": {
    "id": "KBAJLLeXLHs8"
   },
   "source": [
    ">\n",
    ">\n"
   ]
  },
  {
   "cell_type": "markdown",
   "metadata": {
    "id": "V1AVU7q-LIuO"
   },
   "source": [
    ">\n",
    ">\n"
   ]
  },
  {
   "cell_type": "markdown",
   "metadata": {
    "id": "Fpehj_5ELJk9"
   },
   "source": [
    "\n",
    "\n",
    "---\n",
    "\n",
    "\n",
    "\n",
    "---\n",
    "\n",
    "\n",
    "\n",
    "> > > > > > > > > © 2023 Institute of Data\n",
    "\n",
    "\n",
    "---\n",
    "\n",
    "\n",
    "\n",
    "---\n",
    "\n",
    "\n",
    "\n"
   ]
  }
 ],
 "metadata": {
  "colab": {
   "collapsed_sections": [
    "PJmK2n7vLFaL"
   ],
   "provenance": []
  },
  "kernelspec": {
   "display_name": "Python 3 (ipykernel)",
   "language": "python",
   "name": "python3"
  },
  "language_info": {
   "codemirror_mode": {
    "name": "ipython",
    "version": 3
   },
   "file_extension": ".py",
   "mimetype": "text/x-python",
   "name": "python",
   "nbconvert_exporter": "python",
   "pygments_lexer": "ipython3",
   "version": "3.10.9"
  }
 },
 "nbformat": 4,
 "nbformat_minor": 4
}
